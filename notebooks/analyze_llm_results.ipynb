{
 "cells": [
  {
   "cell_type": "markdown",
   "id": "acdbdba9",
   "metadata": {},
   "source": [
    "# KBLI LLM Classification Results Analysis\n",
    "\n",
    "This notebook analyzes the results from LLM processing of KBLI classification tasks. It examines self-consistency across multiple runs, confidence distributions, and model performance metrics.\n",
    "\n",
    "## Overview\n",
    "- **Data Source**: JSONL files from LLM processing pipeline\n",
    "- **Analysis Focus**: Self-consistency, confidence scores, classification accuracy\n",
    "- **Models**: Multiple Gemini model variants\n",
    "- **Methodology**: 3 runs per UUID for voting-based classification"
   ]
  },
  {
   "cell_type": "markdown",
   "id": "f892c798",
   "metadata": {},
   "source": [
    "## 1. Import Required Libraries\n",
    "\n",
    "Import necessary libraries for data analysis, visualization, and statistical calculations."
   ]
  },
  {
   "cell_type": "code",
   "execution_count": 4,
   "id": "dbf902a7",
   "metadata": {},
   "outputs": [
    {
     "name": "stdout",
     "output_type": "stream",
     "text": [
      "Libraries imported successfully!\n",
      "Analysis started at: 2025-07-30 11:48:01\n"
     ]
    }
   ],
   "source": [
    "import pandas as pd\n",
    "import json\n",
    "import numpy as np\n",
    "import matplotlib.pyplot as plt\n",
    "import seaborn as sns\n",
    "from pathlib import Path\n",
    "import warnings\n",
    "from datetime import datetime\n",
    "from collections import Counter, defaultdict\n",
    "import plotly.express as px\n",
    "import plotly.graph_objects as go\n",
    "from plotly.subplots import make_subplots\n",
    "\n",
    "# Configure visualization settings\n",
    "plt.style.use('default')\n",
    "sns.set_palette(\"husl\")\n",
    "warnings.filterwarnings('ignore')\n",
    "\n",
    "# Set pandas display options\n",
    "pd.set_option('display.max_columns', None)\n",
    "pd.set_option('display.max_rows', 100)\n",
    "pd.set_option('display.width', None)\n",
    "\n",
    "print(\"Libraries imported successfully!\")\n",
    "print(f\"Analysis started at: {datetime.now().strftime('%Y-%m-%d %H:%M:%S')}\")"
   ]
  },
  {
   "cell_type": "markdown",
   "id": "4542228b",
   "metadata": {},
   "source": [
    "## 2. Load JSONL Data\n",
    "\n",
    "Load and parse JSONL files from the results directory. Handle multiple model results and combine them for analysis."
   ]
  },
  {
   "cell_type": "code",
   "execution_count": 5,
   "id": "c4949351",
   "metadata": {},
   "outputs": [
    {
     "name": "stdout",
     "output_type": "stream",
     "text": [
      "Found 1 JSONL files:\n",
      "  - mini_test_with_ids_gemini-2_5-flash-lite.jsonl\n",
      "\n",
      "Loading mini_test_with_ids_gemini-2_5-flash-lite.jsonl...\n",
      "  Loaded 630 records\n",
      "\n",
      "Combined dataset: 630 total records\n",
      "Unique models: 1\n",
      "Unique UUIDs: 210\n"
     ]
    }
   ],
   "source": [
    "def load_jsonl_files(directory_path=\"../results/pilot/extract_llm/\"):\n",
    "    \"\"\"\n",
    "    Load all JSONL files from the specified directory.\n",
    "    \n",
    "    Returns:\n",
    "        dict: Dictionary with filename as key and DataFrame as value\n",
    "    \"\"\"\n",
    "    results_dir = Path(directory_path)\n",
    "    jsonl_files = list(results_dir.glob(\"*.jsonl\"))\n",
    "    \n",
    "    if not jsonl_files:\n",
    "        print(f\"No JSONL files found in {results_dir}\")\n",
    "        return {}\n",
    "    \n",
    "    print(f\"Found {len(jsonl_files)} JSONL files:\")\n",
    "    for file in jsonl_files:\n",
    "        print(f\"  - {file.name}\")\n",
    "    \n",
    "    all_data = {}\n",
    "    \n",
    "    for file_path in jsonl_files:\n",
    "        print(f\"\\nLoading {file_path.name}...\")\n",
    "        \n",
    "        data = []\n",
    "        try:\n",
    "            with open(file_path, 'r', encoding='utf-8') as f:\n",
    "                for line_num, line in enumerate(f, 1):\n",
    "                    line = line.strip()\n",
    "                    if line:\n",
    "                        try:\n",
    "                            record = json.loads(line)\n",
    "                            data.append(record)\n",
    "                        except json.JSONDecodeError as e:\n",
    "                            print(f\"  Warning: Invalid JSON on line {line_num}: {e}\")\n",
    "                            continue\n",
    "            \n",
    "            if data:\n",
    "                df = pd.DataFrame(data)\n",
    "                # Add source filename for tracking\n",
    "                df['source_file'] = file_path.name\n",
    "                all_data[file_path.name] = df\n",
    "                print(f\"  Loaded {len(df)} records\")\n",
    "            else:\n",
    "                print(f\"  No valid records found\")\n",
    "                \n",
    "        except Exception as e:\n",
    "            print(f\"  Error loading file: {e}\")\n",
    "    \n",
    "    return all_data\n",
    "\n",
    "# Load all JSONL files\n",
    "jsonl_data = load_jsonl_files()\n",
    "\n",
    "if jsonl_data:\n",
    "    # Combine all data into a single DataFrame\n",
    "    combined_df = pd.concat(jsonl_data.values(), ignore_index=True)\n",
    "    print(f\"\\nCombined dataset: {len(combined_df)} total records\")\n",
    "    print(f\"Unique models: {combined_df['model'].nunique()}\")\n",
    "    print(f\"Unique UUIDs: {combined_df['uuid'].nunique()}\")\n",
    "else:\n",
    "    print(\"No data loaded. Please check the file path and ensure JSONL files exist.\")"
   ]
  },
  {
   "cell_type": "markdown",
   "id": "6a8fdc52",
   "metadata": {},
   "source": [
    "## 3. Data Exploration and Overview\n",
    "\n",
    "Examine the structure and basic properties of the loaded LLM results data."
   ]
  },
  {
   "cell_type": "code",
   "execution_count": 6,
   "id": "f3acc99a",
   "metadata": {},
   "outputs": [
    {
     "name": "stdout",
     "output_type": "stream",
     "text": [
      "=== DATASET OVERVIEW ===\n",
      "Shape: (630, 13)\n",
      "Memory usage: 1.12 MB\n",
      "\n",
      "=== COLUMN INFORMATION ===\n",
      "Columns and data types:\n",
      "  uuid: object (630/630 non-null)\n",
      "  text: object (630/630 non-null)\n",
      "  kbli_code: object (630/630 non-null)\n",
      "  run_id: int64 (630/630 non-null)\n",
      "  model: object (630/630 non-null)\n",
      "  timestamp: object (630/630 non-null)\n",
      "  is_correct: bool (630/630 non-null)\n",
      "  confidence_score: float64 (630/630 non-null)\n",
      "  reasoning: object (630/630 non-null)\n",
      "  alternative_codes: object (630/630 non-null)\n",
      "  alternative_reasoning: object (630/630 non-null)\n",
      "  api_metadata: object (630/630 non-null)\n",
      "  source_file: object (630/630 non-null)\n",
      "\n",
      "=== PROCESSING STATISTICS ===\n",
      "Unique UUIDs: 210\n",
      "Unique models: 1\n",
      "Run distribution:\n",
      "run_id\n",
      "1    210\n",
      "2    210\n",
      "3    210\n",
      "Name: count, dtype: int64\n",
      "\n",
      "=== MODEL BREAKDOWN ===\n",
      "                       Unique UUIDs  Total Runs  Accuracy  Avg Confidence\n",
      "model                                                                    \n",
      "gemini-2.5-flash-lite           210         630     0.748            0.96\n",
      "\n",
      "=== TIME RANGE ===\n",
      "First record: 2025-07-30 11:06:13.468093\n",
      "Last record: 2025-07-30 11:47:40.947089\n",
      "Processing duration: 0 days 00:41:27.478996\n",
      "\n",
      "=== SAMPLE RECORDS ===\n",
      "First few records:\n",
      "                                   uuid kbli_code  run_id  \\\n",
      "0  39b18c08-eed8-4865-67ca-37c649c901f0     10110       1   \n",
      "1  39b18c08-eed8-4865-67ca-37c649c901f0     10110       2   \n",
      "2  39b18c08-eed8-4865-67ca-37c649c901f0     10110       3   \n",
      "3  edeb5038-7a66-490b-290c-caecba670930     10120       1   \n",
      "4  edeb5038-7a66-490b-290c-caecba670930     10120       2   \n",
      "\n",
      "                   model  is_correct  confidence_score  \n",
      "0  gemini-2.5-flash-lite        True               1.0  \n",
      "1  gemini-2.5-flash-lite        True               1.0  \n",
      "2  gemini-2.5-flash-lite        True               1.0  \n",
      "3  gemini-2.5-flash-lite        True               1.0  \n",
      "4  gemini-2.5-flash-lite        True               1.0  \n",
      "First record: 2025-07-30 11:06:13.468093\n",
      "Last record: 2025-07-30 11:47:40.947089\n",
      "Processing duration: 0 days 00:41:27.478996\n",
      "\n",
      "=== SAMPLE RECORDS ===\n",
      "First few records:\n",
      "                                   uuid kbli_code  run_id  \\\n",
      "0  39b18c08-eed8-4865-67ca-37c649c901f0     10110       1   \n",
      "1  39b18c08-eed8-4865-67ca-37c649c901f0     10110       2   \n",
      "2  39b18c08-eed8-4865-67ca-37c649c901f0     10110       3   \n",
      "3  edeb5038-7a66-490b-290c-caecba670930     10120       1   \n",
      "4  edeb5038-7a66-490b-290c-caecba670930     10120       2   \n",
      "\n",
      "                   model  is_correct  confidence_score  \n",
      "0  gemini-2.5-flash-lite        True               1.0  \n",
      "1  gemini-2.5-flash-lite        True               1.0  \n",
      "2  gemini-2.5-flash-lite        True               1.0  \n",
      "3  gemini-2.5-flash-lite        True               1.0  \n",
      "4  gemini-2.5-flash-lite        True               1.0  \n"
     ]
    }
   ],
   "source": [
    "if 'combined_df' in locals() and not combined_df.empty:\n",
    "    print(\"=== DATASET OVERVIEW ===\")\n",
    "    print(f\"Shape: {combined_df.shape}\")\n",
    "    print(f\"Memory usage: {combined_df.memory_usage(deep=True).sum() / 1024**2:.2f} MB\")\n",
    "    \n",
    "    print(f\"\\n=== COLUMN INFORMATION ===\")\n",
    "    print(\"Columns and data types:\")\n",
    "    for col, dtype in combined_df.dtypes.items():\n",
    "        non_null_count = combined_df[col].notna().sum()\n",
    "        print(f\"  {col}: {dtype} ({non_null_count}/{len(combined_df)} non-null)\")\n",
    "    \n",
    "    print(f\"\\n=== PROCESSING STATISTICS ===\")\n",
    "    print(f\"Unique UUIDs: {combined_df['uuid'].nunique()}\")\n",
    "    print(f\"Unique models: {combined_df['model'].nunique()}\")\n",
    "    print(f\"Run distribution:\")\n",
    "    print(combined_df['run_id'].value_counts().sort_index())\n",
    "    \n",
    "    print(f\"\\n=== MODEL BREAKDOWN ===\")\n",
    "    model_stats = combined_df.groupby('model').agg({\n",
    "        'uuid': 'nunique',\n",
    "        'run_id': 'count',\n",
    "        'is_correct': 'mean',\n",
    "        'confidence_score': 'mean'\n",
    "    }).round(3)\n",
    "    model_stats.columns = ['Unique UUIDs', 'Total Runs', 'Accuracy', 'Avg Confidence']\n",
    "    print(model_stats)\n",
    "    \n",
    "    print(f\"\\n=== TIME RANGE ===\")\n",
    "    if 'timestamp' in combined_df.columns:\n",
    "        combined_df['timestamp'] = pd.to_datetime(combined_df['timestamp'])\n",
    "        print(f\"First record: {combined_df['timestamp'].min()}\")\n",
    "        print(f\"Last record: {combined_df['timestamp'].max()}\")\n",
    "        print(f\"Processing duration: {combined_df['timestamp'].max() - combined_df['timestamp'].min()}\")\n",
    "    \n",
    "    print(f\"\\n=== SAMPLE RECORDS ===\")\n",
    "    print(\"First few records:\")\n",
    "    print(combined_df[['uuid', 'kbli_code', 'run_id', 'model', 'is_correct', 'confidence_score']].head())\n",
    "else:\n",
    "    print(\"No data available for exploration. Please check the data loading step.\")"
   ]
  },
  {
   "cell_type": "markdown",
   "id": "488c02bc",
   "metadata": {},
   "source": [
    "## 4. Data Cleaning and Preprocessing\n",
    "\n",
    "Clean and prepare the data for analysis, handling any inconsistencies or missing values."
   ]
  },
  {
   "cell_type": "code",
   "execution_count": 7,
   "id": "4a712b0f",
   "metadata": {},
   "outputs": [
    {
     "name": "stdout",
     "output_type": "stream",
     "text": [
      "=== DATA CLEANING ===\n",
      "Original dataset: 630 records\n",
      "No missing values found.\n",
      "\n",
      "All 210 UUID-model combinations have complete sets (3 runs each)\n",
      "\n",
      "=== CLEANED DATASET SUMMARY ===\n",
      "Records: 630\n",
      "Unique UUIDs: 210\n",
      "Models: 1\n",
      "KBLI codes: 43\n",
      "\n",
      "Data ready for analysis!\n"
     ]
    }
   ],
   "source": [
    "if 'combined_df' in locals() and not combined_df.empty:\n",
    "    # Create a clean copy for analysis\n",
    "    df = combined_df.copy()\n",
    "    \n",
    "    print(\"=== DATA CLEANING ===\")\n",
    "    print(f\"Original dataset: {len(df)} records\")\n",
    "    \n",
    "    # Convert data types\n",
    "    df['is_correct'] = df['is_correct'].astype(bool)\n",
    "    df['confidence_score'] = pd.to_numeric(df['confidence_score'], errors='coerce')\n",
    "    df['run_id'] = pd.to_numeric(df['run_id'], errors='coerce')\n",
    "    \n",
    "    # Handle timestamp\n",
    "    if 'timestamp' in df.columns:\n",
    "        df['timestamp'] = pd.to_datetime(df['timestamp'], errors='coerce')\n",
    "    \n",
    "    # Check for missing values\n",
    "    missing_values = df.isnull().sum()\n",
    "    if missing_values.sum() > 0:\n",
    "        print(\"\\nMissing values found:\")\n",
    "        print(missing_values[missing_values > 0])\n",
    "    else:\n",
    "        print(\"No missing values found.\")\n",
    "    \n",
    "    # Validate confidence scores (should be 0-1)\n",
    "    invalid_confidence = df[(df['confidence_score'] < 0) | (df['confidence_score'] > 1)]\n",
    "    if len(invalid_confidence) > 0:\n",
    "        print(f\"\\nWarning: {len(invalid_confidence)} records with invalid confidence scores\")\n",
    "        print(\"Confidence score range:\", df['confidence_score'].min(), \"to\", df['confidence_score'].max())\n",
    "    \n",
    "    # Validate run_id (should be 1, 2, or 3)\n",
    "    invalid_runs = df[~df['run_id'].isin([1, 2, 3])]\n",
    "    if len(invalid_runs) > 0:\n",
    "        print(f\"\\nWarning: {len(invalid_runs)} records with invalid run_id\")\n",
    "        print(\"Run ID values:\", sorted(df['run_id'].unique()))\n",
    "    \n",
    "    # Check for complete sets (each UUID should have 3 runs)\n",
    "    uuid_run_counts = df.groupby(['uuid', 'model'])['run_id'].count()\n",
    "    incomplete_sets = uuid_run_counts[uuid_run_counts != 3]\n",
    "    \n",
    "    if len(incomplete_sets) > 0:\n",
    "        print(f\"\\nWarning: {len(incomplete_sets)} UUID-model combinations don't have exactly 3 runs\")\n",
    "        print(\"Run count distribution:\")\n",
    "        print(uuid_run_counts.value_counts().sort_index())\n",
    "    else:\n",
    "        print(f\"\\nAll {len(uuid_run_counts)} UUID-model combinations have complete sets (3 runs each)\")\n",
    "    \n",
    "    # Create summary statistics\n",
    "    print(f\"\\n=== CLEANED DATASET SUMMARY ===\")\n",
    "    print(f\"Records: {len(df)}\")\n",
    "    print(f\"Unique UUIDs: {df['uuid'].nunique()}\")\n",
    "    print(f\"Models: {df['model'].nunique()}\")\n",
    "    print(f\"KBLI codes: {df['kbli_code'].nunique()}\")\n",
    "    \n",
    "    print(\"\\nData ready for analysis!\")\n",
    "else:\n",
    "    print(\"No data available for cleaning.\")"
   ]
  },
  {
   "cell_type": "markdown",
   "id": "4e5b5a08",
   "metadata": {},
   "source": [
    "## 5. Statistical Analysis\n",
    "\n",
    "Perform comprehensive statistical analysis including self-consistency, confidence distributions, and performance metrics."
   ]
  },
  {
   "cell_type": "code",
   "execution_count": 8,
   "id": "dc742638",
   "metadata": {},
   "outputs": [
    {
     "name": "stdout",
     "output_type": "stream",
     "text": [
      "=== SELF-CONSISTENCY ANALYSIS ===\n",
      "\n",
      "--- GEMINI-2.5-FLASH-LITE ---\n",
      "Total UUIDs analyzed: 210\n",
      "Unanimous agreements: 205 (97.6%)\n",
      "  - Unanimous CORRECT: 154 (73.3%)\n",
      "  - Unanimous INCORRECT: 51 (24.3%)\n",
      "Majority correct: 158 (75.2%)\n",
      "Split decisions: 5 (2.4%)\n",
      "Average confidence: 0.960\n",
      "Confidence consistency: 0.990\n",
      "\n",
      "--- GEMINI-2.5-FLASH-LITE ---\n",
      "Total UUIDs analyzed: 210\n",
      "Unanimous agreements: 205 (97.6%)\n",
      "  - Unanimous CORRECT: 154 (73.3%)\n",
      "  - Unanimous INCORRECT: 51 (24.3%)\n",
      "Majority correct: 158 (75.2%)\n",
      "Split decisions: 5 (2.4%)\n",
      "Average confidence: 0.960\n",
      "Confidence consistency: 0.990\n"
     ]
    }
   ],
   "source": [
    "### 5.1 Self-Consistency Analysis\n",
    "\n",
    "def analyze_self_consistency(df):\n",
    "    \"\"\"Analyze agreement between the 3 runs for each UUID-model combination.\"\"\"\n",
    "    \n",
    "    results = {}\n",
    "    \n",
    "    for model in df['model'].unique():\n",
    "        model_data = df[df['model'] == model]\n",
    "        \n",
    "        # Group by UUID and analyze consistency\n",
    "        consistency_stats = []\n",
    "        \n",
    "        for uuid in model_data['uuid'].unique():\n",
    "            uuid_data = model_data[model_data['uuid'] == uuid]\n",
    "            \n",
    "            if len(uuid_data) == 3:  # Complete set\n",
    "                is_correct_votes = uuid_data['is_correct'].tolist()\n",
    "                confidence_scores = uuid_data['confidence_score'].tolist()\n",
    "                \n",
    "                # Agreement analysis\n",
    "                agreement_count = sum(is_correct_votes)\n",
    "                is_unanimous = agreement_count in [0, 3]\n",
    "                is_majority = agreement_count >= 2\n",
    "                \n",
    "                consistency_stats.append({\n",
    "                    'uuid': uuid,\n",
    "                    'votes_correct': agreement_count,\n",
    "                    'unanimous': is_unanimous,\n",
    "                    'majority_correct': is_majority,\n",
    "                    'confidence_mean': np.mean(confidence_scores),\n",
    "                    'confidence_std': np.std(confidence_scores),\n",
    "                    'confidence_min': min(confidence_scores),\n",
    "                    'confidence_max': max(confidence_scores)\n",
    "                })\n",
    "        \n",
    "        if consistency_stats:\n",
    "            consistency_df = pd.DataFrame(consistency_stats)\n",
    "            \n",
    "            # Calculate model-level statistics\n",
    "            model_stats = {\n",
    "                'total_uuids': len(consistency_df),\n",
    "                'unanimous_agreement': consistency_df['unanimous'].sum(),\n",
    "                'majority_correct': consistency_df['majority_correct'].sum(),\n",
    "                'unanimous_correct': consistency_df[consistency_df['votes_correct'] == 3].shape[0],\n",
    "                'unanimous_incorrect': consistency_df[consistency_df['votes_correct'] == 0].shape[0],\n",
    "                'split_decisions': consistency_df[consistency_df['votes_correct'] == 1].shape[0] + \n",
    "                                 consistency_df[consistency_df['votes_correct'] == 2].shape[0],\n",
    "                'avg_confidence': consistency_df['confidence_mean'].mean(),\n",
    "                'confidence_consistency': 1 - consistency_df['confidence_std'].mean()  # Lower std = more consistent\n",
    "            }\n",
    "            \n",
    "            results[model] = {\n",
    "                'stats': model_stats,\n",
    "                'details': consistency_df\n",
    "            }\n",
    "    \n",
    "    return results\n",
    "\n",
    "if 'df' in locals():\n",
    "    print(\"=== SELF-CONSISTENCY ANALYSIS ===\")\n",
    "    consistency_results = analyze_self_consistency(df)\n",
    "    \n",
    "    for model, result in consistency_results.items():\n",
    "        stats = result['stats']\n",
    "        print(f\"\\n--- {model.upper()} ---\")\n",
    "        print(f\"Total UUIDs analyzed: {stats['total_uuids']}\")\n",
    "        print(f\"Unanimous agreements: {stats['unanimous_agreement']} ({stats['unanimous_agreement']/stats['total_uuids']*100:.1f}%)\")\n",
    "        print(f\"  - Unanimous CORRECT: {stats['unanimous_correct']} ({stats['unanimous_correct']/stats['total_uuids']*100:.1f}%)\")\n",
    "        print(f\"  - Unanimous INCORRECT: {stats['unanimous_incorrect']} ({stats['unanimous_incorrect']/stats['total_uuids']*100:.1f}%)\")\n",
    "        print(f\"Majority correct: {stats['majority_correct']} ({stats['majority_correct']/stats['total_uuids']*100:.1f}%)\")\n",
    "        print(f\"Split decisions: {stats['split_decisions']} ({stats['split_decisions']/stats['total_uuids']*100:.1f}%)\")\n",
    "        print(f\"Average confidence: {stats['avg_confidence']:.3f}\")\n",
    "        print(f\"Confidence consistency: {stats['confidence_consistency']:.3f}\")\n",
    "else:\n",
    "    print(\"Data not available for consistency analysis.\")"
   ]
  },
  {
   "cell_type": "code",
   "execution_count": 9,
   "id": "044281e1",
   "metadata": {},
   "outputs": [
    {
     "name": "stdout",
     "output_type": "stream",
     "text": [
      "=== CONFIDENCE SCORE ANALYSIS ===\n",
      "\n",
      "Overall confidence statistics:\n",
      "Mean: 0.960\n",
      "Median: 1.000\n",
      "Std: 0.048\n",
      "Min: 0.850\n",
      "Max: 1.000\n",
      "\n",
      "Confidence by correctness:\n",
      "           count   mean    std  median\n",
      "Incorrect    159  0.918  0.038     0.9\n",
      "Correct      471  0.975  0.043     1.0\n",
      "\n",
      "Confidence by model:\n",
      "                       count  mean    std  median\n",
      "model                                            \n",
      "gemini-2.5-flash-lite    630  0.96  0.048     1.0\n",
      "\n",
      "High confidence (≥0.8) predictions:\n",
      "  Count: 630 (100.0%)\n",
      "  Accuracy: 0.748\n",
      "\n",
      "Low confidence (≤0.5) predictions:\n",
      "  Count: 0 (0.0%)\n",
      "  Accuracy: nan\n",
      "\n",
      "Confidence by top 10 KBLI codes:\n",
      "  10710: 0.957 (n=114)\n",
      "  10421: 0.972 (n=102)\n",
      "  10750: 0.913 (n=66)\n",
      "  10722: 0.992 (n=51)\n",
      "  10631: 0.983 (n=39)\n",
      "  10431: 0.962 (n=30)\n",
      "  10391: 0.979 (n=24)\n",
      "  10392: 1.000 (n=21)\n",
      "  10211: 0.927 (n=15)\n",
      "  10740: 0.926 (n=12)\n"
     ]
    }
   ],
   "source": [
    "### 5.2 Confidence Score Analysis\n",
    "\n",
    "if 'df' in locals():\n",
    "    print(\"=== CONFIDENCE SCORE ANALYSIS ===\")\n",
    "    \n",
    "    # Overall confidence statistics\n",
    "    print(f\"\\nOverall confidence statistics:\")\n",
    "    print(f\"Mean: {df['confidence_score'].mean():.3f}\")\n",
    "    print(f\"Median: {df['confidence_score'].median():.3f}\")\n",
    "    print(f\"Std: {df['confidence_score'].std():.3f}\")\n",
    "    print(f\"Min: {df['confidence_score'].min():.3f}\")\n",
    "    print(f\"Max: {df['confidence_score'].max():.3f}\")\n",
    "    \n",
    "    # Confidence by correctness\n",
    "    print(f\"\\nConfidence by correctness:\")\n",
    "    confidence_by_correctness = df.groupby('is_correct')['confidence_score'].agg(['count', 'mean', 'std', 'median'])\n",
    "    confidence_by_correctness.index = ['Incorrect', 'Correct']\n",
    "    print(confidence_by_correctness.round(3))\n",
    "    \n",
    "    # Confidence by model\n",
    "    print(f\"\\nConfidence by model:\")\n",
    "    confidence_by_model = df.groupby('model')['confidence_score'].agg(['count', 'mean', 'std', 'median'])\n",
    "    print(confidence_by_model.round(3))\n",
    "    \n",
    "    # High vs Low confidence performance\n",
    "    high_confidence_threshold = 0.8\n",
    "    low_confidence_threshold = 0.5\n",
    "    \n",
    "    high_conf = df[df['confidence_score'] >= high_confidence_threshold]\n",
    "    low_conf = df[df['confidence_score'] <= low_confidence_threshold]\n",
    "    \n",
    "    print(f\"\\nHigh confidence (≥{high_confidence_threshold}) predictions:\")\n",
    "    print(f\"  Count: {len(high_conf)} ({len(high_conf)/len(df)*100:.1f}%)\")\n",
    "    print(f\"  Accuracy: {high_conf['is_correct'].mean():.3f}\")\n",
    "    \n",
    "    print(f\"\\nLow confidence (≤{low_confidence_threshold}) predictions:\")\n",
    "    print(f\"  Count: {len(low_conf)} ({len(low_conf)/len(df)*100:.1f}%)\")\n",
    "    print(f\"  Accuracy: {low_conf['is_correct'].mean():.3f}\")\n",
    "    \n",
    "    # Confidence distribution by KBLI code (top 10 most frequent)\n",
    "    top_kbli_codes = df['kbli_code'].value_counts().head(10).index\n",
    "    print(f\"\\nConfidence by top 10 KBLI codes:\")\n",
    "    for code in top_kbli_codes:\n",
    "        code_data = df[df['kbli_code'] == code]\n",
    "        print(f\"  {code}: {code_data['confidence_score'].mean():.3f} (n={len(code_data)})\")\n",
    "else:\n",
    "    print(\"Data not available for confidence analysis.\")"
   ]
  },
  {
   "cell_type": "markdown",
   "id": "47d63a99",
   "metadata": {},
   "source": [
    "### 5.3 False Classification Analysis\n",
    "\n",
    "Comprehensive analysis of incorrect predictions to understand error patterns and failure modes."
   ]
  },
  {
   "cell_type": "code",
   "execution_count": 10,
   "id": "fb838537",
   "metadata": {},
   "outputs": [
    {
     "name": "stdout",
     "output_type": "stream",
     "text": [
      "=== FALSE CLASSIFICATION ANALYSIS ===\n",
      "\n",
      "Overall Error Statistics:\n",
      "Total false classifications: 159\n",
      "Total predictions: 630\n",
      "Overall error rate: 25.24%\n",
      "Overall accuracy: 74.76%\n",
      "\n",
      "Error Rate by Model:\n",
      "                       Total_Predictions  Error_Count  Error_Rate  Accuracy\n",
      "model                                                                      \n",
      "gemini-2.5-flash-lite                630          159        25.2     0.748\n",
      "\n",
      "Confidence Statistics for False Classifications:\n",
      "count    159.000\n",
      "mean       0.918\n",
      "std        0.038\n",
      "min        0.850\n",
      "25%        0.900\n",
      "50%        0.900\n",
      "75%        0.900\n",
      "max        1.000\n",
      "Name: confidence_score, dtype: float64\n",
      "\n",
      "Confidence Comparison:\n",
      "Average confidence - False: 0.918\n",
      "Average confidence - True:  0.975\n",
      "Confidence difference: 0.057\n",
      "\n",
      "Most Problematic KBLI Codes (highest error rates):\n",
      "           Total_Predictions  Error_Count  Error_Rate  Accuracy\n",
      "kbli_code                                                      \n",
      "10222                      3            3      100.00      0.00\n",
      "10399                      3            3      100.00      0.00\n",
      "10312                      3            3      100.00      0.00\n",
      "10732                      3            3      100.00      0.00\n",
      "10531                      3            3      100.00      0.00\n",
      "10729                      6            6      100.00      0.00\n",
      "10734                      3            3      100.00      0.00\n",
      "10721                      9            6       66.67      0.33\n",
      "10216                      6            3       50.00      0.50\n",
      "10221                      6            3       50.00      0.50\n",
      "\n",
      "Error Distribution by Run ID:\n",
      "        Total_Predictions  Correct_Predictions  Accuracy  Error_Count  \\\n",
      "run_id                                                                  \n",
      "1                     210                  158     0.752           52   \n",
      "2                     210                  155     0.738           55   \n",
      "3                     210                  158     0.752           52   \n",
      "\n",
      "        Error_Rate  \n",
      "run_id              \n",
      "1             24.8  \n",
      "2             26.2  \n",
      "3             24.8  \n",
      "\n",
      "Text Length Analysis for False Classifications:\n",
      "Average text length - False: 102.3 characters\n",
      "Average text length - True:  101.9 characters\n",
      "\n",
      "Error Rate by Text Length:\n",
      "            Total_Predictions  Accuracy  Error_Rate\n",
      "length_bin                                         \n",
      "Very Short                321     0.751        24.9\n",
      "Short                     234     0.739        26.1\n",
      "Medium                     63     0.778        22.2\n",
      "Long                        6     0.833        16.7\n",
      "Very Long                   6     0.500        50.0\n",
      "\n",
      "=== SAMPLE FALSE CLASSIFICATIONS ===\n",
      "\n",
      "Sample 377:\n",
      "  UUID: b0141635-f066-409e-06d0-e8df7c326107\n",
      "  Text: membuat jajan rengginang, menggoreng, membungkus jajan rengginang menghasilkan jajan rengginang di b...\n",
      "  KBLI Code: 10710\n",
      "  Model: gemini-2.5-flash-lite\n",
      "  Run ID: 3\n",
      "  Confidence: 0.900\n",
      "  Reasoning: Analisis ini didasarkan pada Aturan Validasi Inti #1 dan #3. Deskripsi pekerjaan menjelaskan aktivitas pembuatan 'jajan rengginang', yang merupakan pr...\n",
      "\n",
      "Sample 623:\n",
      "  UUID: c3229d36-4082-47f7-6c74-1dc502bd63b4\n",
      "  Text: pisang bakar gepe menghasilkan pisang di bidang makanan...\n",
      "  KBLI Code: 10750\n",
      "  Model: gemini-2.5-flash-lite\n",
      "  Run ID: 3\n",
      "  Confidence: 0.900\n",
      "  Reasoning: Analisis ini didasarkan pada Aturan Validasi Inti #1 (Fokus pada Pendirian, Bukan Peran Orang) dan #3 (Verifikasi Aktivitas Utama). Deskripsi pekerjaa...\n",
      "\n",
      "Sample 565:\n",
      "  UUID: 532a083c-df8d-4d4e-46fb-418c3b07ed09\n",
      "  Text: produksi tempe dan tahu di rumah milik sendiri menghasilkan tempe dan tahu di bidang produsen tempe ...\n",
      "  KBLI Code: 10750\n",
      "  Model: gemini-2.5-flash-lite\n",
      "  Run ID: 2\n",
      "  Confidence: 0.900\n",
      "  Reasoning: Analisis ini didasarkan pada Aturan Validasi Inti #1 dan #3. Deskripsi pekerjaan 'produksi tempe dan tahu di rumah milik sendiri menghasilkan tempe da...\n",
      "\n",
      "Sample 239:\n",
      "  UUID: 72c4bf67-90e9-4f1f-1c81-867b89a96b8c\n",
      "  Text: bekerja kelapa kopra di kebun milik sendiri buru selatan menghasilkan kopra di bidang pertanian...\n",
      "  KBLI Code: 10421\n",
      "  Model: gemini-2.5-flash-lite\n",
      "  Run ID: 3\n",
      "  Confidence: 0.900\n",
      "  Reasoning: Analisis ini didasarkan pada Aturan Validasi Inti #1 dan #3. Deskripsi pekerjaan menyebutkan 'bekerja kelapa kopra di kebun milik sendiri buru selatan...\n",
      "\n",
      "Sample 456:\n",
      "  UUID: c0d17b6c-e574-4584-763c-4c9decbe9daf\n",
      "  Text: membantu istri membuat aneka kue basah di rumah menghasilkan aneka macam kue basah di bidang industr...\n",
      "  KBLI Code: 10710\n",
      "  Model: gemini-2.5-flash-lite\n",
      "  Run ID: 1\n",
      "  Confidence: 0.900\n",
      "  Reasoning: Analisis ini didasarkan pada Aturan Validasi Inti #1 (Fokus pada Pendirian, Bukan Peran Orang) dan Aturan Validasi Inti #2 (Identifikasi dan Kecualika...\n",
      "\n",
      "Overall Error Statistics:\n",
      "Total false classifications: 159\n",
      "Total predictions: 630\n",
      "Overall error rate: 25.24%\n",
      "Overall accuracy: 74.76%\n",
      "\n",
      "Error Rate by Model:\n",
      "                       Total_Predictions  Error_Count  Error_Rate  Accuracy\n",
      "model                                                                      \n",
      "gemini-2.5-flash-lite                630          159        25.2     0.748\n",
      "\n",
      "Confidence Statistics for False Classifications:\n",
      "count    159.000\n",
      "mean       0.918\n",
      "std        0.038\n",
      "min        0.850\n",
      "25%        0.900\n",
      "50%        0.900\n",
      "75%        0.900\n",
      "max        1.000\n",
      "Name: confidence_score, dtype: float64\n",
      "\n",
      "Confidence Comparison:\n",
      "Average confidence - False: 0.918\n",
      "Average confidence - True:  0.975\n",
      "Confidence difference: 0.057\n",
      "\n",
      "Most Problematic KBLI Codes (highest error rates):\n",
      "           Total_Predictions  Error_Count  Error_Rate  Accuracy\n",
      "kbli_code                                                      \n",
      "10222                      3            3      100.00      0.00\n",
      "10399                      3            3      100.00      0.00\n",
      "10312                      3            3      100.00      0.00\n",
      "10732                      3            3      100.00      0.00\n",
      "10531                      3            3      100.00      0.00\n",
      "10729                      6            6      100.00      0.00\n",
      "10734                      3            3      100.00      0.00\n",
      "10721                      9            6       66.67      0.33\n",
      "10216                      6            3       50.00      0.50\n",
      "10221                      6            3       50.00      0.50\n",
      "\n",
      "Error Distribution by Run ID:\n",
      "        Total_Predictions  Correct_Predictions  Accuracy  Error_Count  \\\n",
      "run_id                                                                  \n",
      "1                     210                  158     0.752           52   \n",
      "2                     210                  155     0.738           55   \n",
      "3                     210                  158     0.752           52   \n",
      "\n",
      "        Error_Rate  \n",
      "run_id              \n",
      "1             24.8  \n",
      "2             26.2  \n",
      "3             24.8  \n",
      "\n",
      "Text Length Analysis for False Classifications:\n",
      "Average text length - False: 102.3 characters\n",
      "Average text length - True:  101.9 characters\n",
      "\n",
      "Error Rate by Text Length:\n",
      "            Total_Predictions  Accuracy  Error_Rate\n",
      "length_bin                                         \n",
      "Very Short                321     0.751        24.9\n",
      "Short                     234     0.739        26.1\n",
      "Medium                     63     0.778        22.2\n",
      "Long                        6     0.833        16.7\n",
      "Very Long                   6     0.500        50.0\n",
      "\n",
      "=== SAMPLE FALSE CLASSIFICATIONS ===\n",
      "\n",
      "Sample 377:\n",
      "  UUID: b0141635-f066-409e-06d0-e8df7c326107\n",
      "  Text: membuat jajan rengginang, menggoreng, membungkus jajan rengginang menghasilkan jajan rengginang di b...\n",
      "  KBLI Code: 10710\n",
      "  Model: gemini-2.5-flash-lite\n",
      "  Run ID: 3\n",
      "  Confidence: 0.900\n",
      "  Reasoning: Analisis ini didasarkan pada Aturan Validasi Inti #1 dan #3. Deskripsi pekerjaan menjelaskan aktivitas pembuatan 'jajan rengginang', yang merupakan pr...\n",
      "\n",
      "Sample 623:\n",
      "  UUID: c3229d36-4082-47f7-6c74-1dc502bd63b4\n",
      "  Text: pisang bakar gepe menghasilkan pisang di bidang makanan...\n",
      "  KBLI Code: 10750\n",
      "  Model: gemini-2.5-flash-lite\n",
      "  Run ID: 3\n",
      "  Confidence: 0.900\n",
      "  Reasoning: Analisis ini didasarkan pada Aturan Validasi Inti #1 (Fokus pada Pendirian, Bukan Peran Orang) dan #3 (Verifikasi Aktivitas Utama). Deskripsi pekerjaa...\n",
      "\n",
      "Sample 565:\n",
      "  UUID: 532a083c-df8d-4d4e-46fb-418c3b07ed09\n",
      "  Text: produksi tempe dan tahu di rumah milik sendiri menghasilkan tempe dan tahu di bidang produsen tempe ...\n",
      "  KBLI Code: 10750\n",
      "  Model: gemini-2.5-flash-lite\n",
      "  Run ID: 2\n",
      "  Confidence: 0.900\n",
      "  Reasoning: Analisis ini didasarkan pada Aturan Validasi Inti #1 dan #3. Deskripsi pekerjaan 'produksi tempe dan tahu di rumah milik sendiri menghasilkan tempe da...\n",
      "\n",
      "Sample 239:\n",
      "  UUID: 72c4bf67-90e9-4f1f-1c81-867b89a96b8c\n",
      "  Text: bekerja kelapa kopra di kebun milik sendiri buru selatan menghasilkan kopra di bidang pertanian...\n",
      "  KBLI Code: 10421\n",
      "  Model: gemini-2.5-flash-lite\n",
      "  Run ID: 3\n",
      "  Confidence: 0.900\n",
      "  Reasoning: Analisis ini didasarkan pada Aturan Validasi Inti #1 dan #3. Deskripsi pekerjaan menyebutkan 'bekerja kelapa kopra di kebun milik sendiri buru selatan...\n",
      "\n",
      "Sample 456:\n",
      "  UUID: c0d17b6c-e574-4584-763c-4c9decbe9daf\n",
      "  Text: membantu istri membuat aneka kue basah di rumah menghasilkan aneka macam kue basah di bidang industr...\n",
      "  KBLI Code: 10710\n",
      "  Model: gemini-2.5-flash-lite\n",
      "  Run ID: 1\n",
      "  Confidence: 0.900\n",
      "  Reasoning: Analisis ini didasarkan pada Aturan Validasi Inti #1 (Fokus pada Pendirian, Bukan Peran Orang) dan Aturan Validasi Inti #2 (Identifikasi dan Kecualika...\n"
     ]
    }
   ],
   "source": [
    "if 'df' in locals():\n",
    "    print(\"=== FALSE CLASSIFICATION ANALYSIS ===\")\n",
    "    \n",
    "    # Filter false classifications\n",
    "    false_classifications = df[df['is_correct'] == False].copy()\n",
    "    total_false = len(false_classifications)\n",
    "    total_predictions = len(df)\n",
    "    \n",
    "    if total_false > 0:\n",
    "        print(f\"\\nOverall Error Statistics:\")\n",
    "        print(f\"Total false classifications: {total_false}\")\n",
    "        print(f\"Total predictions: {total_predictions}\")\n",
    "        print(f\"Overall error rate: {total_false/total_predictions*100:.2f}%\")\n",
    "        print(f\"Overall accuracy: {(total_predictions-total_false)/total_predictions*100:.2f}%\")\n",
    "        \n",
    "        # Error rate by model\n",
    "        print(f\"\\nError Rate by Model:\")\n",
    "        model_error_stats = df.groupby('model').agg({\n",
    "            'is_correct': ['count', 'sum', 'mean']\n",
    "        }).round(3)\n",
    "        model_error_stats.columns = ['Total_Predictions', 'Correct_Predictions', 'Accuracy']\n",
    "        model_error_stats['Error_Count'] = model_error_stats['Total_Predictions'] - model_error_stats['Correct_Predictions']\n",
    "        model_error_stats['Error_Rate'] = (1 - model_error_stats['Accuracy']) * 100\n",
    "        print(model_error_stats[['Total_Predictions', 'Error_Count', 'Error_Rate', 'Accuracy']])\n",
    "        \n",
    "        # Confidence analysis for false classifications\n",
    "        print(f\"\\nConfidence Statistics for False Classifications:\")\n",
    "        false_conf_stats = false_classifications['confidence_score'].describe()\n",
    "        print(false_conf_stats.round(3))\n",
    "        \n",
    "        # Compare confidence: false vs true classifications\n",
    "        true_classifications = df[df['is_correct'] == True]\n",
    "        print(f\"\\nConfidence Comparison:\")\n",
    "        print(f\"Average confidence - False: {false_classifications['confidence_score'].mean():.3f}\")\n",
    "        print(f\"Average confidence - True:  {true_classifications['confidence_score'].mean():.3f}\")\n",
    "        print(f\"Confidence difference: {true_classifications['confidence_score'].mean() - false_classifications['confidence_score'].mean():.3f}\")\n",
    "        \n",
    "        # Most problematic KBLI codes\n",
    "        print(f\"\\nMost Problematic KBLI Codes (highest error rates):\")\n",
    "        kbli_error_analysis = df.groupby('kbli_code').agg({\n",
    "            'is_correct': ['count', 'sum', 'mean']\n",
    "        })\n",
    "        kbli_error_analysis.columns = ['Total_Predictions', 'Correct_Predictions', 'Accuracy']\n",
    "        kbli_error_analysis['Error_Count'] = kbli_error_analysis['Total_Predictions'] - kbli_error_analysis['Correct_Predictions']\n",
    "        kbli_error_analysis['Error_Rate'] = (1 - kbli_error_analysis['Accuracy']) * 100\n",
    "        \n",
    "        # Filter codes with at least 3 predictions and sort by error rate\n",
    "        problematic_codes = kbli_error_analysis[kbli_error_analysis['Total_Predictions'] >= 3].sort_values('Error_Rate', ascending=False)\n",
    "        print(problematic_codes.head(10)[['Total_Predictions', 'Error_Count', 'Error_Rate', 'Accuracy']].round(2))\n",
    "        \n",
    "        # Error patterns by run_id\n",
    "        print(f\"\\nError Distribution by Run ID:\")\n",
    "        run_error_stats = df.groupby('run_id').agg({\n",
    "            'is_correct': ['count', 'sum', 'mean']\n",
    "        }).round(3)\n",
    "        run_error_stats.columns = ['Total_Predictions', 'Correct_Predictions', 'Accuracy']\n",
    "        run_error_stats['Error_Count'] = run_error_stats['Total_Predictions'] - run_error_stats['Correct_Predictions']\n",
    "        run_error_stats['Error_Rate'] = (1 - run_error_stats['Accuracy']) * 100\n",
    "        print(run_error_stats)\n",
    "        \n",
    "        # Analysis of text length vs error rate\n",
    "        print(f\"\\nText Length Analysis for False Classifications:\")\n",
    "        false_classifications['text_length'] = false_classifications['text'].str.len()\n",
    "        true_classifications['text_length'] = true_classifications['text'].str.len()\n",
    "        \n",
    "        print(f\"Average text length - False: {false_classifications['text_length'].mean():.1f} characters\")\n",
    "        print(f\"Average text length - True:  {true_classifications['text_length'].mean():.1f} characters\")\n",
    "        \n",
    "        # Text length bins analysis\n",
    "        df['text_length'] = df['text'].str.len()\n",
    "        df['length_bin'] = pd.cut(df['text_length'], bins=5, labels=['Very Short', 'Short', 'Medium', 'Long', 'Very Long'])\n",
    "        \n",
    "        length_error_analysis = df.groupby('length_bin')['is_correct'].agg(['count', 'mean']).round(3)\n",
    "        length_error_analysis.columns = ['Total_Predictions', 'Accuracy']\n",
    "        length_error_analysis['Error_Rate'] = (1 - length_error_analysis['Accuracy']) * 100\n",
    "        print(f\"\\nError Rate by Text Length:\")\n",
    "        print(length_error_analysis)\n",
    "        \n",
    "        # Sample false classifications for manual inspection\n",
    "        print(f\"\\n=== SAMPLE FALSE CLASSIFICATIONS ===\")\n",
    "        sample_false = false_classifications.sample(min(5, len(false_classifications)), random_state=42)\n",
    "        for idx, row in sample_false.iterrows():\n",
    "            print(f\"\\nSample {idx}:\")\n",
    "            print(f\"  UUID: {row['uuid']}\")\n",
    "            print(f\"  Text: {row['text'][:100]}...\")\n",
    "            print(f\"  KBLI Code: {row['kbli_code']}\")\n",
    "            print(f\"  Model: {row['model']}\")\n",
    "            print(f\"  Run ID: {row['run_id']}\")\n",
    "            print(f\"  Confidence: {row['confidence_score']:.3f}\")\n",
    "            if 'reasoning' in row and pd.notna(row['reasoning']):\n",
    "                print(f\"  Reasoning: {row['reasoning'][:150]}...\")\n",
    "        \n",
    "    else:\n",
    "        print(\"No false classifications found in the dataset!\")\n",
    "        print(\"All predictions appear to be correct.\")\n",
    "else:\n",
    "    print(\"Data not available for false classification analysis.\")"
   ]
  },
  {
   "cell_type": "code",
   "execution_count": 11,
   "id": "3a3c4bdb",
   "metadata": {},
   "outputs": [
    {
     "name": "stdout",
     "output_type": "stream",
     "text": [
      "=== ADVANCED ERROR PATTERN ANALYSIS ===\n",
      "\n",
      "False Classification Consistency Analysis:\n",
      "UUIDs with at least one false classification: 56\n",
      "\n",
      "Error patterns:\n",
      "  3/3 incorrect: 51 UUIDs (91.1%)\n",
      "  1/3 incorrect: 4 UUIDs (7.1%)\n",
      "  2/3 incorrect: 1 UUIDs (1.8%)\n",
      "\n",
      "Cases where all 3 runs were incorrect: 51\n",
      "Sample cases:\n",
      "  - UUID: c08013c9-921b-4635-951d-0ea628eda743\n",
      "    Text: memotong daging ayam untuk di giling dan diolah menjadi pentol menghasilkan peng...\n",
      "    KBLI: 10130, Avg Confidence: 0.900\n",
      "  - UUID: ccf931f3-183c-4839-a69c-8f69dedb28cb\n",
      "    Text: usaha jual beli ikan kering dan ikan asin, ikan nya di jemur sendiri, ikan nya b...\n",
      "    KBLI: 10211, Avg Confidence: 0.900\n",
      "  - UUID: 9565b02a-26ef-44b1-f237-316ec0f8b7ff\n",
      "    Text: menjual ikan asin menghasilkan ikan asin/ikan bage di bidang penjualan eceran ik...\n",
      "    KBLI: 10211, Avg Confidence: 0.900\n",
      "\n",
      "Alternative Codes Analysis for False Classifications:\n",
      "False classifications with alternative codes: 159\n",
      "Percentage: 100.0%\n",
      "\n",
      "Sample alternative code suggestions:\n",
      "  Text: memotong daging ayam untuk di giling dan diolah menjadi pent...\n",
      "  Given KBLI: 10130\n",
      "  Alternatives: ['46321', '47111']\n",
      "  Reasoning: Kode 46321 (Perdagangan Besar Daging dan Unggas) atau 47111 (Perdagangan Eceran Makanan dan Minuman ...\n",
      "\n",
      "  Text: memotong daging ayam untuk di giling dan diolah menjadi pent...\n",
      "  Given KBLI: 10130\n",
      "  Alternatives: ['46321', '47213']\n",
      "  Reasoning: Jika aktivitas utamanya adalah menjual kembali produk daging olahan (termasuk pentol) kepada bisnis ...\n",
      "\n",
      "  Text: memotong daging ayam untuk di giling dan diolah menjadi pent...\n",
      "  Given KBLI: 10130\n",
      "  Alternatives: ['46312', '47119']\n",
      "  Reasoning: Jika aktivitas utama adalah perdagangan produk daging olahan (membeli dan menjual kembali), maka KBL...\n",
      "\n",
      "\n",
      "Error Clustering by Text Characteristics:\n",
      "Most common words in false classifications:\n",
      "  'menghasilkan': 159 occurrences\n",
      "  'bidang': 159 occurrences\n",
      "  'kelapa': 58 occurrences\n",
      "  'ikan': 45 occurrences\n",
      "  'makanan': 44 occurrences\n",
      "  'sendiri': 43 occurrences\n",
      "  'milik': 42 occurrences\n",
      "  'industri': 35 occurrences\n",
      "\n",
      "Reasoning Analysis for False Classifications:\n",
      "Average reasoning length for false classifications: 963.9 characters\n",
      "  Reasoning containing 'tidak sesuai': 26\n",
      "  Reasoning containing 'salah': 2\n",
      "  Reasoning containing 'berbeda': 14\n",
      "\n",
      "Temporal Analysis of False Classifications:\n",
      "Error distribution by hour:\n",
      "  Hour 11: 159 errors\n",
      "UUIDs with at least one false classification: 56\n",
      "\n",
      "Error patterns:\n",
      "  3/3 incorrect: 51 UUIDs (91.1%)\n",
      "  1/3 incorrect: 4 UUIDs (7.1%)\n",
      "  2/3 incorrect: 1 UUIDs (1.8%)\n",
      "\n",
      "Cases where all 3 runs were incorrect: 51\n",
      "Sample cases:\n",
      "  - UUID: c08013c9-921b-4635-951d-0ea628eda743\n",
      "    Text: memotong daging ayam untuk di giling dan diolah menjadi pentol menghasilkan peng...\n",
      "    KBLI: 10130, Avg Confidence: 0.900\n",
      "  - UUID: ccf931f3-183c-4839-a69c-8f69dedb28cb\n",
      "    Text: usaha jual beli ikan kering dan ikan asin, ikan nya di jemur sendiri, ikan nya b...\n",
      "    KBLI: 10211, Avg Confidence: 0.900\n",
      "  - UUID: 9565b02a-26ef-44b1-f237-316ec0f8b7ff\n",
      "    Text: menjual ikan asin menghasilkan ikan asin/ikan bage di bidang penjualan eceran ik...\n",
      "    KBLI: 10211, Avg Confidence: 0.900\n",
      "\n",
      "Alternative Codes Analysis for False Classifications:\n",
      "False classifications with alternative codes: 159\n",
      "Percentage: 100.0%\n",
      "\n",
      "Sample alternative code suggestions:\n",
      "  Text: memotong daging ayam untuk di giling dan diolah menjadi pent...\n",
      "  Given KBLI: 10130\n",
      "  Alternatives: ['46321', '47111']\n",
      "  Reasoning: Kode 46321 (Perdagangan Besar Daging dan Unggas) atau 47111 (Perdagangan Eceran Makanan dan Minuman ...\n",
      "\n",
      "  Text: memotong daging ayam untuk di giling dan diolah menjadi pent...\n",
      "  Given KBLI: 10130\n",
      "  Alternatives: ['46321', '47213']\n",
      "  Reasoning: Jika aktivitas utamanya adalah menjual kembali produk daging olahan (termasuk pentol) kepada bisnis ...\n",
      "\n",
      "  Text: memotong daging ayam untuk di giling dan diolah menjadi pent...\n",
      "  Given KBLI: 10130\n",
      "  Alternatives: ['46312', '47119']\n",
      "  Reasoning: Jika aktivitas utama adalah perdagangan produk daging olahan (membeli dan menjual kembali), maka KBL...\n",
      "\n",
      "\n",
      "Error Clustering by Text Characteristics:\n",
      "Most common words in false classifications:\n",
      "  'menghasilkan': 159 occurrences\n",
      "  'bidang': 159 occurrences\n",
      "  'kelapa': 58 occurrences\n",
      "  'ikan': 45 occurrences\n",
      "  'makanan': 44 occurrences\n",
      "  'sendiri': 43 occurrences\n",
      "  'milik': 42 occurrences\n",
      "  'industri': 35 occurrences\n",
      "\n",
      "Reasoning Analysis for False Classifications:\n",
      "Average reasoning length for false classifications: 963.9 characters\n",
      "  Reasoning containing 'tidak sesuai': 26\n",
      "  Reasoning containing 'salah': 2\n",
      "  Reasoning containing 'berbeda': 14\n",
      "\n",
      "Temporal Analysis of False Classifications:\n",
      "Error distribution by hour:\n",
      "  Hour 11: 159 errors\n"
     ]
    }
   ],
   "source": [
    "### 5.4 Advanced Error Pattern Analysis\n",
    "\n",
    "if 'df' in locals():\n",
    "    false_classifications = df[df['is_correct'] == False].copy()\n",
    "    \n",
    "    if len(false_classifications) > 0:\n",
    "        print(\"=== ADVANCED ERROR PATTERN ANALYSIS ===\")\n",
    "        \n",
    "        # Consistency analysis for false classifications\n",
    "        print(f\"\\nFalse Classification Consistency Analysis:\")\n",
    "        false_consistency = []\n",
    "        \n",
    "        for model in df['model'].unique():\n",
    "            model_data = df[df['model'] == model]\n",
    "            \n",
    "            for uuid in model_data['uuid'].unique():\n",
    "                uuid_data = model_data[model_data['uuid'] == uuid]\n",
    "                \n",
    "                if len(uuid_data) == 3:  # Complete set\n",
    "                    false_votes = (~uuid_data['is_correct']).sum()\n",
    "                    \n",
    "                    if false_votes > 0:  # At least one false classification\n",
    "                        false_consistency.append({\n",
    "                            'uuid': uuid,\n",
    "                            'model': model,\n",
    "                            'false_votes': false_votes,\n",
    "                            'pattern': f'{false_votes}/3 incorrect',\n",
    "                            'text': uuid_data.iloc[0]['text'],\n",
    "                            'kbli_code': uuid_data.iloc[0]['kbli_code'],\n",
    "                            'avg_confidence': uuid_data['confidence_score'].mean()\n",
    "                        })\n",
    "        \n",
    "        if false_consistency:\n",
    "            false_consistency_df = pd.DataFrame(false_consistency)\n",
    "            \n",
    "            print(f\"UUIDs with at least one false classification: {len(false_consistency_df)}\")\n",
    "            \n",
    "            pattern_counts = false_consistency_df['pattern'].value_counts()\n",
    "            print(f\"\\nError patterns:\")\n",
    "            for pattern, count in pattern_counts.items():\n",
    "                print(f\"  {pattern}: {count} UUIDs ({count/len(false_consistency_df)*100:.1f}%)\")\n",
    "            \n",
    "            # Most inconsistent cases (all 3 runs wrong)\n",
    "            all_wrong = false_consistency_df[false_consistency_df['false_votes'] == 3]\n",
    "            if len(all_wrong) > 0:\n",
    "                print(f\"\\nCases where all 3 runs were incorrect: {len(all_wrong)}\")\n",
    "                print(\"Sample cases:\")\n",
    "                for idx, row in all_wrong.head(3).iterrows():\n",
    "                    print(f\"  - UUID: {row['uuid']}\")\n",
    "                    print(f\"    Text: {row['text'][:80]}...\")\n",
    "                    print(f\"    KBLI: {row['kbli_code']}, Avg Confidence: {row['avg_confidence']:.3f}\")\n",
    "        \n",
    "        # Alternative codes analysis for false classifications\n",
    "        if 'alternative_codes' in false_classifications.columns:\n",
    "            print(f\"\\nAlternative Codes Analysis for False Classifications:\")\n",
    "            false_with_alternatives = false_classifications[\n",
    "                false_classifications['alternative_codes'].notna() & \n",
    "                (false_classifications['alternative_codes'] != '[]') &\n",
    "                (false_classifications['alternative_codes'] != '')\n",
    "            ]\n",
    "            \n",
    "            if len(false_with_alternatives) > 0:\n",
    "                print(f\"False classifications with alternative codes: {len(false_with_alternatives)}\")\n",
    "                print(f\"Percentage: {len(false_with_alternatives)/len(false_classifications)*100:.1f}%\")\n",
    "                \n",
    "                # Sample alternatives\n",
    "                print(f\"\\nSample alternative code suggestions:\")\n",
    "                for idx, row in false_with_alternatives.head(3).iterrows():\n",
    "                    print(f\"  Text: {row['text'][:60]}...\")\n",
    "                    print(f\"  Given KBLI: {row['kbli_code']}\")\n",
    "                    print(f\"  Alternatives: {row['alternative_codes']}\")\n",
    "                    if 'alternative_reasoning' in row and pd.notna(row['alternative_reasoning']):\n",
    "                        print(f\"  Reasoning: {row['alternative_reasoning'][:100]}...\")\n",
    "                    print()\n",
    "        \n",
    "        # Error clustering by text similarity (basic approach)\n",
    "        print(f\"\\nError Clustering by Text Characteristics:\")\n",
    "        \n",
    "        # Common words in false classifications\n",
    "        if len(false_classifications) >= 3:\n",
    "            all_false_text = ' '.join(false_classifications['text'].astype(str))\n",
    "            false_words = all_false_text.lower().split()\n",
    "            false_word_freq = pd.Series(false_words).value_counts()\n",
    "            \n",
    "            print(f\"Most common words in false classifications:\")\n",
    "            for word, freq in false_word_freq.head(10).items():\n",
    "                if len(word) > 3:  # Skip very short words\n",
    "                    print(f\"  '{word}': {freq} occurrences\")\n",
    "        \n",
    "        # Reasoning analysis for false classifications\n",
    "        if 'reasoning' in false_classifications.columns:\n",
    "            print(f\"\\nReasoning Analysis for False Classifications:\")\n",
    "            false_with_reasoning = false_classifications[false_classifications['reasoning'].notna()]\n",
    "            \n",
    "            if len(false_with_reasoning) > 0:\n",
    "                avg_reasoning_length = false_with_reasoning['reasoning'].str.len().mean()\n",
    "                print(f\"Average reasoning length for false classifications: {avg_reasoning_length:.1f} characters\")\n",
    "                \n",
    "                # Check for specific keywords in reasoning\n",
    "                reasoning_keywords = ['tidak sesuai', 'salah', 'error', 'incorrect', 'berbeda', 'contradiction']\n",
    "                for keyword in reasoning_keywords:\n",
    "                    keyword_count = false_with_reasoning['reasoning'].str.contains(keyword, case=False, na=False).sum()\n",
    "                    if keyword_count > 0:\n",
    "                        print(f\"  Reasoning containing '{keyword}': {keyword_count}\")\n",
    "        \n",
    "        # Temporal analysis of false classifications\n",
    "        if 'timestamp' in df.columns and df['timestamp'].notna().sum() > 0:\n",
    "            print(f\"\\nTemporal Analysis of False Classifications:\")\n",
    "            false_classifications['timestamp'] = pd.to_datetime(false_classifications['timestamp'])\n",
    "            false_classifications['hour'] = false_classifications['timestamp'].dt.hour\n",
    "            \n",
    "            hourly_errors = false_classifications['hour'].value_counts().sort_index()\n",
    "            if len(hourly_errors) > 0:\n",
    "                print(f\"Error distribution by hour:\")\n",
    "                for hour, count in hourly_errors.items():\n",
    "                    print(f\"  Hour {hour:02d}: {count} errors\")\n",
    "    \n",
    "    else:\n",
    "        print(\"No false classifications found for advanced pattern analysis.\")\n",
    "else:\n",
    "    print(\"Data not available for advanced error pattern analysis.\")"
   ]
  },
  {
   "cell_type": "markdown",
   "id": "d6c7474a",
   "metadata": {},
   "source": [
    "## 6. Data Visualization\n",
    "\n",
    "Create comprehensive visualizations to understand the patterns and insights from the LLM classification results."
   ]
  },
  {
   "cell_type": "code",
   "execution_count": 12,
   "id": "92c84c14",
   "metadata": {},
   "outputs": [
    {
     "data": {
      "image/png": "[encoded data removed]",
      "text/plain": [
       "<Figure size 1500x1200 with 4 Axes>"
      ]
     },
     "metadata": {},
     "output_type": "display_data"
    }
   ],
   "source": [
    "### 6.1 Confidence Score Distributions\n",
    "\n",
    "if 'df' in locals():\n",
    "    fig, axes = plt.subplots(2, 2, figsize=(15, 12))\n",
    "    fig.suptitle('LLM Classification Confidence Score Analysis', fontsize=16, fontweight='bold')\n",
    "    \n",
    "    # 1. Overall confidence distribution\n",
    "    axes[0, 0].hist(df['confidence_score'], bins=30, alpha=0.7, color='skyblue', edgecolor='black')\n",
    "    axes[0, 0].axvline(df['confidence_score'].mean(), color='red', linestyle='--', \n",
    "                       label=f'Mean: {df[\"confidence_score\"].mean():.3f}')\n",
    "    axes[0, 0].set_xlabel('Confidence Score')\n",
    "    axes[0, 0].set_ylabel('Frequency')\n",
    "    axes[0, 0].set_title('Overall Confidence Distribution')\n",
    "    axes[0, 0].legend()\n",
    "    axes[0, 0].grid(True, alpha=0.3)\n",
    "    \n",
    "    # 2. Confidence by correctness\n",
    "    correct_conf = df[df['is_correct']]['confidence_score']\n",
    "    incorrect_conf = df[~df['is_correct']]['confidence_score']\n",
    "    \n",
    "    axes[0, 1].hist([correct_conf, incorrect_conf], bins=20, alpha=0.7, \n",
    "                    label=['Correct', 'Incorrect'], color=['green', 'red'])\n",
    "    axes[0, 1].set_xlabel('Confidence Score')\n",
    "    axes[0, 1].set_ylabel('Frequency')\n",
    "    axes[0, 1].set_title('Confidence Distribution by Correctness')\n",
    "    axes[0, 1].legend()\n",
    "    axes[0, 1].grid(True, alpha=0.3)\n",
    "    \n",
    "    # 3. Box plot by model\n",
    "    if df['model'].nunique() > 1:\n",
    "        df.boxplot(column='confidence_score', by='model', ax=axes[1, 0])\n",
    "        axes[1, 0].set_title('Confidence Distribution by Model')\n",
    "        axes[1, 0].set_xlabel('Model')\n",
    "        axes[1, 0].set_ylabel('Confidence Score')\n",
    "    else:\n",
    "        axes[1, 0].boxplot(df['confidence_score'])\n",
    "        axes[1, 0].set_title('Confidence Score Box Plot')\n",
    "        axes[1, 0].set_ylabel('Confidence Score')\n",
    "    \n",
    "    # 4. Confidence vs Accuracy correlation\n",
    "    # Create confidence bins\n",
    "    confidence_bins = pd.cut(df['confidence_score'], bins=10)\n",
    "    accuracy_by_conf = df.groupby(confidence_bins)['is_correct'].agg(['mean', 'count'])\n",
    "    \n",
    "    # Only plot bins with sufficient data\n",
    "    mask = accuracy_by_conf['count'] >= 5\n",
    "    filtered_accuracy = accuracy_by_conf[mask]\n",
    "    \n",
    "    if len(filtered_accuracy) > 0:\n",
    "        bin_centers = [interval.mid for interval in filtered_accuracy.index]\n",
    "        axes[1, 1].plot(bin_centers, filtered_accuracy['mean'], 'o-', linewidth=2, markersize=8)\n",
    "        axes[1, 1].set_xlabel('Confidence Score (bin center)')\n",
    "        axes[1, 1].set_ylabel('Accuracy')\n",
    "        axes[1, 1].set_title('Accuracy vs Confidence Score')\n",
    "        axes[1, 1].grid(True, alpha=0.3)\n",
    "        axes[1, 1].set_ylim(0, 1)\n",
    "    \n",
    "    plt.tight_layout()\n",
    "    plt.show()\n",
    "else:\n",
    "    print(\"Data not available for visualization.\")"
   ]
  },
  {
   "cell_type": "code",
   "execution_count": 13,
   "id": "360dce55",
   "metadata": {},
   "outputs": [
    {
     "data": {
      "image/png": "[encoded data removed]",
      "text/plain": [
       "<Figure size 1500x1200 with 4 Axes>"
      ]
     },
     "metadata": {},
     "output_type": "display_data"
    }
   ],
   "source": [
    "### 6.2 Self-Consistency Visualization\n",
    "\n",
    "if 'df' in locals() and 'consistency_results' in locals():\n",
    "    fig, axes = plt.subplots(2, 2, figsize=(15, 12))\n",
    "    fig.suptitle('Self-Consistency Analysis Across Models', fontsize=16, fontweight='bold')\n",
    "    \n",
    "    # Prepare data for visualization\n",
    "    models = list(consistency_results.keys())\n",
    "    \n",
    "    if len(models) > 0:\n",
    "        # 1. Agreement patterns\n",
    "        agreement_data = []\n",
    "        for model in models:\n",
    "            details = consistency_results[model]['details']\n",
    "            agreement_counts = details['votes_correct'].value_counts().reindex([0, 1, 2, 3], fill_value=0)\n",
    "            agreement_data.append(agreement_counts.values)\n",
    "        \n",
    "        x = np.arange(4)\n",
    "        width = 0.35 if len(models) > 1 else 0.8\n",
    "        \n",
    "        for i, model in enumerate(models):\n",
    "            offset = (i - len(models)/2 + 0.5) * width if len(models) > 1 else 0\n",
    "            axes[0, 0].bar(x + offset, agreement_data[i], width, \n",
    "                          label=model, alpha=0.8)\n",
    "        \n",
    "        axes[0, 0].set_xlabel('Number of Correct Votes (out of 3)')\n",
    "        axes[0, 0].set_ylabel('Number of UUIDs')\n",
    "        axes[0, 0].set_title('Distribution of Vote Patterns')\n",
    "        axes[0, 0].set_xticks(x)\n",
    "        axes[0, 0].set_xticklabels(['0/3', '1/3', '2/3', '3/3'])\n",
    "        if len(models) > 1:\n",
    "            axes[0, 0].legend()\n",
    "        axes[0, 0].grid(True, alpha=0.3)\n",
    "        \n",
    "        # 2. Unanimous vs Split decisions\n",
    "        unanimous_data = []\n",
    "        split_data = []\n",
    "        for model in models:\n",
    "            stats = consistency_results[model]['stats']\n",
    "            unanimous_data.append(stats['unanimous_agreement'])\n",
    "            split_data.append(stats['split_decisions'])\n",
    "        \n",
    "        x = np.arange(len(models))\n",
    "        axes[0, 1].bar(x, unanimous_data, width=0.4, label='Unanimous', alpha=0.8)\n",
    "        axes[0, 1].bar(x, split_data, width=0.4, bottom=unanimous_data, \n",
    "                      label='Split Decision', alpha=0.8)\n",
    "        axes[0, 1].set_xlabel('Model')\n",
    "        axes[0, 1].set_ylabel('Number of UUIDs')\n",
    "        axes[0, 1].set_title('Agreement Types by Model')\n",
    "        axes[0, 1].set_xticks(x)\n",
    "        axes[0, 1].set_xticklabels([model.replace('gemini-', '') for model in models], rotation=45)\n",
    "        axes[0, 1].legend()\n",
    "        axes[0, 1].grid(True, alpha=0.3)\n",
    "        \n",
    "        # 3. Confidence consistency\n",
    "        conf_consistency_data = [consistency_results[model]['stats']['confidence_consistency'] \n",
    "                               for model in models]\n",
    "        avg_confidence_data = [consistency_results[model]['stats']['avg_confidence'] \n",
    "                             for model in models]\n",
    "        \n",
    "        axes[1, 0].scatter(avg_confidence_data, conf_consistency_data, s=100, alpha=0.7)\n",
    "        for i, model in enumerate(models):\n",
    "            axes[1, 0].annotate(model.replace('gemini-', ''), \n",
    "                              (avg_confidence_data[i], conf_consistency_data[i]),\n",
    "                              xytext=(5, 5), textcoords='offset points')\n",
    "        axes[1, 0].set_xlabel('Average Confidence')\n",
    "        axes[1, 0].set_ylabel('Confidence Consistency')\n",
    "        axes[1, 0].set_title('Confidence vs Consistency by Model')\n",
    "        axes[1, 0].grid(True, alpha=0.3)\n",
    "        \n",
    "        # 4. Performance summary\n",
    "        if len(models) > 0:\n",
    "            # Get first model details for histogram\n",
    "            first_model_details = consistency_results[models[0]]['details']\n",
    "            axes[1, 1].hist(first_model_details['confidence_mean'], bins=20, alpha=0.7, \n",
    "                           color='lightblue', edgecolor='black')\n",
    "            axes[1, 1].set_xlabel('Average Confidence per UUID')\n",
    "            axes[1, 1].set_ylabel('Frequency')\n",
    "            axes[1, 1].set_title(f'UUID-level Confidence Distribution\\n({models[0]})')\n",
    "            axes[1, 1].grid(True, alpha=0.3)\n",
    "    \n",
    "    plt.tight_layout()\n",
    "    plt.show()\n",
    "else:\n",
    "    print(\"Consistency results not available for visualization.\")"
   ]
  },
  {
   "cell_type": "code",
   "execution_count": 14,
   "id": "7f92e6aa",
   "metadata": {},
   "outputs": [
    {
     "data": {
      "image/png": "[encoded data removed]",
      "text/plain": [
       "<Figure size 1500x1200 with 4 Axes>"
      ]
     },
     "metadata": {},
     "output_type": "display_data"
    },
    {
     "name": "stdout",
     "output_type": "stream",
     "text": [
      "\n",
      "==================================================\n",
      "ERROR CONSISTENCY ANALYSIS\n",
      "==================================================\n"
     ]
    },
    {
     "data": {
      "image/png": "[encoded data removed]",
      "text/plain": [
       "<Figure size 1000x600 with 1 Axes>"
      ]
     },
     "metadata": {},
     "output_type": "display_data"
    },
    {
     "name": "stdout",
     "output_type": "stream",
     "text": [
      "Error pattern distribution:\n",
      "  XXX: 51 UUIDs\n",
      "  OXO: 3 UUIDs\n",
      "  XXO: 1 UUIDs\n",
      "  OOX: 1 UUIDs\n"
     ]
    }
   ],
   "source": [
    "### 6.3 False Classification Visualizations\n",
    "\n",
    "if 'df' in locals():\n",
    "    false_classifications = df[df['is_correct'] == False].copy()\n",
    "    \n",
    "    if len(false_classifications) > 0:\n",
    "        fig, axes = plt.subplots(2, 2, figsize=(15, 12))\n",
    "        fig.suptitle('False Classification Analysis', fontsize=16, fontweight='bold')\n",
    "        \n",
    "        # 1. Error rate by model\n",
    "        model_error_rates = df.groupby('model')['is_correct'].agg(['count', 'mean'])\n",
    "        model_error_rates['error_rate'] = (1 - model_error_rates['mean']) * 100\n",
    "        model_error_rates['error_count'] = model_error_rates['count'] * (1 - model_error_rates['mean'])\n",
    "        \n",
    "        model_names = [name.replace('gemini-', '') for name in model_error_rates.index]\n",
    "        axes[0, 0].bar(model_names, model_error_rates['error_rate'], color='red', alpha=0.7)\n",
    "        axes[0, 0].set_xlabel('Model')\n",
    "        axes[0, 0].set_ylabel('Error Rate (%)')\n",
    "        axes[0, 0].set_title('Error Rate by Model')\n",
    "        axes[0, 0].tick_params(axis='x', rotation=45)\n",
    "        axes[0, 0].grid(True, alpha=0.3)\n",
    "        \n",
    "        # Add error count annotations\n",
    "        for i, (model, rate) in enumerate(zip(model_names, model_error_rates['error_rate'])):\n",
    "            error_count = int(model_error_rates['error_count'].iloc[i])\n",
    "            axes[0, 0].annotate(f'{error_count}', (i, rate), ha='center', va='bottom')\n",
    "        \n",
    "        # 2. Confidence distribution for false vs true classifications\n",
    "        true_conf = df[df['is_correct']]['confidence_score']\n",
    "        false_conf = false_classifications['confidence_score']\n",
    "        \n",
    "        axes[0, 1].hist([true_conf, false_conf], bins=20, alpha=0.7, \n",
    "                       label=['Correct', 'Incorrect'], color=['green', 'red'])\n",
    "        axes[0, 1].set_xlabel('Confidence Score')\n",
    "        axes[0, 1].set_ylabel('Frequency')\n",
    "        axes[0, 1].set_title('Confidence Distribution: Correct vs Incorrect')\n",
    "        axes[0, 1].legend()\n",
    "        axes[0, 1].grid(True, alpha=0.3)\n",
    "        \n",
    "        # 3. Error rate by KBLI code (top 10 codes by frequency)\n",
    "        top_kbli_codes = df['kbli_code'].value_counts().head(10).index\n",
    "        kbli_error_data = []\n",
    "        \n",
    "        for code in top_kbli_codes:\n",
    "            code_data = df[df['kbli_code'] == code]\n",
    "            error_rate = (1 - code_data['is_correct'].mean()) * 100\n",
    "            total_count = len(code_data)\n",
    "            kbli_error_data.append({'code': code, 'error_rate': error_rate, 'count': total_count})\n",
    "        \n",
    "        kbli_df = pd.DataFrame(kbli_error_data)\n",
    "        bars = axes[1, 0].bar(range(len(kbli_df)), kbli_df['error_rate'], color='orange', alpha=0.7)\n",
    "        axes[1, 0].set_xlabel('KBLI Code')\n",
    "        axes[1, 0].set_ylabel('Error Rate (%)')\n",
    "        axes[1, 0].set_title('Error Rate by KBLI Code (Top 10)')\n",
    "        axes[1, 0].set_xticks(range(len(kbli_df)))\n",
    "        axes[1, 0].set_xticklabels(kbli_df['code'], rotation=45)\n",
    "        axes[1, 0].grid(True, alpha=0.3)\n",
    "        \n",
    "        # Add count annotations\n",
    "        for i, (bar, count) in enumerate(zip(bars, kbli_df['count'])):\n",
    "            axes[1, 0].annotate(f'n={count}', (i, bar.get_height()), ha='center', va='bottom', fontsize=8)\n",
    "        \n",
    "        # 4. Text length vs accuracy\n",
    "        if 'text_length' in df.columns:\n",
    "            # Create text length bins\n",
    "            df['length_bin'] = pd.cut(df['text_length'], bins=5)\n",
    "            length_accuracy = df.groupby('length_bin')['is_correct'].agg(['count', 'mean'])\n",
    "            length_accuracy['error_rate'] = (1 - length_accuracy['mean']) * 100\n",
    "            \n",
    "            bin_labels = [f'{int(interval.left)}-{int(interval.right)}' for interval in length_accuracy.index]\n",
    "            axes[1, 1].bar(range(len(length_accuracy)), length_accuracy['error_rate'], \n",
    "                          color='purple', alpha=0.7)\n",
    "            axes[1, 1].set_xlabel('Text Length (characters)')\n",
    "            axes[1, 1].set_ylabel('Error Rate (%)')\n",
    "            axes[1, 1].set_title('Error Rate by Text Length')\n",
    "            axes[1, 1].set_xticks(range(len(length_accuracy)))\n",
    "            axes[1, 1].set_xticklabels(bin_labels, rotation=45)\n",
    "            axes[1, 1].grid(True, alpha=0.3)\n",
    "        else:\n",
    "            axes[1, 1].text(0.5, 0.5, 'Text length data\\nnot available', \n",
    "                           ha='center', va='center', transform=axes[1, 1].transAxes)\n",
    "            axes[1, 1].set_title('Text Length Analysis')\n",
    "        \n",
    "        plt.tight_layout()\n",
    "        plt.show()\n",
    "        \n",
    "        # Additional visualization: Error patterns over runs\n",
    "        if df['run_id'].nunique() == 3:\n",
    "            print(\"\\n\" + \"=\"*50)\n",
    "            print(\"ERROR CONSISTENCY ANALYSIS\")\n",
    "            print(\"=\"*50)\n",
    "            \n",
    "            # Analyze error patterns across runs\n",
    "            error_patterns = []\n",
    "            for model in df['model'].unique():\n",
    "                model_data = df[df['model'] == model]\n",
    "                \n",
    "                for uuid in model_data['uuid'].unique():\n",
    "                    uuid_data = model_data[model_data['uuid'] == uuid]\n",
    "                    \n",
    "                    if len(uuid_data) == 3:\n",
    "                        error_pattern = tuple(~uuid_data.sort_values('run_id')['is_correct'])\n",
    "                        error_count = sum(error_pattern)\n",
    "                        \n",
    "                        if error_count > 0:  # At least one error\n",
    "                            error_patterns.append({\n",
    "                                'model': model,\n",
    "                                'uuid': uuid,\n",
    "                                'pattern': error_pattern,\n",
    "                                'error_count': error_count,\n",
    "                                'pattern_str': ''.join(['X' if x else 'O' for x in error_pattern])\n",
    "                            })\n",
    "            \n",
    "            if error_patterns:\n",
    "                error_df = pd.DataFrame(error_patterns)\n",
    "                pattern_counts = error_df['pattern_str'].value_counts()\n",
    "                \n",
    "                plt.figure(figsize=(10, 6))\n",
    "                plt.bar(pattern_counts.index, pattern_counts.values, color='red', alpha=0.7)\n",
    "                plt.xlabel('Error Pattern (O=Correct, X=Incorrect)')\n",
    "                plt.ylabel('Number of UUIDs')\n",
    "                plt.title('Error Patterns Across 3 Runs\\n(Each position represents Run 1, 2, 3)')\n",
    "                plt.xticks(rotation=45)\n",
    "                plt.grid(True, alpha=0.3)\n",
    "                \n",
    "                # Add count annotations\n",
    "                for i, (pattern, count) in enumerate(pattern_counts.items()):\n",
    "                    plt.annotate(f'{count}', (i, count), ha='center', va='bottom')\n",
    "                \n",
    "                plt.tight_layout()\n",
    "                plt.show()\n",
    "                \n",
    "                print(f\"Error pattern distribution:\")\n",
    "                for pattern, count in pattern_counts.items():\n",
    "                    print(f\"  {pattern}: {count} UUIDs\")\n",
    "    \n",
    "    else:\n",
    "        print(\"No false classifications found for visualization.\")\n",
    "        plt.figure(figsize=(8, 6))\n",
    "        plt.text(0.5, 0.5, 'No False Classifications Found\\nAll predictions appear to be correct!', \n",
    "                ha='center', va='center', fontsize=16, \n",
    "                bbox=dict(boxstyle=\"round,pad=0.3\", facecolor=\"lightgreen\", alpha=0.7))\n",
    "        plt.xlim(0, 1)\n",
    "        plt.ylim(0, 1)\n",
    "        plt.axis('off')\n",
    "        plt.title('False Classification Analysis', fontsize=16, fontweight='bold')\n",
    "        plt.show()\n",
    "else:\n",
    "    print(\"Data not available for false classification visualization.\")"
   ]
  },
  {
   "cell_type": "code",
   "execution_count": 15,
   "id": "386d49ce",
   "metadata": {},
   "outputs": [
    {
     "name": "stdout",
     "output_type": "stream",
     "text": [
      "Creating interactive visualizations...\n"
     ]
    },
    {
     "data": {
      "application/vnd.plotly.v1+json": {
       "config": {
        "plotlyServerURL": "https://plot.ly"
       },
       "data": [
        {
         "bingroup": "x",
         "hovertemplate": "Classification Result=True<br>Confidence Score=%{x}<br>count=%{y}<extra></extra>",
         "legendgroup": "True",
         "marker": {
          "color": "#636efa",
          "pattern": {
           "shape": ""
          }
         },
         "name": "True",
         "nbinsx": 25,
         "orientation": "v",
         "showlegend": true,
         "type": "histogram",
         "x": {
          "bdata": "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",
          "dtype": "f8"
         },
         "xaxis": "x",
         "yaxis": "y"
        },
        {
         "bingroup": "x",
         "hovertemplate": "Classification Result=False<br>Confidence Score=%{x}<br>count=%{y}<extra></extra>",
         "legendgroup": "False",
         "marker": {
          "color": "#EF553B",
          "pattern": {
           "shape": ""
          }
         },
         "name": "False",
         "nbinsx": 25,
         "orientation": "v",
         "showlegend": true,
         "type": "histogram",
         "x": {
          "bdata": "zczMzMzM7D/NzMzMzMzsP83MzMzMzOw/zczMzMzM7D/NzMzMzMzsP83MzMzMzOw/zczMzMzM7D/NzMzMzMzsP83MzMzMzOw/zczMzMzM7D/NzMzMzMzsP83MzMzMzOw/zczMzMzM7D/NzMzMzMzsP83MzMzMzOw/zczMzMzM7D/NzMzMzMzsP83MzMzMzOw/zczMzMzM7D/NzMzMzMzsP83MzMzMzOw/zczMzMzM7D/NzMzMzMzsP83MzMzMzOw/zczMzMzM7D/NzMzMzMzsPwAAAAAAAPA/ZmZmZmZm7j/NzMzMzMzsP83MzMzMzOw/zczMzMzM7D/NzMzMzMzsP2ZmZmZmZu4/zczMzMzM7D/NzMzMzMzsP83MzMzMzOw/zczMzMzM7D/NzMzMzMzsP83MzMzMzOw/zczMzMzM7D8AAAAAAADwP83MzMzMzOw/AAAAAAAA8D/NzMzMzMzsP83MzMzMzOw/zczMzMzM7D/NzMzMzMzsP83MzMzMzOw/zczMzMzM7D/NzMzMzMzsP2ZmZmZmZu4/AAAAAAAA8D/NzMzMzMzsP83MzMzMzOw/zczMzMzM7D/NzMzMzMzsPwAAAAAAAPA/AAAAAAAA8D8AAAAAAADwP83MzMzMzOw/ZmZmZmZm7j/NzMzMzMzsP83MzMzMzOw/zczMzMzM7D/NzMzMzMzsP83MzMzMzOw/zczMzMzM7D/NzMzMzMzsP83MzMzMzOw/zczMzMzM7D/NzMzMzMzsP83MzMzMzOw/zczMzMzM7D/NzMzMzMzsP83MzMzMzOw/zczMzMzM7D9mZmZmZmbuP83MzMzMzOw/zczMzMzM7D/NzMzMzMzsP83MzMzMzOw/zczMzMzM7D/NzMzMzMzsP83MzMzMzOw/zczMzMzM7D/NzMzMzMzsP83MzMzMzOw/zczMzMzM7D/NzMzMzMzsP83MzMzMzOw/zczMzMzM7D/NzMzMzMzsP83MzMzMzOw/zczMzMzM7D/NzMzMzMzsP83MzMzMzOw/zczMzMzM7D/NzMzMzMzsP83MzMzMzOw/AAAAAAAA8D/NzMzMzMzsPwAAAAAAAPA/zczMzMzM7D8AAAAAAADwPwAAAAAAAPA/AAAAAAAA8D/NzMzMzMzsP83MzMzMzOw/AAAAAAAA8D8AAAAAAADwPwAAAAAAAPA/AAAAAAAA8D8AAAAAAADwPwAAAAAAAPA/AAAAAAAA8D/NzMzMzMzsP83MzMzMzOw/zczMzMzM7D8AAAAAAADwPwAAAAAAAPA/AAAAAAAA8D8AAAAAAADwPwAAAAAAAPA/AAAAAAAA8D/NzMzMzMzsP83MzMzMzOw/zczMzMzM7D/NzMzMzMzsP83MzMzMzOw/zczMzMzM7D/NzMzMzMzsP83MzMzMzOw/zczMzMzM7D/NzMzMzMzsP83MzMzMzOw/zczMzMzM7D/NzMzMzMzsP83MzMzMzOw/zczMzMzM7D/NzMzMzMzsP83MzMzMzOw/zczMzMzM7D8zMzMzMzPrP83MzMzMzOw/zczMzMzM7D/NzMzMzMzsPwAAAAAAAPA/zczMzMzM7D/NzMzMzMzsP83MzMzMzOw/zczMzMzM7D/NzMzMzMzsP83MzMzMzOw/zczMzMzM7D/NzMzMzMzsP83MzMzMzOw/zczMzMzM7D/NzMzMzMzsP83MzMzMzOw/",
          "dtype": "f8"
         },
         "xaxis": "x",
         "yaxis": "y"
        }
       ],
       "layout": {
        "barmode": "relative",
        "height": 500,
        "legend": {
         "title": {
          "text": "Classification Result"
         },
         "tracegroupgap": 0
        },
        "template": {
         "data": {
          "bar": [
           {
            "error_x": {
             "color": "#2a3f5f"
            },
            "error_y": {
             "color": "#2a3f5f"
            },
            "marker": {
             "line": {
              "color": "#E5ECF6",
              "width": 0.5
             },
             "pattern": {
              "fillmode": "overlay",
              "size": 10,
              "solidity": 0.2
             }
            },
            "type": "bar"
           }
          ],
          "barpolar": [
           {
            "marker": {
             "line": {
              "color": "#E5ECF6",
              "width": 0.5
             },
             "pattern": {
              "fillmode": "overlay",
              "size": 10,
              "solidity": 0.2
             }
            },
            "type": "barpolar"
           }
          ],
          "carpet": [
           {
            "aaxis": {
             "endlinecolor": "#2a3f5f",
             "gridcolor": "white",
             "linecolor": "white",
             "minorgridcolor": "white",
             "startlinecolor": "#2a3f5f"
            },
            "baxis": {
             "endlinecolor": "#2a3f5f",
             "gridcolor": "white",
             "linecolor": "white",
             "minorgridcolor": "white",
             "startlinecolor": "#2a3f5f"
            },
            "type": "carpet"
           }
          ],
          "choropleth": [
           {
            "colorbar": {
             "outlinewidth": 0,
             "ticks": ""
            },
            "type": "choropleth"
           }
          ],
          "contour": [
           {
            "colorbar": {
             "outlinewidth": 0,
             "ticks": ""
            },
            "colorscale": [
             [
              0,
              "#0d0887"
             ],
             [
              0.1111111111111111,
              "#46039f"
             ],
             [
              0.2222222222222222,
              "#7201a8"
             ],
             [
              0.3333333333333333,
              "#9c179e"
             ],
             [
              0.4444444444444444,
              "#bd3786"
             ],
             [
              0.5555555555555556,
              "#d8576b"
             ],
             [
              0.6666666666666666,
              "#ed7953"
             ],
             [
              0.7777777777777778,
              "#fb9f3a"
             ],
             [
              0.8888888888888888,
              "#fdca26"
             ],
             [
              1,
              "#f0f921"
             ]
            ],
            "type": "contour"
           }
          ],
          "contourcarpet": [
           {
            "colorbar": {
             "outlinewidth": 0,
             "ticks": ""
            },
            "type": "contourcarpet"
           }
          ],
          "heatmap": [
           {
            "colorbar": {
             "outlinewidth": 0,
             "ticks": ""
            },
            "colorscale": [
             [
              0,
              "#0d0887"
             ],
             [
              0.1111111111111111,
              "#46039f"
             ],
             [
              0.2222222222222222,
              "#7201a8"
             ],
             [
              0.3333333333333333,
              "#9c179e"
             ],
             [
              0.4444444444444444,
              "#bd3786"
             ],
             [
              0.5555555555555556,
              "#d8576b"
             ],
             [
              0.6666666666666666,
              "#ed7953"
             ],
             [
              0.7777777777777778,
              "#fb9f3a"
             ],
             [
              0.8888888888888888,
              "#fdca26"
             ],
             [
              1,
              "#f0f921"
             ]
            ],
            "type": "heatmap"
           }
          ],
          "histogram": [
           {
            "marker": {
             "pattern": {
              "fillmode": "overlay",
              "size": 10,
              "solidity": 0.2
             }
            },
            "type": "histogram"
           }
          ],
          "histogram2d": [
           {
            "colorbar": {
             "outlinewidth": 0,
             "ticks": ""
            },
            "colorscale": [
             [
              0,
              "#0d0887"
             ],
             [
              0.1111111111111111,
              "#46039f"
             ],
             [
              0.2222222222222222,
              "#7201a8"
             ],
             [
              0.3333333333333333,
              "#9c179e"
             ],
             [
              0.4444444444444444,
              "#bd3786"
             ],
             [
              0.5555555555555556,
              "#d8576b"
             ],
             [
              0.6666666666666666,
              "#ed7953"
             ],
             [
              0.7777777777777778,
              "#fb9f3a"
             ],
             [
              0.8888888888888888,
              "#fdca26"
             ],
             [
              1,
              "#f0f921"
             ]
            ],
            "type": "histogram2d"
           }
          ],
          "histogram2dcontour": [
           {
            "colorbar": {
             "outlinewidth": 0,
             "ticks": ""
            },
            "colorscale": [
             [
              0,
              "#0d0887"
             ],
             [
              0.1111111111111111,
              "#46039f"
             ],
             [
              0.2222222222222222,
              "#7201a8"
             ],
             [
              0.3333333333333333,
              "#9c179e"
             ],
             [
              0.4444444444444444,
              "#bd3786"
             ],
             [
              0.5555555555555556,
              "#d8576b"
             ],
             [
              0.6666666666666666,
              "#ed7953"
             ],
             [
              0.7777777777777778,
              "#fb9f3a"
             ],
             [
              0.8888888888888888,
              "#fdca26"
             ],
             [
              1,
              "#f0f921"
             ]
            ],
            "type": "histogram2dcontour"
           }
          ],
          "mesh3d": [
           {
            "colorbar": {
             "outlinewidth": 0,
             "ticks": ""
            },
            "type": "mesh3d"
           }
          ],
          "parcoords": [
           {
            "line": {
             "colorbar": {
              "outlinewidth": 0,
              "ticks": ""
             }
            },
            "type": "parcoords"
           }
          ],
          "pie": [
           {
            "automargin": true,
            "type": "pie"
           }
          ],
          "scatter": [
           {
            "fillpattern": {
             "fillmode": "overlay",
             "size": 10,
             "solidity": 0.2
            },
            "type": "scatter"
           }
          ],
          "scatter3d": [
           {
            "line": {
             "colorbar": {
              "outlinewidth": 0,
              "ticks": ""
             }
            },
            "marker": {
             "colorbar": {
              "outlinewidth": 0,
              "ticks": ""
             }
            },
            "type": "scatter3d"
           }
          ],
          "scattercarpet": [
           {
            "marker": {
             "colorbar": {
              "outlinewidth": 0,
              "ticks": ""
             }
            },
            "type": "scattercarpet"
           }
          ],
          "scattergeo": [
           {
            "marker": {
             "colorbar": {
              "outlinewidth": 0,
              "ticks": ""
             }
            },
            "type": "scattergeo"
           }
          ],
          "scattergl": [
           {
            "marker": {
             "colorbar": {
              "outlinewidth": 0,
              "ticks": ""
             }
            },
            "type": "scattergl"
           }
          ],
          "scattermap": [
           {
            "marker": {
             "colorbar": {
              "outlinewidth": 0,
              "ticks": ""
             }
            },
            "type": "scattermap"
           }
          ],
          "scattermapbox": [
           {
            "marker": {
             "colorbar": {
              "outlinewidth": 0,
              "ticks": ""
             }
            },
            "type": "scattermapbox"
           }
          ],
          "scatterpolar": [
           {
            "marker": {
             "colorbar": {
              "outlinewidth": 0,
              "ticks": ""
             }
            },
            "type": "scatterpolar"
           }
          ],
          "scatterpolargl": [
           {
            "marker": {
             "colorbar": {
              "outlinewidth": 0,
              "ticks": ""
             }
            },
            "type": "scatterpolargl"
           }
          ],
          "scatterternary": [
           {
            "marker": {
             "colorbar": {
              "outlinewidth": 0,
              "ticks": ""
             }
            },
            "type": "scatterternary"
           }
          ],
          "surface": [
           {
            "colorbar": {
             "outlinewidth": 0,
             "ticks": ""
            },
            "colorscale": [
             [
              0,
              "#0d0887"
             ],
             [
              0.1111111111111111,
              "#46039f"
             ],
             [
              0.2222222222222222,
              "#7201a8"
             ],
             [
              0.3333333333333333,
              "#9c179e"
             ],
             [
              0.4444444444444444,
              "#bd3786"
             ],
             [
              0.5555555555555556,
              "#d8576b"
             ],
             [
              0.6666666666666666,
              "#ed7953"
             ],
             [
              0.7777777777777778,
              "#fb9f3a"
             ],
             [
              0.8888888888888888,
              "#fdca26"
             ],
             [
              1,
              "#f0f921"
             ]
            ],
            "type": "surface"
           }
          ],
          "table": [
           {
            "cells": {
             "fill": {
              "color": "#EBF0F8"
             },
             "line": {
              "color": "white"
             }
            },
            "header": {
             "fill": {
              "color": "#C8D4E3"
             },
             "line": {
              "color": "white"
             }
            },
            "type": "table"
           }
          ]
         },
         "layout": {
          "annotationdefaults": {
           "arrowcolor": "#2a3f5f",
           "arrowhead": 0,
           "arrowwidth": 1
          },
          "autotypenumbers": "strict",
          "coloraxis": {
           "colorbar": {
            "outlinewidth": 0,
            "ticks": ""
           }
          },
          "colorscale": {
           "diverging": [
            [
             0,
             "#8e0152"
            ],
            [
             0.1,
             "#c51b7d"
            ],
            [
             0.2,
             "#de77ae"
            ],
            [
             0.3,
             "#f1b6da"
            ],
            [
             0.4,
             "#fde0ef"
            ],
            [
             0.5,
             "#f7f7f7"
            ],
            [
             0.6,
             "#e6f5d0"
            ],
            [
             0.7,
             "#b8e186"
            ],
            [
             0.8,
             "#7fbc41"
            ],
            [
             0.9,
             "#4d9221"
            ],
            [
             1,
             "#276419"
            ]
           ],
           "sequential": [
            [
             0,
             "#0d0887"
            ],
            [
             0.1111111111111111,
             "#46039f"
            ],
            [
             0.2222222222222222,
             "#7201a8"
            ],
            [
             0.3333333333333333,
             "#9c179e"
            ],
            [
             0.4444444444444444,
             "#bd3786"
            ],
            [
             0.5555555555555556,
             "#d8576b"
            ],
            [
             0.6666666666666666,
             "#ed7953"
            ],
            [
             0.7777777777777778,
             "#fb9f3a"
            ],
            [
             0.8888888888888888,
             "#fdca26"
            ],
            [
             1,
             "#f0f921"
            ]
           ],
           "sequentialminus": [
            [
             0,
             "#0d0887"
            ],
            [
             0.1111111111111111,
             "#46039f"
            ],
            [
             0.2222222222222222,
             "#7201a8"
            ],
            [
             0.3333333333333333,
             "#9c179e"
            ],
            [
             0.4444444444444444,
             "#bd3786"
            ],
            [
             0.5555555555555556,
             "#d8576b"
            ],
            [
             0.6666666666666666,
             "#ed7953"
            ],
            [
             0.7777777777777778,
             "#fb9f3a"
            ],
            [
             0.8888888888888888,
             "#fdca26"
            ],
            [
             1,
             "#f0f921"
            ]
           ]
          },
          "colorway": [
           "#636efa",
           "#EF553B",
           "#00cc96",
           "#ab63fa",
           "#FFA15A",
           "#19d3f3",
           "#FF6692",
           "#B6E880",
           "#FF97FF",
           "#FECB52"
          ],
          "font": {
           "color": "#2a3f5f"
          },
          "geo": {
           "bgcolor": "white",
           "lakecolor": "white",
           "landcolor": "#E5ECF6",
           "showlakes": true,
           "showland": true,
           "subunitcolor": "white"
          },
          "hoverlabel": {
           "align": "left"
          },
          "hovermode": "closest",
          "mapbox": {
           "style": "light"
          },
          "paper_bgcolor": "white",
          "plot_bgcolor": "#E5ECF6",
          "polar": {
           "angularaxis": {
            "gridcolor": "white",
            "linecolor": "white",
            "ticks": ""
           },
           "bgcolor": "#E5ECF6",
           "radialaxis": {
            "gridcolor": "white",
            "linecolor": "white",
            "ticks": ""
           }
          },
          "scene": {
           "xaxis": {
            "backgroundcolor": "#E5ECF6",
            "gridcolor": "white",
            "gridwidth": 2,
            "linecolor": "white",
            "showbackground": true,
            "ticks": "",
            "zerolinecolor": "white"
           },
           "yaxis": {
            "backgroundcolor": "#E5ECF6",
            "gridcolor": "white",
            "gridwidth": 2,
            "linecolor": "white",
            "showbackground": true,
            "ticks": "",
            "zerolinecolor": "white"
           },
           "zaxis": {
            "backgroundcolor": "#E5ECF6",
            "gridcolor": "white",
            "gridwidth": 2,
            "linecolor": "white",
            "showbackground": true,
            "ticks": "",
            "zerolinecolor": "white"
           }
          },
          "shapedefaults": {
           "line": {
            "color": "#2a3f5f"
           }
          },
          "ternary": {
           "aaxis": {
            "gridcolor": "white",
            "linecolor": "white",
            "ticks": ""
           },
           "baxis": {
            "gridcolor": "white",
            "linecolor": "white",
            "ticks": ""
           },
           "bgcolor": "#E5ECF6",
           "caxis": {
            "gridcolor": "white",
            "linecolor": "white",
            "ticks": ""
           }
          },
          "title": {
           "x": 0.05
          },
          "xaxis": {
           "automargin": true,
           "gridcolor": "white",
           "linecolor": "white",
           "ticks": "",
           "title": {
            "standoff": 15
           },
           "zerolinecolor": "white",
           "zerolinewidth": 2
          },
          "yaxis": {
           "automargin": true,
           "gridcolor": "white",
           "linecolor": "white",
           "ticks": "",
           "title": {
            "standoff": 15
           },
           "zerolinecolor": "white",
           "zerolinewidth": 2
          }
         }
        },
        "title": {
         "text": "Interactive Confidence Distribution"
        },
        "xaxis": {
         "anchor": "y",
         "domain": [
          0,
          1
         ],
         "title": {
          "text": "Confidence Score"
         }
        },
        "yaxis": {
         "anchor": "x",
         "domain": [
          0,
          1
         ],
         "title": {
          "text": "count"
         }
        }
       }
      }
     },
     "metadata": {},
     "output_type": "display_data"
    },
    {
     "data": {
      "application/vnd.plotly.v1+json": {
       "config": {
        "plotlyServerURL": "https://plot.ly"
       },
       "data": [
        {
         "customdata": [
          [
           "10130"
          ],
          [
           "10211"
          ],
          [
           "10213"
          ],
          [
           "10219"
          ],
          [
           "10391"
          ],
          [
           "10392"
          ],
          [
           "10421"
          ],
          [
           "10431"
          ],
          [
           "10437"
          ],
          [
           "10631"
          ],
          [
           "10710"
          ],
          [
           "10721"
          ],
          [
           "10722"
          ],
          [
           "10740"
          ],
          [
           "10750"
          ]
         ],
         "hovertemplate": "Average Confidence Score=%{x}<br>Classification Accuracy=%{y}<br>Total_Predictions=%{marker.size}<br>kbli_code=%{customdata[0]}<extra></extra>",
         "legendgroup": "",
         "marker": {
          "color": "#636efa",
          "size": {
           "bdata": "CQ8JBhgVZh4JJ3IJMwxC",
           "dtype": "i1"
          },
          "sizemode": "area",
          "sizeref": 0.285,
          "symbol": "circle"
         },
         "mode": "markers",
         "name": "",
         "orientation": "v",
         "showlegend": false,
         "type": "scatter",
         "x": {
          "bdata": "i2zn+6nx7j9Ei2zn+6ntP2Q730+Nl+4/8tJNYhBY7T+HFtnO91PvPwAAAAAAAPA/tMh2vp8a7z9iEFg5tMjuP0Jg5dAi2+0/2/l+arx07z85tMh2vp/uP2iR7Xw/Ne4/WDm0yHa+7z9vEoPAyqHtP57vp8ZLN+0/",
          "dtype": "f8"
         },
         "xaxis": "x",
         "y": {
          "bdata": "8tJNYhBY5T8zMzMzMzPjPwAAAAAAAPA/AAAAAAAA8D8AAAAAAADsPwAAAAAAAPA/MzMzMzMz5z+amZmZmZnpP/LSTWIQWOU/8KfGSzeJ7T+sHFpkO9/nPx1aZDvfT9U/001iEFg57D8AAAAAAADoP3sUrkfheuA/",
          "dtype": "f8"
         },
         "yaxis": "y"
        }
       ],
       "layout": {
        "height": 500,
        "legend": {
         "itemsizing": "constant",
         "tracegroupgap": 0
        },
        "template": {
         "data": {
          "bar": [
           {
            "error_x": {
             "color": "#2a3f5f"
            },
            "error_y": {
             "color": "#2a3f5f"
            },
            "marker": {
             "line": {
              "color": "#E5ECF6",
              "width": 0.5
             },
             "pattern": {
              "fillmode": "overlay",
              "size": 10,
              "solidity": 0.2
             }
            },
            "type": "bar"
           }
          ],
          "barpolar": [
           {
            "marker": {
             "line": {
              "color": "#E5ECF6",
              "width": 0.5
             },
             "pattern": {
              "fillmode": "overlay",
              "size": 10,
              "solidity": 0.2
             }
            },
            "type": "barpolar"
           }
          ],
          "carpet": [
           {
            "aaxis": {
             "endlinecolor": "#2a3f5f",
             "gridcolor": "white",
             "linecolor": "white",
             "minorgridcolor": "white",
             "startlinecolor": "#2a3f5f"
            },
            "baxis": {
             "endlinecolor": "#2a3f5f",
             "gridcolor": "white",
             "linecolor": "white",
             "minorgridcolor": "white",
             "startlinecolor": "#2a3f5f"
            },
            "type": "carpet"
           }
          ],
          "choropleth": [
           {
            "colorbar": {
             "outlinewidth": 0,
             "ticks": ""
            },
            "type": "choropleth"
           }
          ],
          "contour": [
           {
            "colorbar": {
             "outlinewidth": 0,
             "ticks": ""
            },
            "colorscale": [
             [
              0,
              "#0d0887"
             ],
             [
              0.1111111111111111,
              "#46039f"
             ],
             [
              0.2222222222222222,
              "#7201a8"
             ],
             [
              0.3333333333333333,
              "#9c179e"
             ],
             [
              0.4444444444444444,
              "#bd3786"
             ],
             [
              0.5555555555555556,
              "#d8576b"
             ],
             [
              0.6666666666666666,
              "#ed7953"
             ],
             [
              0.7777777777777778,
              "#fb9f3a"
             ],
             [
              0.8888888888888888,
              "#fdca26"
             ],
             [
              1,
              "#f0f921"
             ]
            ],
            "type": "contour"
           }
          ],
          "contourcarpet": [
           {
            "colorbar": {
             "outlinewidth": 0,
             "ticks": ""
            },
            "type": "contourcarpet"
           }
          ],
          "heatmap": [
           {
            "colorbar": {
             "outlinewidth": 0,
             "ticks": ""
            },
            "colorscale": [
             [
              0,
              "#0d0887"
             ],
             [
              0.1111111111111111,
              "#46039f"
             ],
             [
              0.2222222222222222,
              "#7201a8"
             ],
             [
              0.3333333333333333,
              "#9c179e"
             ],
             [
              0.4444444444444444,
              "#bd3786"
             ],
             [
              0.5555555555555556,
              "#d8576b"
             ],
             [
              0.6666666666666666,
              "#ed7953"
             ],
             [
              0.7777777777777778,
              "#fb9f3a"
             ],
             [
              0.8888888888888888,
              "#fdca26"
             ],
             [
              1,
              "#f0f921"
             ]
            ],
            "type": "heatmap"
           }
          ],
          "histogram": [
           {
            "marker": {
             "pattern": {
              "fillmode": "overlay",
              "size": 10,
              "solidity": 0.2
             }
            },
            "type": "histogram"
           }
          ],
          "histogram2d": [
           {
            "colorbar": {
             "outlinewidth": 0,
             "ticks": ""
            },
            "colorscale": [
             [
              0,
              "#0d0887"
             ],
             [
              0.1111111111111111,
              "#46039f"
             ],
             [
              0.2222222222222222,
              "#7201a8"
             ],
             [
              0.3333333333333333,
              "#9c179e"
             ],
             [
              0.4444444444444444,
              "#bd3786"
             ],
             [
              0.5555555555555556,
              "#d8576b"
             ],
             [
              0.6666666666666666,
              "#ed7953"
             ],
             [
              0.7777777777777778,
              "#fb9f3a"
             ],
             [
              0.8888888888888888,
              "#fdca26"
             ],
             [
              1,
              "#f0f921"
             ]
            ],
            "type": "histogram2d"
           }
          ],
          "histogram2dcontour": [
           {
            "colorbar": {
             "outlinewidth": 0,
             "ticks": ""
            },
            "colorscale": [
             [
              0,
              "#0d0887"
             ],
             [
              0.1111111111111111,
              "#46039f"
             ],
             [
              0.2222222222222222,
              "#7201a8"
             ],
             [
              0.3333333333333333,
              "#9c179e"
             ],
             [
              0.4444444444444444,
              "#bd3786"
             ],
             [
              0.5555555555555556,
              "#d8576b"
             ],
             [
              0.6666666666666666,
              "#ed7953"
             ],
             [
              0.7777777777777778,
              "#fb9f3a"
             ],
             [
              0.8888888888888888,
              "#fdca26"
             ],
             [
              1,
              "#f0f921"
             ]
            ],
            "type": "histogram2dcontour"
           }
          ],
          "mesh3d": [
           {
            "colorbar": {
             "outlinewidth": 0,
             "ticks": ""
            },
            "type": "mesh3d"
           }
          ],
          "parcoords": [
           {
            "line": {
             "colorbar": {
              "outlinewidth": 0,
              "ticks": ""
             }
            },
            "type": "parcoords"
           }
          ],
          "pie": [
           {
            "automargin": true,
            "type": "pie"
           }
          ],
          "scatter": [
           {
            "fillpattern": {
             "fillmode": "overlay",
             "size": 10,
             "solidity": 0.2
            },
            "type": "scatter"
           }
          ],
          "scatter3d": [
           {
            "line": {
             "colorbar": {
              "outlinewidth": 0,
              "ticks": ""
             }
            },
            "marker": {
             "colorbar": {
              "outlinewidth": 0,
              "ticks": ""
             }
            },
            "type": "scatter3d"
           }
          ],
          "scattercarpet": [
           {
            "marker": {
             "colorbar": {
              "outlinewidth": 0,
              "ticks": ""
             }
            },
            "type": "scattercarpet"
           }
          ],
          "scattergeo": [
           {
            "marker": {
             "colorbar": {
              "outlinewidth": 0,
              "ticks": ""
             }
            },
            "type": "scattergeo"
           }
          ],
          "scattergl": [
           {
            "marker": {
             "colorbar": {
              "outlinewidth": 0,
              "ticks": ""
             }
            },
            "type": "scattergl"
           }
          ],
          "scattermap": [
           {
            "marker": {
             "colorbar": {
              "outlinewidth": 0,
              "ticks": ""
             }
            },
            "type": "scattermap"
           }
          ],
          "scattermapbox": [
           {
            "marker": {
             "colorbar": {
              "outlinewidth": 0,
              "ticks": ""
             }
            },
            "type": "scattermapbox"
           }
          ],
          "scatterpolar": [
           {
            "marker": {
             "colorbar": {
              "outlinewidth": 0,
              "ticks": ""
             }
            },
            "type": "scatterpolar"
           }
          ],
          "scatterpolargl": [
           {
            "marker": {
             "colorbar": {
              "outlinewidth": 0,
              "ticks": ""
             }
            },
            "type": "scatterpolargl"
           }
          ],
          "scatterternary": [
           {
            "marker": {
             "colorbar": {
              "outlinewidth": 0,
              "ticks": ""
             }
            },
            "type": "scatterternary"
           }
          ],
          "surface": [
           {
            "colorbar": {
             "outlinewidth": 0,
             "ticks": ""
            },
            "colorscale": [
             [
              0,
              "#0d0887"
             ],
             [
              0.1111111111111111,
              "#46039f"
             ],
             [
              0.2222222222222222,
              "#7201a8"
             ],
             [
              0.3333333333333333,
              "#9c179e"
             ],
             [
              0.4444444444444444,
              "#bd3786"
             ],
             [
              0.5555555555555556,
              "#d8576b"
             ],
             [
              0.6666666666666666,
              "#ed7953"
             ],
             [
              0.7777777777777778,
              "#fb9f3a"
             ],
             [
              0.8888888888888888,
              "#fdca26"
             ],
             [
              1,
              "#f0f921"
             ]
            ],
            "type": "surface"
           }
          ],
          "table": [
           {
            "cells": {
             "fill": {
              "color": "#EBF0F8"
             },
             "line": {
              "color": "white"
             }
            },
            "header": {
             "fill": {
              "color": "#C8D4E3"
             },
             "line": {
              "color": "white"
             }
            },
            "type": "table"
           }
          ]
         },
         "layout": {
          "annotationdefaults": {
           "arrowcolor": "#2a3f5f",
           "arrowhead": 0,
           "arrowwidth": 1
          },
          "autotypenumbers": "strict",
          "coloraxis": {
           "colorbar": {
            "outlinewidth": 0,
            "ticks": ""
           }
          },
          "colorscale": {
           "diverging": [
            [
             0,
             "#8e0152"
            ],
            [
             0.1,
             "#c51b7d"
            ],
            [
             0.2,
             "#de77ae"
            ],
            [
             0.3,
             "#f1b6da"
            ],
            [
             0.4,
             "#fde0ef"
            ],
            [
             0.5,
             "#f7f7f7"
            ],
            [
             0.6,
             "#e6f5d0"
            ],
            [
             0.7,
             "#b8e186"
            ],
            [
             0.8,
             "#7fbc41"
            ],
            [
             0.9,
             "#4d9221"
            ],
            [
             1,
             "#276419"
            ]
           ],
           "sequential": [
            [
             0,
             "#0d0887"
            ],
            [
             0.1111111111111111,
             "#46039f"
            ],
            [
             0.2222222222222222,
             "#7201a8"
            ],
            [
             0.3333333333333333,
             "#9c179e"
            ],
            [
             0.4444444444444444,
             "#bd3786"
            ],
            [
             0.5555555555555556,
             "#d8576b"
            ],
            [
             0.6666666666666666,
             "#ed7953"
            ],
            [
             0.7777777777777778,
             "#fb9f3a"
            ],
            [
             0.8888888888888888,
             "#fdca26"
            ],
            [
             1,
             "#f0f921"
            ]
           ],
           "sequentialminus": [
            [
             0,
             "#0d0887"
            ],
            [
             0.1111111111111111,
             "#46039f"
            ],
            [
             0.2222222222222222,
             "#7201a8"
            ],
            [
             0.3333333333333333,
             "#9c179e"
            ],
            [
             0.4444444444444444,
             "#bd3786"
            ],
            [
             0.5555555555555556,
             "#d8576b"
            ],
            [
             0.6666666666666666,
             "#ed7953"
            ],
            [
             0.7777777777777778,
             "#fb9f3a"
            ],
            [
             0.8888888888888888,
             "#fdca26"
            ],
            [
             1,
             "#f0f921"
            ]
           ]
          },
          "colorway": [
           "#636efa",
           "#EF553B",
           "#00cc96",
           "#ab63fa",
           "#FFA15A",
           "#19d3f3",
           "#FF6692",
           "#B6E880",
           "#FF97FF",
           "#FECB52"
          ],
          "font": {
           "color": "#2a3f5f"
          },
          "geo": {
           "bgcolor": "white",
           "lakecolor": "white",
           "landcolor": "#E5ECF6",
           "showlakes": true,
           "showland": true,
           "subunitcolor": "white"
          },
          "hoverlabel": {
           "align": "left"
          },
          "hovermode": "closest",
          "mapbox": {
           "style": "light"
          },
          "paper_bgcolor": "white",
          "plot_bgcolor": "#E5ECF6",
          "polar": {
           "angularaxis": {
            "gridcolor": "white",
            "linecolor": "white",
            "ticks": ""
           },
           "bgcolor": "#E5ECF6",
           "radialaxis": {
            "gridcolor": "white",
            "linecolor": "white",
            "ticks": ""
           }
          },
          "scene": {
           "xaxis": {
            "backgroundcolor": "#E5ECF6",
            "gridcolor": "white",
            "gridwidth": 2,
            "linecolor": "white",
            "showbackground": true,
            "ticks": "",
            "zerolinecolor": "white"
           },
           "yaxis": {
            "backgroundcolor": "#E5ECF6",
            "gridcolor": "white",
            "gridwidth": 2,
            "linecolor": "white",
            "showbackground": true,
            "ticks": "",
            "zerolinecolor": "white"
           },
           "zaxis": {
            "backgroundcolor": "#E5ECF6",
            "gridcolor": "white",
            "gridwidth": 2,
            "linecolor": "white",
            "showbackground": true,
            "ticks": "",
            "zerolinecolor": "white"
           }
          },
          "shapedefaults": {
           "line": {
            "color": "#2a3f5f"
           }
          },
          "ternary": {
           "aaxis": {
            "gridcolor": "white",
            "linecolor": "white",
            "ticks": ""
           },
           "baxis": {
            "gridcolor": "white",
            "linecolor": "white",
            "ticks": ""
           },
           "bgcolor": "#E5ECF6",
           "caxis": {
            "gridcolor": "white",
            "linecolor": "white",
            "ticks": ""
           }
          },
          "title": {
           "x": 0.05
          },
          "xaxis": {
           "automargin": true,
           "gridcolor": "white",
           "linecolor": "white",
           "ticks": "",
           "title": {
            "standoff": 15
           },
           "zerolinecolor": "white",
           "zerolinewidth": 2
          },
          "yaxis": {
           "automargin": true,
           "gridcolor": "white",
           "linecolor": "white",
           "ticks": "",
           "title": {
            "standoff": 15
           },
           "zerolinecolor": "white",
           "zerolinewidth": 2
          }
         }
        },
        "title": {
         "text": "KBLI Code Performance: Accuracy vs Confidence"
        },
        "xaxis": {
         "anchor": "y",
         "domain": [
          0,
          1
         ],
         "title": {
          "text": "Average Confidence Score"
         }
        },
        "yaxis": {
         "anchor": "x",
         "domain": [
          0,
          1
         ],
         "title": {
          "text": "Classification Accuracy"
         }
        }
       }
      }
     },
     "metadata": {},
     "output_type": "display_data"
    },
    {
     "data": {
      "application/vnd.plotly.v1+json": {
       "config": {
        "plotlyServerURL": "https://plot.ly"
       },
       "data": [
        {
         "line": {
          "color": "blue"
         },
         "name": "Accuracy",
         "type": "scatter",
         "x": [
          "2025-07-30"
         ],
         "xaxis": "x",
         "y": {
          "bdata": "yH7sx37s5z8=",
          "dtype": "f8"
         },
         "yaxis": "y"
        },
        {
         "line": {
          "color": "red"
         },
         "name": "Avg Confidence",
         "type": "scatter",
         "x": [
          "2025-07-30"
         ],
         "xaxis": "x",
         "y": {
          "bdata": "33DQ/PW77j8=",
          "dtype": "f8"
         },
         "yaxis": "y2"
        }
       ],
       "layout": {
        "height": 500,
        "template": {
         "data": {
          "bar": [
           {
            "error_x": {
             "color": "#2a3f5f"
            },
            "error_y": {
             "color": "#2a3f5f"
            },
            "marker": {
             "line": {
              "color": "#E5ECF6",
              "width": 0.5
             },
             "pattern": {
              "fillmode": "overlay",
              "size": 10,
              "solidity": 0.2
             }
            },
            "type": "bar"
           }
          ],
          "barpolar": [
           {
            "marker": {
             "line": {
              "color": "#E5ECF6",
              "width": 0.5
             },
             "pattern": {
              "fillmode": "overlay",
              "size": 10,
              "solidity": 0.2
             }
            },
            "type": "barpolar"
           }
          ],
          "carpet": [
           {
            "aaxis": {
             "endlinecolor": "#2a3f5f",
             "gridcolor": "white",
             "linecolor": "white",
             "minorgridcolor": "white",
             "startlinecolor": "#2a3f5f"
            },
            "baxis": {
             "endlinecolor": "#2a3f5f",
             "gridcolor": "white",
             "linecolor": "white",
             "minorgridcolor": "white",
             "startlinecolor": "#2a3f5f"
            },
            "type": "carpet"
           }
          ],
          "choropleth": [
           {
            "colorbar": {
             "outlinewidth": 0,
             "ticks": ""
            },
            "type": "choropleth"
           }
          ],
          "contour": [
           {
            "colorbar": {
             "outlinewidth": 0,
             "ticks": ""
            },
            "colorscale": [
             [
              0,
              "#0d0887"
             ],
             [
              0.1111111111111111,
              "#46039f"
             ],
             [
              0.2222222222222222,
              "#7201a8"
             ],
             [
              0.3333333333333333,
              "#9c179e"
             ],
             [
              0.4444444444444444,
              "#bd3786"
             ],
             [
              0.5555555555555556,
              "#d8576b"
             ],
             [
              0.6666666666666666,
              "#ed7953"
             ],
             [
              0.7777777777777778,
              "#fb9f3a"
             ],
             [
              0.8888888888888888,
              "#fdca26"
             ],
             [
              1,
              "#f0f921"
             ]
            ],
            "type": "contour"
           }
          ],
          "contourcarpet": [
           {
            "colorbar": {
             "outlinewidth": 0,
             "ticks": ""
            },
            "type": "contourcarpet"
           }
          ],
          "heatmap": [
           {
            "colorbar": {
             "outlinewidth": 0,
             "ticks": ""
            },
            "colorscale": [
             [
              0,
              "#0d0887"
             ],
             [
              0.1111111111111111,
              "#46039f"
             ],
             [
              0.2222222222222222,
              "#7201a8"
             ],
             [
              0.3333333333333333,
              "#9c179e"
             ],
             [
              0.4444444444444444,
              "#bd3786"
             ],
             [
              0.5555555555555556,
              "#d8576b"
             ],
             [
              0.6666666666666666,
              "#ed7953"
             ],
             [
              0.7777777777777778,
              "#fb9f3a"
             ],
             [
              0.8888888888888888,
              "#fdca26"
             ],
             [
              1,
              "#f0f921"
             ]
            ],
            "type": "heatmap"
           }
          ],
          "histogram": [
           {
            "marker": {
             "pattern": {
              "fillmode": "overlay",
              "size": 10,
              "solidity": 0.2
             }
            },
            "type": "histogram"
           }
          ],
          "histogram2d": [
           {
            "colorbar": {
             "outlinewidth": 0,
             "ticks": ""
            },
            "colorscale": [
             [
              0,
              "#0d0887"
             ],
             [
              0.1111111111111111,
              "#46039f"
             ],
             [
              0.2222222222222222,
              "#7201a8"
             ],
             [
              0.3333333333333333,
              "#9c179e"
             ],
             [
              0.4444444444444444,
              "#bd3786"
             ],
             [
              0.5555555555555556,
              "#d8576b"
             ],
             [
              0.6666666666666666,
              "#ed7953"
             ],
             [
              0.7777777777777778,
              "#fb9f3a"
             ],
             [
              0.8888888888888888,
              "#fdca26"
             ],
             [
              1,
              "#f0f921"
             ]
            ],
            "type": "histogram2d"
           }
          ],
          "histogram2dcontour": [
           {
            "colorbar": {
             "outlinewidth": 0,
             "ticks": ""
            },
            "colorscale": [
             [
              0,
              "#0d0887"
             ],
             [
              0.1111111111111111,
              "#46039f"
             ],
             [
              0.2222222222222222,
              "#7201a8"
             ],
             [
              0.3333333333333333,
              "#9c179e"
             ],
             [
              0.4444444444444444,
              "#bd3786"
             ],
             [
              0.5555555555555556,
              "#d8576b"
             ],
             [
              0.6666666666666666,
              "#ed7953"
             ],
             [
              0.7777777777777778,
              "#fb9f3a"
             ],
             [
              0.8888888888888888,
              "#fdca26"
             ],
             [
              1,
              "#f0f921"
             ]
            ],
            "type": "histogram2dcontour"
           }
          ],
          "mesh3d": [
           {
            "colorbar": {
             "outlinewidth": 0,
             "ticks": ""
            },
            "type": "mesh3d"
           }
          ],
          "parcoords": [
           {
            "line": {
             "colorbar": {
              "outlinewidth": 0,
              "ticks": ""
             }
            },
            "type": "parcoords"
           }
          ],
          "pie": [
           {
            "automargin": true,
            "type": "pie"
           }
          ],
          "scatter": [
           {
            "fillpattern": {
             "fillmode": "overlay",
             "size": 10,
             "solidity": 0.2
            },
            "type": "scatter"
           }
          ],
          "scatter3d": [
           {
            "line": {
             "colorbar": {
              "outlinewidth": 0,
              "ticks": ""
             }
            },
            "marker": {
             "colorbar": {
              "outlinewidth": 0,
              "ticks": ""
             }
            },
            "type": "scatter3d"
           }
          ],
          "scattercarpet": [
           {
            "marker": {
             "colorbar": {
              "outlinewidth": 0,
              "ticks": ""
             }
            },
            "type": "scattercarpet"
           }
          ],
          "scattergeo": [
           {
            "marker": {
             "colorbar": {
              "outlinewidth": 0,
              "ticks": ""
             }
            },
            "type": "scattergeo"
           }
          ],
          "scattergl": [
           {
            "marker": {
             "colorbar": {
              "outlinewidth": 0,
              "ticks": ""
             }
            },
            "type": "scattergl"
           }
          ],
          "scattermap": [
           {
            "marker": {
             "colorbar": {
              "outlinewidth": 0,
              "ticks": ""
             }
            },
            "type": "scattermap"
           }
          ],
          "scattermapbox": [
           {
            "marker": {
             "colorbar": {
              "outlinewidth": 0,
              "ticks": ""
             }
            },
            "type": "scattermapbox"
           }
          ],
          "scatterpolar": [
           {
            "marker": {
             "colorbar": {
              "outlinewidth": 0,
              "ticks": ""
             }
            },
            "type": "scatterpolar"
           }
          ],
          "scatterpolargl": [
           {
            "marker": {
             "colorbar": {
              "outlinewidth": 0,
              "ticks": ""
             }
            },
            "type": "scatterpolargl"
           }
          ],
          "scatterternary": [
           {
            "marker": {
             "colorbar": {
              "outlinewidth": 0,
              "ticks": ""
             }
            },
            "type": "scatterternary"
           }
          ],
          "surface": [
           {
            "colorbar": {
             "outlinewidth": 0,
             "ticks": ""
            },
            "colorscale": [
             [
              0,
              "#0d0887"
             ],
             [
              0.1111111111111111,
              "#46039f"
             ],
             [
              0.2222222222222222,
              "#7201a8"
             ],
             [
              0.3333333333333333,
              "#9c179e"
             ],
             [
              0.4444444444444444,
              "#bd3786"
             ],
             [
              0.5555555555555556,
              "#d8576b"
             ],
             [
              0.6666666666666666,
              "#ed7953"
             ],
             [
              0.7777777777777778,
              "#fb9f3a"
             ],
             [
              0.8888888888888888,
              "#fdca26"
             ],
             [
              1,
              "#f0f921"
             ]
            ],
            "type": "surface"
           }
          ],
          "table": [
           {
            "cells": {
             "fill": {
              "color": "#EBF0F8"
             },
             "line": {
              "color": "white"
             }
            },
            "header": {
             "fill": {
              "color": "#C8D4E3"
             },
             "line": {
              "color": "white"
             }
            },
            "type": "table"
           }
          ]
         },
         "layout": {
          "annotationdefaults": {
           "arrowcolor": "#2a3f5f",
           "arrowhead": 0,
           "arrowwidth": 1
          },
          "autotypenumbers": "strict",
          "coloraxis": {
           "colorbar": {
            "outlinewidth": 0,
            "ticks": ""
           }
          },
          "colorscale": {
           "diverging": [
            [
             0,
             "#8e0152"
            ],
            [
             0.1,
             "#c51b7d"
            ],
            [
             0.2,
             "#de77ae"
            ],
            [
             0.3,
             "#f1b6da"
            ],
            [
             0.4,
             "#fde0ef"
            ],
            [
             0.5,
             "#f7f7f7"
            ],
            [
             0.6,
             "#e6f5d0"
            ],
            [
             0.7,
             "#b8e186"
            ],
            [
             0.8,
             "#7fbc41"
            ],
            [
             0.9,
             "#4d9221"
            ],
            [
             1,
             "#276419"
            ]
           ],
           "sequential": [
            [
             0,
             "#0d0887"
            ],
            [
             0.1111111111111111,
             "#46039f"
            ],
            [
             0.2222222222222222,
             "#7201a8"
            ],
            [
             0.3333333333333333,
             "#9c179e"
            ],
            [
             0.4444444444444444,
             "#bd3786"
            ],
            [
             0.5555555555555556,
             "#d8576b"
            ],
            [
             0.6666666666666666,
             "#ed7953"
            ],
            [
             0.7777777777777778,
             "#fb9f3a"
            ],
            [
             0.8888888888888888,
             "#fdca26"
            ],
            [
             1,
             "#f0f921"
            ]
           ],
           "sequentialminus": [
            [
             0,
             "#0d0887"
            ],
            [
             0.1111111111111111,
             "#46039f"
            ],
            [
             0.2222222222222222,
             "#7201a8"
            ],
            [
             0.3333333333333333,
             "#9c179e"
            ],
            [
             0.4444444444444444,
             "#bd3786"
            ],
            [
             0.5555555555555556,
             "#d8576b"
            ],
            [
             0.6666666666666666,
             "#ed7953"
            ],
            [
             0.7777777777777778,
             "#fb9f3a"
            ],
            [
             0.8888888888888888,
             "#fdca26"
            ],
            [
             1,
             "#f0f921"
            ]
           ]
          },
          "colorway": [
           "#636efa",
           "#EF553B",
           "#00cc96",
           "#ab63fa",
           "#FFA15A",
           "#19d3f3",
           "#FF6692",
           "#B6E880",
           "#FF97FF",
           "#FECB52"
          ],
          "font": {
           "color": "#2a3f5f"
          },
          "geo": {
           "bgcolor": "white",
           "lakecolor": "white",
           "landcolor": "#E5ECF6",
           "showlakes": true,
           "showland": true,
           "subunitcolor": "white"
          },
          "hoverlabel": {
           "align": "left"
          },
          "hovermode": "closest",
          "mapbox": {
           "style": "light"
          },
          "paper_bgcolor": "white",
          "plot_bgcolor": "#E5ECF6",
          "polar": {
           "angularaxis": {
            "gridcolor": "white",
            "linecolor": "white",
            "ticks": ""
           },
           "bgcolor": "#E5ECF6",
           "radialaxis": {
            "gridcolor": "white",
            "linecolor": "white",
            "ticks": ""
           }
          },
          "scene": {
           "xaxis": {
            "backgroundcolor": "#E5ECF6",
            "gridcolor": "white",
            "gridwidth": 2,
            "linecolor": "white",
            "showbackground": true,
            "ticks": "",
            "zerolinecolor": "white"
           },
           "yaxis": {
            "backgroundcolor": "#E5ECF6",
            "gridcolor": "white",
            "gridwidth": 2,
            "linecolor": "white",
            "showbackground": true,
            "ticks": "",
            "zerolinecolor": "white"
           },
           "zaxis": {
            "backgroundcolor": "#E5ECF6",
            "gridcolor": "white",
            "gridwidth": 2,
            "linecolor": "white",
            "showbackground": true,
            "ticks": "",
            "zerolinecolor": "white"
           }
          },
          "shapedefaults": {
           "line": {
            "color": "#2a3f5f"
           }
          },
          "ternary": {
           "aaxis": {
            "gridcolor": "white",
            "linecolor": "white",
            "ticks": ""
           },
           "baxis": {
            "gridcolor": "white",
            "linecolor": "white",
            "ticks": ""
           },
           "bgcolor": "#E5ECF6",
           "caxis": {
            "gridcolor": "white",
            "linecolor": "white",
            "ticks": ""
           }
          },
          "title": {
           "x": 0.05
          },
          "xaxis": {
           "automargin": true,
           "gridcolor": "white",
           "linecolor": "white",
           "ticks": "",
           "title": {
            "standoff": 15
           },
           "zerolinecolor": "white",
           "zerolinewidth": 2
          },
          "yaxis": {
           "automargin": true,
           "gridcolor": "white",
           "linecolor": "white",
           "ticks": "",
           "title": {
            "standoff": 15
           },
           "zerolinecolor": "white",
           "zerolinewidth": 2
          }
         }
        },
        "title": {
         "text": "Performance Over Time"
        },
        "xaxis": {
         "anchor": "y",
         "domain": [
          0,
          0.94
         ],
         "title": {
          "text": "Date"
         }
        },
        "yaxis": {
         "anchor": "x",
         "domain": [
          0,
          1
         ],
         "title": {
          "text": "Accuracy"
         }
        },
        "yaxis2": {
         "anchor": "x",
         "overlaying": "y",
         "side": "right",
         "title": {
          "text": "Average Confidence"
         }
        }
       }
      }
     },
     "metadata": {},
     "output_type": "display_data"
    },
    {
     "name": "stdout",
     "output_type": "stream",
     "text": [
      "Interactive visualizations completed!\n"
     ]
    }
   ],
   "source": [
    "### 6.3 Interactive Visualizations with Plotly\n",
    "\n",
    "if 'df' in locals():\n",
    "    print(\"Creating interactive visualizations...\")\n",
    "    \n",
    "    # 1. Interactive confidence distribution by model and correctness\n",
    "    fig_conf = px.histogram(df, x='confidence_score', color='is_correct', \n",
    "                           facet_col='model' if df['model'].nunique() > 1 else None,\n",
    "                           title='Interactive Confidence Distribution',\n",
    "                           labels={'is_correct': 'Classification Result',\n",
    "                                  'confidence_score': 'Confidence Score'},\n",
    "                           nbins=25)\n",
    "    fig_conf.update_layout(height=500)\n",
    "    fig_conf.show()\n",
    "    \n",
    "    # 2. KBLI Code performance analysis (top 15 codes)\n",
    "    top_codes = df['kbli_code'].value_counts().head(15).index\n",
    "    kbli_summary = df[df['kbli_code'].isin(top_codes)].groupby('kbli_code').agg({\n",
    "        'is_correct': ['count', 'mean'],\n",
    "        'confidence_score': 'mean'\n",
    "    }).round(3)\n",
    "    \n",
    "    kbli_summary.columns = ['Total_Predictions', 'Accuracy', 'Avg_Confidence']\n",
    "    kbli_summary = kbli_summary.reset_index()\n",
    "    \n",
    "    fig_kbli = px.scatter(kbli_summary, x='Avg_Confidence', y='Accuracy', \n",
    "                         size='Total_Predictions', hover_data=['kbli_code'],\n",
    "                         title='KBLI Code Performance: Accuracy vs Confidence',\n",
    "                         labels={'Avg_Confidence': 'Average Confidence Score',\n",
    "                                'Accuracy': 'Classification Accuracy'})\n",
    "    fig_kbli.update_layout(height=500)\n",
    "    fig_kbli.show()\n",
    "    \n",
    "    # 3. Time series analysis (if timestamp available)\n",
    "    if 'timestamp' in df.columns and df['timestamp'].notna().sum() > 0:\n",
    "        df_time = df.copy()\n",
    "        df_time['hour'] = df_time['timestamp'].dt.hour\n",
    "        df_time['date'] = df_time['timestamp'].dt.date\n",
    "        \n",
    "        # Performance over time\n",
    "        daily_performance = df_time.groupby('date').agg({\n",
    "            'is_correct': 'mean',\n",
    "            'confidence_score': 'mean',\n",
    "            'uuid': 'count'\n",
    "        }).reset_index()\n",
    "        daily_performance.columns = ['Date', 'Accuracy', 'Avg_Confidence', 'Count']\n",
    "        \n",
    "        fig_time = make_subplots(specs=[[{\"secondary_y\": True}]])\n",
    "        \n",
    "        fig_time.add_trace(\n",
    "            go.Scatter(x=daily_performance['Date'], y=daily_performance['Accuracy'],\n",
    "                      name='Accuracy', line=dict(color='blue')),\n",
    "            secondary_y=False,\n",
    "        )\n",
    "        \n",
    "        fig_time.add_trace(\n",
    "            go.Scatter(x=daily_performance['Date'], y=daily_performance['Avg_Confidence'],\n",
    "                      name='Avg Confidence', line=dict(color='red')),\n",
    "            secondary_y=True,\n",
    "        )\n",
    "        \n",
    "        fig_time.update_xaxes(title_text=\"Date\")\n",
    "        fig_time.update_yaxes(title_text=\"Accuracy\", secondary_y=False)\n",
    "        fig_time.update_yaxes(title_text=\"Average Confidence\", secondary_y=True)\n",
    "        fig_time.update_layout(title_text=\"Performance Over Time\", height=500)\n",
    "        \n",
    "        fig_time.show()\n",
    "    \n",
    "    print(\"Interactive visualizations completed!\")\n",
    "else:\n",
    "    print(\"Data not available for interactive visualization.\")"
   ]
  },
  {
   "cell_type": "code",
   "execution_count": 16,
   "id": "d1857a38",
   "metadata": {},
   "outputs": [
    {
     "name": "stdout",
     "output_type": "stream",
     "text": [
      "Creating interactive false classification visualizations...\n"
     ]
    },
    {
     "data": {
      "application/vnd.plotly.v1+json": {
       "config": {
        "plotlyServerURL": "https://plot.ly"
       },
       "data": [
        {
         "customdata": [
          [
           "c08013c9-921b-4635-951d-0ea628eda743",
           "10130",
           "memotong daging ayam untuk di giling dan diolah menjadi pentol menghasilkan penggilingan pentol sapi dan ayam di bidang perdagangan"
          ],
          [
           "c08013c9-921b-4635-951d-0ea628eda743",
           "10130",
           "memotong daging ayam untuk di giling dan diolah menjadi pentol menghasilkan penggilingan pentol sapi dan ayam di bidang perdagangan"
          ],
          [
           "c08013c9-921b-4635-951d-0ea628eda743",
           "10130",
           "memotong daging ayam untuk di giling dan diolah menjadi pentol menghasilkan penggilingan pentol sapi dan ayam di bidang perdagangan"
          ],
          [
           "ccf931f3-183c-4839-a69c-8f69dedb28cb",
           "10211",
           "usaha jual beli ikan kering dan ikan asin, ikan nya di jemur sendiri, ikan nya beli sama orang, lalu di jual dengan orang, kadang langsung di ambil sama orang menghasilkan ikan asin dan ikan kering tawar di bidang jual beli ikan asin dan ikan tawar kering"
          ],
          [
           "ccf931f3-183c-4839-a69c-8f69dedb28cb",
           "10211",
           "usaha jual beli ikan kering dan ikan asin, ikan nya di jemur sendiri, ikan nya beli sama orang, lalu di jual dengan orang, kadang langsung di ambil sama orang menghasilkan ikan asin dan ikan kering tawar di bidang jual beli ikan asin dan ikan tawar kering"
          ],
          [
           "ccf931f3-183c-4839-a69c-8f69dedb28cb",
           "10211",
           "usaha jual beli ikan kering dan ikan asin, ikan nya di jemur sendiri, ikan nya beli sama orang, lalu di jual dengan orang, kadang langsung di ambil sama orang menghasilkan ikan asin dan ikan kering tawar di bidang jual beli ikan asin dan ikan tawar kering"
          ],
          [
           "9565b02a-26ef-44b1-f237-316ec0f8b7ff",
           "10211",
           "menjual ikan asin menghasilkan ikan asin/ikan bage di bidang penjualan eceran ikan asin yang diolah sendiri"
          ],
          [
           "9565b02a-26ef-44b1-f237-316ec0f8b7ff",
           "10211",
           "menjual ikan asin menghasilkan ikan asin/ikan bage di bidang penjualan eceran ikan asin yang diolah sendiri"
          ],
          [
           "9565b02a-26ef-44b1-f237-316ec0f8b7ff",
           "10211",
           "menjual ikan asin menghasilkan ikan asin/ikan bage di bidang penjualan eceran ikan asin yang diolah sendiri"
          ],
          [
           "10bb46e7-1ecc-4cfd-cb2f-0260625a67c8",
           "10216",
           "karyawan harian di bagian produksi penggorengan usaha kerupuk bakso menghasilkan kerupuk bakso di bidang pengolahan makanan ringan"
          ],
          [
           "10bb46e7-1ecc-4cfd-cb2f-0260625a67c8",
           "10216",
           "karyawan harian di bagian produksi penggorengan usaha kerupuk bakso menghasilkan kerupuk bakso di bidang pengolahan makanan ringan"
          ],
          [
           "10bb46e7-1ecc-4cfd-cb2f-0260625a67c8",
           "10216",
           "karyawan harian di bagian produksi penggorengan usaha kerupuk bakso menghasilkan kerupuk bakso di bidang pengolahan makanan ringan"
          ],
          [
           "10b91f9f-ee63-42e6-19a1-c7bc61efe4ae",
           "10221",
           "memilah/ memilih sais ikan yang akan di bekukan menghasilkan ikan beku di bidang industri pengolahan (pt indo lautan mas)"
          ],
          [
           "10b91f9f-ee63-42e6-19a1-c7bc61efe4ae",
           "10221",
           "memilah/ memilih sais ikan yang akan di bekukan menghasilkan ikan beku di bidang industri pengolahan (pt indo lautan mas)"
          ],
          [
           "10b91f9f-ee63-42e6-19a1-c7bc61efe4ae",
           "10221",
           "memilah/ memilih sais ikan yang akan di bekukan menghasilkan ikan beku di bidang industri pengolahan (pt indo lautan mas)"
          ],
          [
           "bd276532-2deb-4cdf-7c2b-461ce5c21114",
           "10222",
           "mengemudi truk angkut udang menghasilkan udang di bidang perusahaan pengolahan ikan"
          ],
          [
           "bd276532-2deb-4cdf-7c2b-461ce5c21114",
           "10222",
           "mengemudi truk angkut udang menghasilkan udang di bidang perusahaan pengolahan ikan"
          ],
          [
           "bd276532-2deb-4cdf-7c2b-461ce5c21114",
           "10222",
           "mengemudi truk angkut udang menghasilkan udang di bidang perusahaan pengolahan ikan"
          ],
          [
           "88409643-82ae-43ea-ba03-ad874091d680",
           "10312",
           "mengolah daun gambir kering menjadi getah gambir kering milik sendiri menghasilkan getah gambir kering di bidang pengolahan daun gambir milik sendiri"
          ],
          [
           "88409643-82ae-43ea-ba03-ad874091d680",
           "10312",
           "mengolah daun gambir kering menjadi getah gambir kering milik sendiri menghasilkan getah gambir kering di bidang pengolahan daun gambir milik sendiri"
          ],
          [
           "88409643-82ae-43ea-ba03-ad874091d680",
           "10312",
           "mengolah daun gambir kering menjadi getah gambir kering milik sendiri menghasilkan getah gambir kering di bidang pengolahan daun gambir milik sendiri"
          ],
          [
           "3604453e-aa04-483c-2f85-21fdeef7b4cf",
           "10391",
           "sebagai pedagang tempe dipasar menghasilkan tempe dari kacang kedelai di bidang industri tempe"
          ],
          [
           "3604453e-aa04-483c-2f85-21fdeef7b4cf",
           "10391",
           "sebagai pedagang tempe dipasar menghasilkan tempe dari kacang kedelai di bidang industri tempe"
          ],
          [
           "3604453e-aa04-483c-2f85-21fdeef7b4cf",
           "10391",
           "sebagai pedagang tempe dipasar menghasilkan tempe dari kacang kedelai di bidang industri tempe"
          ],
          [
           "9b08d558-18c1-44e1-a72e-18410cedb9b3",
           "10393",
           "membuat dan menjual sule secara keliling ke warung warung dan koperasi sekolah sekitar glagah lamongan menghasilkan produksi sule sendiri di bantu istri di bidang produksi pengolahan dan penjualan sule (susu kedelai)"
          ],
          [
           "097d40bd-d24c-456f-e9ad-05d76c4b2521",
           "10399",
           "penjual makanan eceran menghasilkan ikan goreng dan sayur masak di bidang jual makanan siap saji"
          ],
          [
           "097d40bd-d24c-456f-e9ad-05d76c4b2521",
           "10399",
           "penjual makanan eceran menghasilkan ikan goreng dan sayur masak di bidang jual makanan siap saji"
          ],
          [
           "097d40bd-d24c-456f-e9ad-05d76c4b2521",
           "10399",
           "penjual makanan eceran menghasilkan ikan goreng dan sayur masak di bidang jual makanan siap saji"
          ],
          [
           "220cd253-bcf3-45e2-7b8f-b98c769071f2",
           "10421",
           "memotong rumput di kebun kelapa milik sendiri menghasilkan kelapa kopra di bidang perkebunan kelapa milik sendiri"
          ],
          [
           "220cd253-bcf3-45e2-7b8f-b98c769071f2",
           "10421",
           "memotong rumput di kebun kelapa milik sendiri menghasilkan kelapa kopra di bidang perkebunan kelapa milik sendiri"
          ],
          [
           "220cd253-bcf3-45e2-7b8f-b98c769071f2",
           "10421",
           "memotong rumput di kebun kelapa milik sendiri menghasilkan kelapa kopra di bidang perkebunan kelapa milik sendiri"
          ],
          [
           "f6571a67-1a00-4f0a-0922-a4a8947c086a",
           "10421",
           "tukang panjat kelapa menghasilkan kelapa biji di bidang perkebunan kelapa"
          ],
          [
           "f6571a67-1a00-4f0a-0922-a4a8947c086a",
           "10421",
           "tukang panjat kelapa menghasilkan kelapa biji di bidang perkebunan kelapa"
          ],
          [
           "f6571a67-1a00-4f0a-0922-a4a8947c086a",
           "10421",
           "tukang panjat kelapa menghasilkan kelapa biji di bidang perkebunan kelapa"
          ],
          [
           "148279fb-741c-4550-0cfa-9ec37985e4eb",
           "10421",
           "membersihkan kebun kelapa menghasilkan kopra di bidang perkebunan"
          ],
          [
           "148279fb-741c-4550-0cfa-9ec37985e4eb",
           "10421",
           "membersihkan kebun kelapa menghasilkan kopra di bidang perkebunan"
          ],
          [
           "148279fb-741c-4550-0cfa-9ec37985e4eb",
           "10421",
           "membersihkan kebun kelapa menghasilkan kopra di bidang perkebunan"
          ],
          [
           "231512c2-8afb-409f-1589-a0d58d4c70d6",
           "10421",
           "membersihkan kebun kelapa menghasilkan kelapa kopra di bidang industri pengelolaan"
          ],
          [
           "231512c2-8afb-409f-1589-a0d58d4c70d6",
           "10421",
           "membersihkan kebun kelapa menghasilkan kelapa kopra di bidang industri pengelolaan"
          ],
          [
           "231512c2-8afb-409f-1589-a0d58d4c70d6",
           "10421",
           "membersihkan kebun kelapa menghasilkan kelapa kopra di bidang industri pengelolaan"
          ],
          [
           "aad9b316-efe2-4679-db70-1b2a24250dbc",
           "10421",
           "memanjat kelapa menghasilkan kelapa kopra di bidang jasa panjat kelapa"
          ],
          [
           "aad9b316-efe2-4679-db70-1b2a24250dbc",
           "10421",
           "memanjat kelapa menghasilkan kelapa kopra di bidang jasa panjat kelapa"
          ],
          [
           "aad9b316-efe2-4679-db70-1b2a24250dbc",
           "10421",
           "memanjat kelapa menghasilkan kelapa kopra di bidang jasa panjat kelapa"
          ],
          [
           "e9c3e428-1ed2-47fe-d504-296294a7ad91",
           "10421",
           "membersihkan kebun kelapa menghasilkan kopra di bidang kebun kelapa milik sendiri"
          ],
          [
           "e9c3e428-1ed2-47fe-d504-296294a7ad91",
           "10421",
           "membersihkan kebun kelapa menghasilkan kopra di bidang kebun kelapa milik sendiri"
          ],
          [
           "e9c3e428-1ed2-47fe-d504-296294a7ad91",
           "10421",
           "membersihkan kebun kelapa menghasilkan kopra di bidang kebun kelapa milik sendiri"
          ],
          [
           "1a1d8148-f382-444e-8eb7-e5573e0c326f",
           "10421",
           "membantu suami menghasilkan kopra di bidang perkebunan kelapa"
          ],
          [
           "1a1d8148-f382-444e-8eb7-e5573e0c326f",
           "10421",
           "membantu suami menghasilkan kopra di bidang perkebunan kelapa"
          ],
          [
           "1a1d8148-f382-444e-8eb7-e5573e0c326f",
           "10421",
           "membantu suami menghasilkan kopra di bidang perkebunan kelapa"
          ],
          [
           "498774ef-4026-4d3c-9cfa-2cb579d5a19e",
           "10421",
           "membantu suami membuat kopra menghasilkan kopra di bidang perkebunan kelapa"
          ],
          [
           "b6d38eec-e1ab-423e-72b7-eb5bb369e7d5",
           "10421",
           "membersihkan pohon kelapa menghasilkan kopra di bidang perkebunan di milik orang lain"
          ],
          [
           "b6d38eec-e1ab-423e-72b7-eb5bb369e7d5",
           "10421",
           "membersihkan pohon kelapa menghasilkan kopra di bidang perkebunan di milik orang lain"
          ],
          [
           "b6d38eec-e1ab-423e-72b7-eb5bb369e7d5",
           "10421",
           "membersihkan pohon kelapa menghasilkan kopra di bidang perkebunan di milik orang lain"
          ],
          [
           "72c4bf67-90e9-4f1f-1c81-867b89a96b8c",
           "10421",
           "bekerja kelapa kopra di kebun milik sendiri buru selatan menghasilkan kopra di bidang pertanian"
          ],
          [
           "72c4bf67-90e9-4f1f-1c81-867b89a96b8c",
           "10421",
           "bekerja kelapa kopra di kebun milik sendiri buru selatan menghasilkan kopra di bidang pertanian"
          ],
          [
           "72c4bf67-90e9-4f1f-1c81-867b89a96b8c",
           "10421",
           "bekerja kelapa kopra di kebun milik sendiri buru selatan menghasilkan kopra di bidang pertanian"
          ],
          [
           "73ffe95d-9c98-4ae4-ef68-d6a44a3fddc6",
           "10431",
           "pengasuh tpa menghasilkan pengasuh di tempat penitipan anak di perusahaan di bidang perusahaan"
          ],
          [
           "73ffe95d-9c98-4ae4-ef68-d6a44a3fddc6",
           "10431",
           "pengasuh tpa menghasilkan pengasuh di tempat penitipan anak di perusahaan di bidang perusahaan"
          ],
          [
           "73ffe95d-9c98-4ae4-ef68-d6a44a3fddc6",
           "10431",
           "pengasuh tpa menghasilkan pengasuh di tempat penitipan anak di perusahaan di bidang perusahaan"
          ],
          [
           "eb027418-776a-41d0-46bc-92e0ebb3e8ec",
           "10431",
           "karyawan perusahaan menghasilkan dryer produksi kayu di bidang pt korindo asiki"
          ],
          [
           "eb027418-776a-41d0-46bc-92e0ebb3e8ec",
           "10431",
           "karyawan perusahaan menghasilkan dryer produksi kayu di bidang pt korindo asiki"
          ],
          [
           "eb027418-776a-41d0-46bc-92e0ebb3e8ec",
           "10431",
           "karyawan perusahaan menghasilkan dryer produksi kayu di bidang pt korindo asiki"
          ],
          [
           "583ee1d5-6c4e-421c-b6fd-836eca4c0a41",
           "10437",
           "menyusun perencanaan keuangan perusahaan/ manajer keuangan menghasilkan minyak solar di bidang pt fortuna"
          ],
          [
           "583ee1d5-6c4e-421c-b6fd-836eca4c0a41",
           "10437",
           "menyusun perencanaan keuangan perusahaan/ manajer keuangan menghasilkan minyak solar di bidang pt fortuna"
          ],
          [
           "583ee1d5-6c4e-421c-b6fd-836eca4c0a41",
           "10437",
           "menyusun perencanaan keuangan perusahaan/ manajer keuangan menghasilkan minyak solar di bidang pt fortuna"
          ],
          [
           "603ecc25-b0fa-4b4a-68ce-120018dc465e",
           "10531",
           "jualan es d rumah menghasilkan jual es di bidang usaha jual es"
          ],
          [
           "603ecc25-b0fa-4b4a-68ce-120018dc465e",
           "10531",
           "jualan es d rumah menghasilkan jual es di bidang usaha jual es"
          ],
          [
           "603ecc25-b0fa-4b4a-68ce-120018dc465e",
           "10531",
           "jualan es d rumah menghasilkan jual es di bidang usaha jual es"
          ],
          [
           "20c1af92-e643-41b1-5f0f-74ed7a453cad",
           "10631",
           "mengikat dan memasukan padi ke mesin pengolahan padik menjadi gabah menghasilkan gabah di bidang usaha jual beli padi (gabah) secara grosir"
          ],
          [
           "20c1af92-e643-41b1-5f0f-74ed7a453cad",
           "10631",
           "mengikat dan memasukan padi ke mesin pengolahan padik menjadi gabah menghasilkan gabah di bidang usaha jual beli padi (gabah) secara grosir"
          ],
          [
           "20c1af92-e643-41b1-5f0f-74ed7a453cad",
           "10631",
           "mengikat dan memasukan padi ke mesin pengolahan padik menjadi gabah menghasilkan gabah di bidang usaha jual beli padi (gabah) secara grosir"
          ],
          [
           "4c0ac3e8-94d6-414e-fc2d-f285ebb90518",
           "10710",
           "membantu mengantar maimunah kaplale ke pasar untuk berbelanja bahan makanan untuk roti. menghasilkan aneka roti manis di bidang industri roti rumahan"
          ],
          [
           "4c0ac3e8-94d6-414e-fc2d-f285ebb90518",
           "10710",
           "membantu mengantar maimunah kaplale ke pasar untuk berbelanja bahan makanan untuk roti. menghasilkan aneka roti manis di bidang industri roti rumahan"
          ],
          [
           "446f8747-eedd-435d-f2f9-e6cb25dc3060",
           "10710",
           "membuat makanan tradisional menghasilkan godok saka di bidang pengolahan ubi menjadi makanan"
          ],
          [
           "446f8747-eedd-435d-f2f9-e6cb25dc3060",
           "10710",
           "membuat makanan tradisional menghasilkan godok saka di bidang pengolahan ubi menjadi makanan"
          ],
          [
           "446f8747-eedd-435d-f2f9-e6cb25dc3060",
           "10710",
           "membuat makanan tradisional menghasilkan godok saka di bidang pengolahan ubi menjadi makanan"
          ],
          [
           "b0141635-f066-409e-06d0-e8df7c326107",
           "10710",
           "membuat jajan rengginang, menggoreng, membungkus jajan rengginang menghasilkan jajan rengginang di bidang industri jajanan rengginang untuk dijual ke pengepul"
          ],
          [
           "b0141635-f066-409e-06d0-e8df7c326107",
           "10710",
           "membuat jajan rengginang, menggoreng, membungkus jajan rengginang menghasilkan jajan rengginang di bidang industri jajanan rengginang untuk dijual ke pengepul"
          ],
          [
           "b0141635-f066-409e-06d0-e8df7c326107",
           "10710",
           "membuat jajan rengginang, menggoreng, membungkus jajan rengginang menghasilkan jajan rengginang di bidang industri jajanan rengginang untuk dijual ke pengepul"
          ],
          [
           "3b276eaf-c63d-433f-01b5-ccc8d6dd5e8c",
           "10710",
           "buruh packing di pabrik snack (ciki) menghasilkan jasa packing snack di bidang buruh pabrik"
          ],
          [
           "3b276eaf-c63d-433f-01b5-ccc8d6dd5e8c",
           "10710",
           "buruh packing di pabrik snack (ciki) menghasilkan jasa packing snack di bidang buruh pabrik"
          ],
          [
           "3b276eaf-c63d-433f-01b5-ccc8d6dd5e8c",
           "10710",
           "buruh packing di pabrik snack (ciki) menghasilkan jasa packing snack di bidang buruh pabrik"
          ],
          [
           "df7b45af-ac5c-4646-7268-a3ebe7d64d7a",
           "10710",
           "membuat dan mengantar pesanan snack dan nasi kotak menghasilkan jasa layanan snack dan nasi kotak di bidang produksi makanan kecil dan nasi kotak"
          ],
          [
           "df7b45af-ac5c-4646-7268-a3ebe7d64d7a",
           "10710",
           "membuat dan mengantar pesanan snack dan nasi kotak menghasilkan jasa layanan snack dan nasi kotak di bidang produksi makanan kecil dan nasi kotak"
          ],
          [
           "df7b45af-ac5c-4646-7268-a3ebe7d64d7a",
           "10710",
           "membuat dan mengantar pesanan snack dan nasi kotak menghasilkan jasa layanan snack dan nasi kotak di bidang produksi makanan kecil dan nasi kotak"
          ],
          [
           "3202ffa4-41ee-48e6-88af-6a4ffa9cb008",
           "10710",
           "membuat dan menjual brownies milik orang lain menghasilkan jasa jual beli brownies di bidang toko brownies milik orang lain"
          ],
          [
           "3202ffa4-41ee-48e6-88af-6a4ffa9cb008",
           "10710",
           "membuat dan menjual brownies milik orang lain menghasilkan jasa jual beli brownies di bidang toko brownies milik orang lain"
          ],
          [
           "3202ffa4-41ee-48e6-88af-6a4ffa9cb008",
           "10710",
           "membuat dan menjual brownies milik orang lain menghasilkan jasa jual beli brownies di bidang toko brownies milik orang lain"
          ],
          [
           "6391ee1c-883a-4683-0a4b-b804b4a66366",
           "10710",
           "bagian mengepuk kacang di enting2 gepuk 2 holoe menghasilkan enting2 gepuk di bidang industri enting2 gepuk"
          ],
          [
           "6391ee1c-883a-4683-0a4b-b804b4a66366",
           "10710",
           "bagian mengepuk kacang di enting2 gepuk 2 holoe menghasilkan enting2 gepuk di bidang industri enting2 gepuk"
          ],
          [
           "6391ee1c-883a-4683-0a4b-b804b4a66366",
           "10710",
           "bagian mengepuk kacang di enting2 gepuk 2 holoe menghasilkan enting2 gepuk di bidang industri enting2 gepuk"
          ],
          [
           "5a653898-f14d-4b00-8ba4-b236563c7ad8",
           "10710",
           "kerja di roti gembul produksi menghasilkan jasa penyedia makan minum di bidang jasa penyedia makan minum"
          ],
          [
           "5a653898-f14d-4b00-8ba4-b236563c7ad8",
           "10710",
           "kerja di roti gembul produksi menghasilkan jasa penyedia makan minum di bidang jasa penyedia makan minum"
          ],
          [
           "5a653898-f14d-4b00-8ba4-b236563c7ad8",
           "10710",
           "kerja di roti gembul produksi menghasilkan jasa penyedia makan minum di bidang jasa penyedia makan minum"
          ],
          [
           "c0d17b6c-e574-4584-763c-4c9decbe9daf",
           "10710",
           "membantu istri membuat aneka kue basah di rumah menghasilkan aneka macam kue basah di bidang industri makanan"
          ],
          [
           "c0d17b6c-e574-4584-763c-4c9decbe9daf",
           "10710",
           "membantu istri membuat aneka kue basah di rumah menghasilkan aneka macam kue basah di bidang industri makanan"
          ],
          [
           "c0d17b6c-e574-4584-763c-4c9decbe9daf",
           "10710",
           "membantu istri membuat aneka kue basah di rumah menghasilkan aneka macam kue basah di bidang industri makanan"
          ],
          [
           "1d462152-e3bb-43ee-5ced-684ba1f2a8cc",
           "10710",
           "membantu ibu membuat kue roti milik orang lain di rumah orang tersebut menghasilkan kue roti di bidang industri pengolahan makanan"
          ],
          [
           "1d462152-e3bb-43ee-5ced-684ba1f2a8cc",
           "10710",
           "membantu ibu membuat kue roti milik orang lain di rumah orang tersebut menghasilkan kue roti di bidang industri pengolahan makanan"
          ],
          [
           "1d462152-e3bb-43ee-5ced-684ba1f2a8cc",
           "10710",
           "membantu ibu membuat kue roti milik orang lain di rumah orang tersebut menghasilkan kue roti di bidang industri pengolahan makanan"
          ],
          [
           "157933ea-8c19-4e6c-048d-1edcb5dddc71",
           "10721",
           "sopir truk angkut tebu dari ladang ke pabrik gula gending menghasilkan sopir truk angkut tebu di bidang sopir angkut tebu"
          ],
          [
           "157933ea-8c19-4e6c-048d-1edcb5dddc71",
           "10721",
           "sopir truk angkut tebu dari ladang ke pabrik gula gending menghasilkan sopir truk angkut tebu di bidang sopir angkut tebu"
          ],
          [
           "157933ea-8c19-4e6c-048d-1edcb5dddc71",
           "10721",
           "sopir truk angkut tebu dari ladang ke pabrik gula gending menghasilkan sopir truk angkut tebu di bidang sopir angkut tebu"
          ],
          [
           "503b385d-1f09-44ef-ccb1-19f6dd1c2997",
           "10721",
           "office boy menghasilkan jasa di bidang karyawan di pag"
          ],
          [
           "503b385d-1f09-44ef-ccb1-19f6dd1c2997",
           "10721",
           "office boy menghasilkan jasa di bidang karyawan di pag"
          ],
          [
           "503b385d-1f09-44ef-ccb1-19f6dd1c2997",
           "10721",
           "office boy menghasilkan jasa di bidang karyawan di pag"
          ],
          [
           "1fbc3447-8a44-42f8-43ea-4ebd6914591c",
           "10722",
           "menjual gula aren di rumah sendiri menghasilkan gula aren di bidang pperdagangan eceran gula aren di rumah sendiri"
          ],
          [
           "1fbc3447-8a44-42f8-43ea-4ebd6914591c",
           "10722",
           "menjual gula aren di rumah sendiri menghasilkan gula aren di bidang pperdagangan eceran gula aren di rumah sendiri"
          ],
          [
           "1fbc3447-8a44-42f8-43ea-4ebd6914591c",
           "10722",
           "menjual gula aren di rumah sendiri menghasilkan gula aren di bidang pperdagangan eceran gula aren di rumah sendiri"
          ],
          [
           "e29a686f-b2c9-41a6-d37d-bf5dd40dcbe9",
           "10722",
           "peternak kambing menghasilkan daging kambing di bidang peternakan sendiri"
          ],
          [
           "e29a686f-b2c9-41a6-d37d-bf5dd40dcbe9",
           "10722",
           "peternak kambing menghasilkan daging kambing di bidang peternakan sendiri"
          ],
          [
           "e29a686f-b2c9-41a6-d37d-bf5dd40dcbe9",
           "10722",
           "peternak kambing menghasilkan daging kambing di bidang peternakan sendiri"
          ],
          [
           "b0762c09-6f6e-4b64-593c-cea11f79e7d6",
           "10729",
           "menjual kembang kelapa menghasilkan kembang kelapa di bidang pedagang eceran"
          ],
          [
           "b0762c09-6f6e-4b64-593c-cea11f79e7d6",
           "10729",
           "menjual kembang kelapa menghasilkan kembang kelapa di bidang pedagang eceran"
          ],
          [
           "b0762c09-6f6e-4b64-593c-cea11f79e7d6",
           "10729",
           "menjual kembang kelapa menghasilkan kembang kelapa di bidang pedagang eceran"
          ],
          [
           "e0b4a7ac-6b01-4c5a-7273-bfe5448c2ff8",
           "10729",
           "menyadap nira lontar menghasilkan gula air di bidang perkebunan"
          ],
          [
           "e0b4a7ac-6b01-4c5a-7273-bfe5448c2ff8",
           "10729",
           "menyadap nira lontar menghasilkan gula air di bidang perkebunan"
          ],
          [
           "e0b4a7ac-6b01-4c5a-7273-bfe5448c2ff8",
           "10729",
           "menyadap nira lontar menghasilkan gula air di bidang perkebunan"
          ],
          [
           "8c7a623d-b3b9-4338-81dd-c637e41df43d",
           "10732",
           "packing menghasilkan jasa pergudangan di bidang pergudangan makanan"
          ],
          [
           "8c7a623d-b3b9-4338-81dd-c637e41df43d",
           "10732",
           "packing menghasilkan jasa pergudangan di bidang pergudangan makanan"
          ],
          [
           "8c7a623d-b3b9-4338-81dd-c637e41df43d",
           "10732",
           "packing menghasilkan jasa pergudangan di bidang pergudangan makanan"
          ],
          [
           "50ecbb8b-4573-4486-b84c-1d1d29f0c569",
           "10734",
           "karyawan pt mitti menghasilkan jasa karyawan di bidang konstruksi"
          ],
          [
           "50ecbb8b-4573-4486-b84c-1d1d29f0c569",
           "10734",
           "karyawan pt mitti menghasilkan jasa karyawan di bidang konstruksi"
          ],
          [
           "50ecbb8b-4573-4486-b84c-1d1d29f0c569",
           "10734",
           "karyawan pt mitti menghasilkan jasa karyawan di bidang konstruksi"
          ],
          [
           "bf2d8948-6145-4ab2-1422-fc98545a6e8b",
           "10740",
           "mengolah makanan ringan untuk dijual ke pedagang eceran( tutup ditoko) menghasilkan kerupuk siap makan, mie pedas dan rempeyek di bidang industri pengolahan makanan"
          ],
          [
           "bf2d8948-6145-4ab2-1422-fc98545a6e8b",
           "10740",
           "mengolah makanan ringan untuk dijual ke pedagang eceran( tutup ditoko) menghasilkan kerupuk siap makan, mie pedas dan rempeyek di bidang industri pengolahan makanan"
          ],
          [
           "bf2d8948-6145-4ab2-1422-fc98545a6e8b",
           "10740",
           "mengolah makanan ringan untuk dijual ke pedagang eceran( tutup ditoko) menghasilkan kerupuk siap makan, mie pedas dan rempeyek di bidang industri pengolahan makanan"
          ],
          [
           "532a083c-df8d-4d4e-46fb-418c3b07ed09",
           "10750",
           "produksi tempe dan tahu di rumah milik sendiri menghasilkan tempe dan tahu di bidang produsen tempe dan tahu milik sendiri"
          ],
          [
           "532a083c-df8d-4d4e-46fb-418c3b07ed09",
           "10750",
           "produksi tempe dan tahu di rumah milik sendiri menghasilkan tempe dan tahu di bidang produsen tempe dan tahu milik sendiri"
          ],
          [
           "532a083c-df8d-4d4e-46fb-418c3b07ed09",
           "10750",
           "produksi tempe dan tahu di rumah milik sendiri menghasilkan tempe dan tahu di bidang produsen tempe dan tahu milik sendiri"
          ],
          [
           "54d6760d-277d-4b1b-0df8-b48363d1459e",
           "10750",
           "membantu mengantarkan peyek ke pedagang keliling menghasilkan peyek di bidang industri peyek"
          ],
          [
           "54d6760d-277d-4b1b-0df8-b48363d1459e",
           "10750",
           "membantu mengantarkan peyek ke pedagang keliling menghasilkan peyek di bidang industri peyek"
          ],
          [
           "54d6760d-277d-4b1b-0df8-b48363d1459e",
           "10750",
           "membantu mengantarkan peyek ke pedagang keliling menghasilkan peyek di bidang industri peyek"
          ],
          [
           "e921154c-c9da-48c1-b860-b84b9e5801dd",
           "10750",
           "menjual gorengan diwarung menghasilkan goreng tahu, pisang dll di bidang industri makanan gorengan pisang, tahu dll"
          ],
          [
           "e921154c-c9da-48c1-b860-b84b9e5801dd",
           "10750",
           "menjual gorengan diwarung menghasilkan goreng tahu, pisang dll di bidang industri makanan gorengan pisang, tahu dll"
          ],
          [
           "e921154c-c9da-48c1-b860-b84b9e5801dd",
           "10750",
           "menjual gorengan diwarung menghasilkan goreng tahu, pisang dll di bidang industri makanan gorengan pisang, tahu dll"
          ],
          [
           "640d0432-8815-4dd0-709d-0cf99a3127d6",
           "10750",
           "membuat kripik tempe menghasilkan membuat kripik tempe di bidang perdanggan"
          ],
          [
           "640d0432-8815-4dd0-709d-0cf99a3127d6",
           "10750",
           "membuat kripik tempe menghasilkan membuat kripik tempe di bidang perdanggan"
          ],
          [
           "640d0432-8815-4dd0-709d-0cf99a3127d6",
           "10750",
           "membuat kripik tempe menghasilkan membuat kripik tempe di bidang perdanggan"
          ],
          [
           "48be6214-fef2-4954-b3f7-1be0ad7ba573",
           "10750",
           "membantu membuat dan menjual gorengan tahu isi di rumah sendiri menghasilkan gorengan tahu isi di bidang industri pengolahan"
          ],
          [
           "48be6214-fef2-4954-b3f7-1be0ad7ba573",
           "10750",
           "membantu membuat dan menjual gorengan tahu isi di rumah sendiri menghasilkan gorengan tahu isi di bidang industri pengolahan"
          ],
          [
           "48be6214-fef2-4954-b3f7-1be0ad7ba573",
           "10750",
           "membantu membuat dan menjual gorengan tahu isi di rumah sendiri menghasilkan gorengan tahu isi di bidang industri pengolahan"
          ],
          [
           "ab99cd2f-e269-4e62-cf36-e5930800cec1",
           "10750",
           "memasak ketringan milik tetangga menghasilkan jasa ketring di bidang ketringan"
          ],
          [
           "ab99cd2f-e269-4e62-cf36-e5930800cec1",
           "10750",
           "memasak ketringan milik tetangga menghasilkan jasa ketring di bidang ketringan"
          ],
          [
           "ab99cd2f-e269-4e62-cf36-e5930800cec1",
           "10750",
           "memasak ketringan milik tetangga menghasilkan jasa ketring di bidang ketringan"
          ],
          [
           "fab141e0-273b-4571-e3d3-d3065d5d6ef1",
           "10750",
           "menjual gorengan menghasilkan gorengan tempe,tahu dll di bidang usaha perorangan penjual gorengan"
          ],
          [
           "fab141e0-273b-4571-e3d3-d3065d5d6ef1",
           "10750",
           "menjual gorengan menghasilkan gorengan tempe,tahu dll di bidang usaha perorangan penjual gorengan"
          ],
          [
           "fab141e0-273b-4571-e3d3-d3065d5d6ef1",
           "10750",
           "menjual gorengan menghasilkan gorengan tempe,tahu dll di bidang usaha perorangan penjual gorengan"
          ],
          [
           "0ffc40bd-dc4a-4f8b-e7a1-c2406467cc41",
           "10750",
           "membantu menyiapkan jualan nasi kuning menghasilkan jualan nasi kuning di bidang jualan nasi kuning"
          ],
          [
           "d9dea199-b3eb-4c71-deb7-94dbd3b6e7ad",
           "10750",
           "menjual keripik sambal menghasilkan kripik sambal di bidang menjual keripik sambal dirumah milik sendiri"
          ],
          [
           "d9dea199-b3eb-4c71-deb7-94dbd3b6e7ad",
           "10750",
           "menjual keripik sambal menghasilkan kripik sambal di bidang menjual keripik sambal dirumah milik sendiri"
          ],
          [
           "d9dea199-b3eb-4c71-deb7-94dbd3b6e7ad",
           "10750",
           "menjual keripik sambal menghasilkan kripik sambal di bidang menjual keripik sambal dirumah milik sendiri"
          ],
          [
           "c027d06a-be56-4cee-166a-54e3819f2b2b",
           "10750",
           "menerima pesanan kue basah menghasilkan kue basah di bidang kue basah"
          ],
          [
           "c3229d36-4082-47f7-6c74-1dc502bd63b4",
           "10750",
           "pisang bakar gepe menghasilkan pisang di bidang makanan"
          ],
          [
           "c3229d36-4082-47f7-6c74-1dc502bd63b4",
           "10750",
           "pisang bakar gepe menghasilkan pisang di bidang makanan"
          ],
          [
           "c3229d36-4082-47f7-6c74-1dc502bd63b4",
           "10750",
           "pisang bakar gepe menghasilkan pisang di bidang makanan"
          ],
          [
           "8a2ad350-9025-488d-bf11-87a6990ec6c8",
           "10750",
           "jualan online seperti cireng menghasilkan makanan ringan di bidang makaman ringan"
          ],
          [
           "8a2ad350-9025-488d-bf11-87a6990ec6c8",
           "10750",
           "jualan online seperti cireng menghasilkan makanan ringan di bidang makaman ringan"
          ],
          [
           "8a2ad350-9025-488d-bf11-87a6990ec6c8",
           "10750",
           "jualan online seperti cireng menghasilkan makanan ringan di bidang makaman ringan"
          ]
         ],
         "hovertemplate": "model=gemini-2.5-flash-lite<br>Text Length (characters)=%{x}<br>Confidence Score=%{y}<br>run_id=%{marker.size}<br>uuid=%{customdata[0]}<br>kbli_code=%{customdata[1]}<br>text=%{customdata[2]}<extra></extra>",
         "legendgroup": "gemini-2.5-flash-lite",
         "marker": {
          "color": "#636efa",
          "size": {
           "bdata": "AQIDAQIDAQIDAQIDAQIDAQIDAQIDAQIDAgECAwECAwECAwECAwECAwECAwECAwECAwIBAgMBAgMBAgMBAgMBAgMBAgMBAgMBAgECAwECAwECAwECAwECAwECAwECAwECAwECAwECAwECAwECAwECAwECAwECAwECAwECAwECAwECAwECAwECAwECAwECAwECAwECAwIBAgMDAQIDAQID",
           "dtype": "i1"
          },
          "sizemode": "area",
          "sizeref": 0.0075,
          "symbol": "circle"
         },
         "mode": "markers",
         "name": "gemini-2.5-flash-lite",
         "orientation": "v",
         "showlegend": true,
         "type": "scatter",
         "x": {
          "bdata": "gwCDAIMA/wD/AP8AawBrAGsAggCCAIIAeQB5AHkAUwBTAFMAlQCVAJUAXgBeAF4A2ABgAGAAYABxAHEAcQBJAEkASQBBAEEAQQBSAFIAUgBGAEYARgBRAFEAUQA9AD0APQBLAFUAVQBVAF8AXwBfAF4AXgBeAE8ATwBPAGkAaQBpAD4APgA+AIsAiwCLAJUAlQBcAFwAXACeAJ4AngBbAFsAWwCRAJEAkQB7AHsAewBrAGsAawBoAGgAaABtAG0AbQCCAIIAggB5AHkAeQA2ADYANgByAHIAcgBJAEkASQBMAEwATAA/AD8APwBDAEMAQwBBAEEAQQCkAKQApAB6AHoAegBcAFwAXABzAHMAcwBLAEsASwB8AHwAfABOAE4ATgBhAGEAYQBjAGgAaABoAEUANwA3ADcAUQBRAFEA",
          "dtype": "i2"
         },
         "xaxis": "x",
         "y": {
          "bdata": "zczMzMzM7D/NzMzMzMzsP83MzMzMzOw/zczMzMzM7D/NzMzMzMzsP83MzMzMzOw/zczMzMzM7D/NzMzMzMzsP83MzMzMzOw/zczMzMzM7D/NzMzMzMzsP83MzMzMzOw/zczMzMzM7D/NzMzMzMzsP83MzMzMzOw/zczMzMzM7D/NzMzMzMzsP83MzMzMzOw/zczMzMzM7D/NzMzMzMzsP83MzMzMzOw/zczMzMzM7D/NzMzMzMzsP83MzMzMzOw/zczMzMzM7D/NzMzMzMzsPwAAAAAAAPA/ZmZmZmZm7j/NzMzMzMzsP83MzMzMzOw/zczMzMzM7D/NzMzMzMzsP2ZmZmZmZu4/zczMzMzM7D/NzMzMzMzsP83MzMzMzOw/zczMzMzM7D/NzMzMzMzsP83MzMzMzOw/zczMzMzM7D8AAAAAAADwP83MzMzMzOw/AAAAAAAA8D/NzMzMzMzsP83MzMzMzOw/zczMzMzM7D/NzMzMzMzsP83MzMzMzOw/zczMzMzM7D/NzMzMzMzsP2ZmZmZmZu4/AAAAAAAA8D/NzMzMzMzsP83MzMzMzOw/zczMzMzM7D/NzMzMzMzsPwAAAAAAAPA/AAAAAAAA8D8AAAAAAADwP83MzMzMzOw/ZmZmZmZm7j/NzMzMzMzsP83MzMzMzOw/zczMzMzM7D/NzMzMzMzsP83MzMzMzOw/zczMzMzM7D/NzMzMzMzsP83MzMzMzOw/zczMzMzM7D/NzMzMzMzsP83MzMzMzOw/zczMzMzM7D/NzMzMzMzsP83MzMzMzOw/zczMzMzM7D9mZmZmZmbuP83MzMzMzOw/zczMzMzM7D/NzMzMzMzsP83MzMzMzOw/zczMzMzM7D/NzMzMzMzsP83MzMzMzOw/zczMzMzM7D/NzMzMzMzsP83MzMzMzOw/zczMzMzM7D/NzMzMzMzsP83MzMzMzOw/zczMzMzM7D/NzMzMzMzsP83MzMzMzOw/zczMzMzM7D/NzMzMzMzsP83MzMzMzOw/zczMzMzM7D/NzMzMzMzsP83MzMzMzOw/AAAAAAAA8D/NzMzMzMzsPwAAAAAAAPA/zczMzMzM7D8AAAAAAADwPwAAAAAAAPA/AAAAAAAA8D/NzMzMzMzsP83MzMzMzOw/AAAAAAAA8D8AAAAAAADwPwAAAAAAAPA/AAAAAAAA8D8AAAAAAADwPwAAAAAAAPA/AAAAAAAA8D/NzMzMzMzsP83MzMzMzOw/zczMzMzM7D8AAAAAAADwPwAAAAAAAPA/AAAAAAAA8D8AAAAAAADwPwAAAAAAAPA/AAAAAAAA8D/NzMzMzMzsP83MzMzMzOw/zczMzMzM7D/NzMzMzMzsP83MzMzMzOw/zczMzMzM7D/NzMzMzMzsP83MzMzMzOw/zczMzMzM7D/NzMzMzMzsP83MzMzMzOw/zczMzMzM7D/NzMzMzMzsP83MzMzMzOw/zczMzMzM7D/NzMzMzMzsP83MzMzMzOw/zczMzMzM7D8zMzMzMzPrP83MzMzMzOw/zczMzMzM7D/NzMzMzMzsPwAAAAAAAPA/zczMzMzM7D/NzMzMzMzsP83MzMzMzOw/zczMzMzM7D/NzMzMzMzsP83MzMzMzOw/zczMzMzM7D/NzMzMzMzsP83MzMzMzOw/zczMzMzM7D/NzMzMzMzsP83MzMzMzOw/",
          "dtype": "f8"
         },
         "yaxis": "y"
        }
       ],
       "layout": {
        "height": 500,
        "legend": {
         "itemsizing": "constant",
         "title": {
          "text": "model"
         },
         "tracegroupgap": 0
        },
        "template": {
         "data": {
          "bar": [
           {
            "error_x": {
             "color": "#2a3f5f"
            },
            "error_y": {
             "color": "#2a3f5f"
            },
            "marker": {
             "line": {
              "color": "#E5ECF6",
              "width": 0.5
             },
             "pattern": {
              "fillmode": "overlay",
              "size": 10,
              "solidity": 0.2
             }
            },
            "type": "bar"
           }
          ],
          "barpolar": [
           {
            "marker": {
             "line": {
              "color": "#E5ECF6",
              "width": 0.5
             },
             "pattern": {
              "fillmode": "overlay",
              "size": 10,
              "solidity": 0.2
             }
            },
            "type": "barpolar"
           }
          ],
          "carpet": [
           {
            "aaxis": {
             "endlinecolor": "#2a3f5f",
             "gridcolor": "white",
             "linecolor": "white",
             "minorgridcolor": "white",
             "startlinecolor": "#2a3f5f"
            },
            "baxis": {
             "endlinecolor": "#2a3f5f",
             "gridcolor": "white",
             "linecolor": "white",
             "minorgridcolor": "white",
             "startlinecolor": "#2a3f5f"
            },
            "type": "carpet"
           }
          ],
          "choropleth": [
           {
            "colorbar": {
             "outlinewidth": 0,
             "ticks": ""
            },
            "type": "choropleth"
           }
          ],
          "contour": [
           {
            "colorbar": {
             "outlinewidth": 0,
             "ticks": ""
            },
            "colorscale": [
             [
              0,
              "#0d0887"
             ],
             [
              0.1111111111111111,
              "#46039f"
             ],
             [
              0.2222222222222222,
              "#7201a8"
             ],
             [
              0.3333333333333333,
              "#9c179e"
             ],
             [
              0.4444444444444444,
              "#bd3786"
             ],
             [
              0.5555555555555556,
              "#d8576b"
             ],
             [
              0.6666666666666666,
              "#ed7953"
             ],
             [
              0.7777777777777778,
              "#fb9f3a"
             ],
             [
              0.8888888888888888,
              "#fdca26"
             ],
             [
              1,
              "#f0f921"
             ]
            ],
            "type": "contour"
           }
          ],
          "contourcarpet": [
           {
            "colorbar": {
             "outlinewidth": 0,
             "ticks": ""
            },
            "type": "contourcarpet"
           }
          ],
          "heatmap": [
           {
            "colorbar": {
             "outlinewidth": 0,
             "ticks": ""
            },
            "colorscale": [
             [
              0,
              "#0d0887"
             ],
             [
              0.1111111111111111,
              "#46039f"
             ],
             [
              0.2222222222222222,
              "#7201a8"
             ],
             [
              0.3333333333333333,
              "#9c179e"
             ],
             [
              0.4444444444444444,
              "#bd3786"
             ],
             [
              0.5555555555555556,
              "#d8576b"
             ],
             [
              0.6666666666666666,
              "#ed7953"
             ],
             [
              0.7777777777777778,
              "#fb9f3a"
             ],
             [
              0.8888888888888888,
              "#fdca26"
             ],
             [
              1,
              "#f0f921"
             ]
            ],
            "type": "heatmap"
           }
          ],
          "histogram": [
           {
            "marker": {
             "pattern": {
              "fillmode": "overlay",
              "size": 10,
              "solidity": 0.2
             }
            },
            "type": "histogram"
           }
          ],
          "histogram2d": [
           {
            "colorbar": {
             "outlinewidth": 0,
             "ticks": ""
            },
            "colorscale": [
             [
              0,
              "#0d0887"
             ],
             [
              0.1111111111111111,
              "#46039f"
             ],
             [
              0.2222222222222222,
              "#7201a8"
             ],
             [
              0.3333333333333333,
              "#9c179e"
             ],
             [
              0.4444444444444444,
              "#bd3786"
             ],
             [
              0.5555555555555556,
              "#d8576b"
             ],
             [
              0.6666666666666666,
              "#ed7953"
             ],
             [
              0.7777777777777778,
              "#fb9f3a"
             ],
             [
              0.8888888888888888,
              "#fdca26"
             ],
             [
              1,
              "#f0f921"
             ]
            ],
            "type": "histogram2d"
           }
          ],
          "histogram2dcontour": [
           {
            "colorbar": {
             "outlinewidth": 0,
             "ticks": ""
            },
            "colorscale": [
             [
              0,
              "#0d0887"
             ],
             [
              0.1111111111111111,
              "#46039f"
             ],
             [
              0.2222222222222222,
              "#7201a8"
             ],
             [
              0.3333333333333333,
              "#9c179e"
             ],
             [
              0.4444444444444444,
              "#bd3786"
             ],
             [
              0.5555555555555556,
              "#d8576b"
             ],
             [
              0.6666666666666666,
              "#ed7953"
             ],
             [
              0.7777777777777778,
              "#fb9f3a"
             ],
             [
              0.8888888888888888,
              "#fdca26"
             ],
             [
              1,
              "#f0f921"
             ]
            ],
            "type": "histogram2dcontour"
           }
          ],
          "mesh3d": [
           {
            "colorbar": {
             "outlinewidth": 0,
             "ticks": ""
            },
            "type": "mesh3d"
           }
          ],
          "parcoords": [
           {
            "line": {
             "colorbar": {
              "outlinewidth": 0,
              "ticks": ""
             }
            },
            "type": "parcoords"
           }
          ],
          "pie": [
           {
            "automargin": true,
            "type": "pie"
           }
          ],
          "scatter": [
           {
            "fillpattern": {
             "fillmode": "overlay",
             "size": 10,
             "solidity": 0.2
            },
            "type": "scatter"
           }
          ],
          "scatter3d": [
           {
            "line": {
             "colorbar": {
              "outlinewidth": 0,
              "ticks": ""
             }
            },
            "marker": {
             "colorbar": {
              "outlinewidth": 0,
              "ticks": ""
             }
            },
            "type": "scatter3d"
           }
          ],
          "scattercarpet": [
           {
            "marker": {
             "colorbar": {
              "outlinewidth": 0,
              "ticks": ""
             }
            },
            "type": "scattercarpet"
           }
          ],
          "scattergeo": [
           {
            "marker": {
             "colorbar": {
              "outlinewidth": 0,
              "ticks": ""
             }
            },
            "type": "scattergeo"
           }
          ],
          "scattergl": [
           {
            "marker": {
             "colorbar": {
              "outlinewidth": 0,
              "ticks": ""
             }
            },
            "type": "scattergl"
           }
          ],
          "scattermap": [
           {
            "marker": {
             "colorbar": {
              "outlinewidth": 0,
              "ticks": ""
             }
            },
            "type": "scattermap"
           }
          ],
          "scattermapbox": [
           {
            "marker": {
             "colorbar": {
              "outlinewidth": 0,
              "ticks": ""
             }
            },
            "type": "scattermapbox"
           }
          ],
          "scatterpolar": [
           {
            "marker": {
             "colorbar": {
              "outlinewidth": 0,
              "ticks": ""
             }
            },
            "type": "scatterpolar"
           }
          ],
          "scatterpolargl": [
           {
            "marker": {
             "colorbar": {
              "outlinewidth": 0,
              "ticks": ""
             }
            },
            "type": "scatterpolargl"
           }
          ],
          "scatterternary": [
           {
            "marker": {
             "colorbar": {
              "outlinewidth": 0,
              "ticks": ""
             }
            },
            "type": "scatterternary"
           }
          ],
          "surface": [
           {
            "colorbar": {
             "outlinewidth": 0,
             "ticks": ""
            },
            "colorscale": [
             [
              0,
              "#0d0887"
             ],
             [
              0.1111111111111111,
              "#46039f"
             ],
             [
              0.2222222222222222,
              "#7201a8"
             ],
             [
              0.3333333333333333,
              "#9c179e"
             ],
             [
              0.4444444444444444,
              "#bd3786"
             ],
             [
              0.5555555555555556,
              "#d8576b"
             ],
             [
              0.6666666666666666,
              "#ed7953"
             ],
             [
              0.7777777777777778,
              "#fb9f3a"
             ],
             [
              0.8888888888888888,
              "#fdca26"
             ],
             [
              1,
              "#f0f921"
             ]
            ],
            "type": "surface"
           }
          ],
          "table": [
           {
            "cells": {
             "fill": {
              "color": "#EBF0F8"
             },
             "line": {
              "color": "white"
             }
            },
            "header": {
             "fill": {
              "color": "#C8D4E3"
             },
             "line": {
              "color": "white"
             }
            },
            "type": "table"
           }
          ]
         },
         "layout": {
          "annotationdefaults": {
           "arrowcolor": "#2a3f5f",
           "arrowhead": 0,
           "arrowwidth": 1
          },
          "autotypenumbers": "strict",
          "coloraxis": {
           "colorbar": {
            "outlinewidth": 0,
            "ticks": ""
           }
          },
          "colorscale": {
           "diverging": [
            [
             0,
             "#8e0152"
            ],
            [
             0.1,
             "#c51b7d"
            ],
            [
             0.2,
             "#de77ae"
            ],
            [
             0.3,
             "#f1b6da"
            ],
            [
             0.4,
             "#fde0ef"
            ],
            [
             0.5,
             "#f7f7f7"
            ],
            [
             0.6,
             "#e6f5d0"
            ],
            [
             0.7,
             "#b8e186"
            ],
            [
             0.8,
             "#7fbc41"
            ],
            [
             0.9,
             "#4d9221"
            ],
            [
             1,
             "#276419"
            ]
           ],
           "sequential": [
            [
             0,
             "#0d0887"
            ],
            [
             0.1111111111111111,
             "#46039f"
            ],
            [
             0.2222222222222222,
             "#7201a8"
            ],
            [
             0.3333333333333333,
             "#9c179e"
            ],
            [
             0.4444444444444444,
             "#bd3786"
            ],
            [
             0.5555555555555556,
             "#d8576b"
            ],
            [
             0.6666666666666666,
             "#ed7953"
            ],
            [
             0.7777777777777778,
             "#fb9f3a"
            ],
            [
             0.8888888888888888,
             "#fdca26"
            ],
            [
             1,
             "#f0f921"
            ]
           ],
           "sequentialminus": [
            [
             0,
             "#0d0887"
            ],
            [
             0.1111111111111111,
             "#46039f"
            ],
            [
             0.2222222222222222,
             "#7201a8"
            ],
            [
             0.3333333333333333,
             "#9c179e"
            ],
            [
             0.4444444444444444,
             "#bd3786"
            ],
            [
             0.5555555555555556,
             "#d8576b"
            ],
            [
             0.6666666666666666,
             "#ed7953"
            ],
            [
             0.7777777777777778,
             "#fb9f3a"
            ],
            [
             0.8888888888888888,
             "#fdca26"
            ],
            [
             1,
             "#f0f921"
            ]
           ]
          },
          "colorway": [
           "#636efa",
           "#EF553B",
           "#00cc96",
           "#ab63fa",
           "#FFA15A",
           "#19d3f3",
           "#FF6692",
           "#B6E880",
           "#FF97FF",
           "#FECB52"
          ],
          "font": {
           "color": "#2a3f5f"
          },
          "geo": {
           "bgcolor": "white",
           "lakecolor": "white",
           "landcolor": "#E5ECF6",
           "showlakes": true,
           "showland": true,
           "subunitcolor": "white"
          },
          "hoverlabel": {
           "align": "left"
          },
          "hovermode": "closest",
          "mapbox": {
           "style": "light"
          },
          "paper_bgcolor": "white",
          "plot_bgcolor": "#E5ECF6",
          "polar": {
           "angularaxis": {
            "gridcolor": "white",
            "linecolor": "white",
            "ticks": ""
           },
           "bgcolor": "#E5ECF6",
           "radialaxis": {
            "gridcolor": "white",
            "linecolor": "white",
            "ticks": ""
           }
          },
          "scene": {
           "xaxis": {
            "backgroundcolor": "#E5ECF6",
            "gridcolor": "white",
            "gridwidth": 2,
            "linecolor": "white",
            "showbackground": true,
            "ticks": "",
            "zerolinecolor": "white"
           },
           "yaxis": {
            "backgroundcolor": "#E5ECF6",
            "gridcolor": "white",
            "gridwidth": 2,
            "linecolor": "white",
            "showbackground": true,
            "ticks": "",
            "zerolinecolor": "white"
           },
           "zaxis": {
            "backgroundcolor": "#E5ECF6",
            "gridcolor": "white",
            "gridwidth": 2,
            "linecolor": "white",
            "showbackground": true,
            "ticks": "",
            "zerolinecolor": "white"
           }
          },
          "shapedefaults": {
           "line": {
            "color": "#2a3f5f"
           }
          },
          "ternary": {
           "aaxis": {
            "gridcolor": "white",
            "linecolor": "white",
            "ticks": ""
           },
           "baxis": {
            "gridcolor": "white",
            "linecolor": "white",
            "ticks": ""
           },
           "bgcolor": "#E5ECF6",
           "caxis": {
            "gridcolor": "white",
            "linecolor": "white",
            "ticks": ""
           }
          },
          "title": {
           "x": 0.05
          },
          "xaxis": {
           "automargin": true,
           "gridcolor": "white",
           "linecolor": "white",
           "ticks": "",
           "title": {
            "standoff": 15
           },
           "zerolinecolor": "white",
           "zerolinewidth": 2
          },
          "yaxis": {
           "automargin": true,
           "gridcolor": "white",
           "linecolor": "white",
           "ticks": "",
           "title": {
            "standoff": 15
           },
           "zerolinecolor": "white",
           "zerolinewidth": 2
          }
         }
        },
        "title": {
         "text": "False Classifications: Confidence vs Text Length"
        },
        "xaxis": {
         "anchor": "y",
         "domain": [
          0,
          1
         ],
         "title": {
          "text": "Text Length (characters)"
         }
        },
        "yaxis": {
         "anchor": "x",
         "domain": [
          0,
          1
         ],
         "title": {
          "text": "Confidence Score"
         }
        }
       }
      }
     },
     "metadata": {},
     "output_type": "display_data"
    },
    {
     "data": {
      "application/vnd.plotly.v1+json": {
       "config": {
        "plotlyServerURL": "https://plot.ly"
       },
       "data": [
        {
         "customdata": [
          [
           "10110",
           0
          ],
          [
           "10120",
           0
          ],
          [
           "10130",
           3
          ],
          [
           "10211",
           6
          ],
          [
           "10212",
           0
          ],
          [
           "10213",
           0
          ],
          [
           "10214",
           0
          ],
          [
           "10216",
           3
          ],
          [
           "10219",
           0
          ],
          [
           "10221",
           3
          ],
          [
           "10222",
           3
          ],
          [
           "10293",
           0
          ],
          [
           "10299",
           0
          ],
          [
           "10312",
           3
          ],
          [
           "10313",
           0
          ],
          [
           "10320",
           0
          ],
          [
           "10391",
           3
          ],
          [
           "10392",
           0
          ],
          [
           "10393",
           1
          ],
          [
           "10399",
           3
          ],
          [
           "10421",
           28
          ],
          [
           "10422",
           0
          ],
          [
           "10423",
           0
          ],
          [
           "10431",
           6
          ],
          [
           "10437",
           3
          ],
          [
           "10520",
           0
          ],
          [
           "10531",
           3
          ],
          [
           "10532",
           0
          ],
          [
           "10614",
           0
          ],
          [
           "10616",
           0
          ],
          [
           "10621",
           0
          ],
          [
           "10622",
           0
          ],
          [
           "10631",
           3
          ],
          [
           "10632",
           0
          ],
          [
           "10633",
           0
          ],
          [
           "10710",
           29
          ],
          [
           "10721",
           6
          ],
          [
           "10722",
           6
          ],
          [
           "10729",
           6
          ],
          [
           "10732",
           3
          ],
          [
           "10734",
           3
          ],
          [
           "10740",
           3
          ],
          [
           "10750",
           32
          ]
         ],
         "hovertemplate": "Average Confidence Score=%{x}<br>Error Rate (%)=%{y}<br>Total_Count=%{marker.size}<br>kbli_code=%{customdata[0]}<br>Error_Count=%{customdata[1]}<extra></extra>",
         "legendgroup": "",
         "marker": {
          "color": "#636efa",
          "size": {
           "bdata": "AwYJDwYJAwYGBgMDAwMGAxgVAwNmAwYeCQMDBgMDBgYnAwNyCTMGAwMMQg==",
           "dtype": "i1"
          },
          "sizemode": "area",
          "sizeref": 0.285,
          "symbol": "circle"
         },
         "mode": "markers",
         "name": "",
         "orientation": "v",
         "showlegend": false,
         "type": "scatter",
         "x": {
          "bdata": "AAAAAAAA8D8AAAAAAADwP4ts5/up8e4/RIts5/up7T8zMzMzMzPvP2Q730+Nl+4/AAAAAAAA8D/NzMzMzMzsP/LSTWIQWO0/QmDl0CLb7T/NzMzMzMzsP4ts5/up8e4/AAAAAAAA8D/NzMzMzMzsP2ZmZmZmZu4/QmDl0CLb7T+HFtnO91PvPwAAAAAAAPA/zczMzMzM7D9mZmZmZmbuP7TIdr6fGu8/QmDl0CLb7T8AAAAAAADwP2IQWDm0yO4/QmDl0CLb7T+LbOf7qfHuP83MzMzMzOw/AAAAAAAA8D/NzMzMzMzsPwAAAAAAAPA/2/l+arx07z8AAAAAAADwP9v5fmq8dO8/AAAAAAAA8D/NzMzMzMzsPzm0yHa+n+4/aJHtfD817j9YObTIdr7vP2ZmZmZmZu4/AAAAAAAA8D8AAAAAAADwP28Sg8DKoe0/nu+nxks37T8=",
          "dtype": "f8"
         },
         "xaxis": "x",
         "y": {
          "bdata": "AAAAAAAAAAAAAAAAAAAAAGZmZmZmpkBAAAAAAAAAREAAAAAAAAAAAAAAAAAAAAAAAAAAAAAAAAAAAAAAAABJQAAAAAAAAAAAAAAAAAAASUAAAAAAAABZQAAAAAAAAAAAAAAAAAAAAAAAAAAAAABZQAAAAAAAAAAAAAAAAAAAAAAAAAAAAAApQAAAAAAAAAAAZmZmZmamQEAAAAAAAABZQAEAAAAAgDtAAAAAAAAAAAAAAAAAAAAAAP///////zNAZmZmZmamQEAAAAAAAAAAAAAAAAAAAFlAAAAAAAAAAAAAAAAAAAAAAAAAAAAAAAAAAAAAAAAAAAAAAAAAAAAAAMjMzMzMzB5AAAAAAAAAAAAAAAAAAAAAAGZmZmZmZjlAzczMzMysUECZmZmZmZknQAAAAAAAAFlAAAAAAAAAWUAAAAAAAABZQAAAAAAAADlAAAAAAABASEA=",
          "dtype": "f8"
         },
         "yaxis": "y"
        }
       ],
       "layout": {
        "height": 500,
        "legend": {
         "itemsizing": "constant",
         "tracegroupgap": 0
        },
        "template": {
         "data": {
          "bar": [
           {
            "error_x": {
             "color": "#2a3f5f"
            },
            "error_y": {
             "color": "#2a3f5f"
            },
            "marker": {
             "line": {
              "color": "#E5ECF6",
              "width": 0.5
             },
             "pattern": {
              "fillmode": "overlay",
              "size": 10,
              "solidity": 0.2
             }
            },
            "type": "bar"
           }
          ],
          "barpolar": [
           {
            "marker": {
             "line": {
              "color": "#E5ECF6",
              "width": 0.5
             },
             "pattern": {
              "fillmode": "overlay",
              "size": 10,
              "solidity": 0.2
             }
            },
            "type": "barpolar"
           }
          ],
          "carpet": [
           {
            "aaxis": {
             "endlinecolor": "#2a3f5f",
             "gridcolor": "white",
             "linecolor": "white",
             "minorgridcolor": "white",
             "startlinecolor": "#2a3f5f"
            },
            "baxis": {
             "endlinecolor": "#2a3f5f",
             "gridcolor": "white",
             "linecolor": "white",
             "minorgridcolor": "white",
             "startlinecolor": "#2a3f5f"
            },
            "type": "carpet"
           }
          ],
          "choropleth": [
           {
            "colorbar": {
             "outlinewidth": 0,
             "ticks": ""
            },
            "type": "choropleth"
           }
          ],
          "contour": [
           {
            "colorbar": {
             "outlinewidth": 0,
             "ticks": ""
            },
            "colorscale": [
             [
              0,
              "#0d0887"
             ],
             [
              0.1111111111111111,
              "#46039f"
             ],
             [
              0.2222222222222222,
              "#7201a8"
             ],
             [
              0.3333333333333333,
              "#9c179e"
             ],
             [
              0.4444444444444444,
              "#bd3786"
             ],
             [
              0.5555555555555556,
              "#d8576b"
             ],
             [
              0.6666666666666666,
              "#ed7953"
             ],
             [
              0.7777777777777778,
              "#fb9f3a"
             ],
             [
              0.8888888888888888,
              "#fdca26"
             ],
             [
              1,
              "#f0f921"
             ]
            ],
            "type": "contour"
           }
          ],
          "contourcarpet": [
           {
            "colorbar": {
             "outlinewidth": 0,
             "ticks": ""
            },
            "type": "contourcarpet"
           }
          ],
          "heatmap": [
           {
            "colorbar": {
             "outlinewidth": 0,
             "ticks": ""
            },
            "colorscale": [
             [
              0,
              "#0d0887"
             ],
             [
              0.1111111111111111,
              "#46039f"
             ],
             [
              0.2222222222222222,
              "#7201a8"
             ],
             [
              0.3333333333333333,
              "#9c179e"
             ],
             [
              0.4444444444444444,
              "#bd3786"
             ],
             [
              0.5555555555555556,
              "#d8576b"
             ],
             [
              0.6666666666666666,
              "#ed7953"
             ],
             [
              0.7777777777777778,
              "#fb9f3a"
             ],
             [
              0.8888888888888888,
              "#fdca26"
             ],
             [
              1,
              "#f0f921"
             ]
            ],
            "type": "heatmap"
           }
          ],
          "histogram": [
           {
            "marker": {
             "pattern": {
              "fillmode": "overlay",
              "size": 10,
              "solidity": 0.2
             }
            },
            "type": "histogram"
           }
          ],
          "histogram2d": [
           {
            "colorbar": {
             "outlinewidth": 0,
             "ticks": ""
            },
            "colorscale": [
             [
              0,
              "#0d0887"
             ],
             [
              0.1111111111111111,
              "#46039f"
             ],
             [
              0.2222222222222222,
              "#7201a8"
             ],
             [
              0.3333333333333333,
              "#9c179e"
             ],
             [
              0.4444444444444444,
              "#bd3786"
             ],
             [
              0.5555555555555556,
              "#d8576b"
             ],
             [
              0.6666666666666666,
              "#ed7953"
             ],
             [
              0.7777777777777778,
              "#fb9f3a"
             ],
             [
              0.8888888888888888,
              "#fdca26"
             ],
             [
              1,
              "#f0f921"
             ]
            ],
            "type": "histogram2d"
           }
          ],
          "histogram2dcontour": [
           {
            "colorbar": {
             "outlinewidth": 0,
             "ticks": ""
            },
            "colorscale": [
             [
              0,
              "#0d0887"
             ],
             [
              0.1111111111111111,
              "#46039f"
             ],
             [
              0.2222222222222222,
              "#7201a8"
             ],
             [
              0.3333333333333333,
              "#9c179e"
             ],
             [
              0.4444444444444444,
              "#bd3786"
             ],
             [
              0.5555555555555556,
              "#d8576b"
             ],
             [
              0.6666666666666666,
              "#ed7953"
             ],
             [
              0.7777777777777778,
              "#fb9f3a"
             ],
             [
              0.8888888888888888,
              "#fdca26"
             ],
             [
              1,
              "#f0f921"
             ]
            ],
            "type": "histogram2dcontour"
           }
          ],
          "mesh3d": [
           {
            "colorbar": {
             "outlinewidth": 0,
             "ticks": ""
            },
            "type": "mesh3d"
           }
          ],
          "parcoords": [
           {
            "line": {
             "colorbar": {
              "outlinewidth": 0,
              "ticks": ""
             }
            },
            "type": "parcoords"
           }
          ],
          "pie": [
           {
            "automargin": true,
            "type": "pie"
           }
          ],
          "scatter": [
           {
            "fillpattern": {
             "fillmode": "overlay",
             "size": 10,
             "solidity": 0.2
            },
            "type": "scatter"
           }
          ],
          "scatter3d": [
           {
            "line": {
             "colorbar": {
              "outlinewidth": 0,
              "ticks": ""
             }
            },
            "marker": {
             "colorbar": {
              "outlinewidth": 0,
              "ticks": ""
             }
            },
            "type": "scatter3d"
           }
          ],
          "scattercarpet": [
           {
            "marker": {
             "colorbar": {
              "outlinewidth": 0,
              "ticks": ""
             }
            },
            "type": "scattercarpet"
           }
          ],
          "scattergeo": [
           {
            "marker": {
             "colorbar": {
              "outlinewidth": 0,
              "ticks": ""
             }
            },
            "type": "scattergeo"
           }
          ],
          "scattergl": [
           {
            "marker": {
             "colorbar": {
              "outlinewidth": 0,
              "ticks": ""
             }
            },
            "type": "scattergl"
           }
          ],
          "scattermap": [
           {
            "marker": {
             "colorbar": {
              "outlinewidth": 0,
              "ticks": ""
             }
            },
            "type": "scattermap"
           }
          ],
          "scattermapbox": [
           {
            "marker": {
             "colorbar": {
              "outlinewidth": 0,
              "ticks": ""
             }
            },
            "type": "scattermapbox"
           }
          ],
          "scatterpolar": [
           {
            "marker": {
             "colorbar": {
              "outlinewidth": 0,
              "ticks": ""
             }
            },
            "type": "scatterpolar"
           }
          ],
          "scatterpolargl": [
           {
            "marker": {
             "colorbar": {
              "outlinewidth": 0,
              "ticks": ""
             }
            },
            "type": "scatterpolargl"
           }
          ],
          "scatterternary": [
           {
            "marker": {
             "colorbar": {
              "outlinewidth": 0,
              "ticks": ""
             }
            },
            "type": "scatterternary"
           }
          ],
          "surface": [
           {
            "colorbar": {
             "outlinewidth": 0,
             "ticks": ""
            },
            "colorscale": [
             [
              0,
              "#0d0887"
             ],
             [
              0.1111111111111111,
              "#46039f"
             ],
             [
              0.2222222222222222,
              "#7201a8"
             ],
             [
              0.3333333333333333,
              "#9c179e"
             ],
             [
              0.4444444444444444,
              "#bd3786"
             ],
             [
              0.5555555555555556,
              "#d8576b"
             ],
             [
              0.6666666666666666,
              "#ed7953"
             ],
             [
              0.7777777777777778,
              "#fb9f3a"
             ],
             [
              0.8888888888888888,
              "#fdca26"
             ],
             [
              1,
              "#f0f921"
             ]
            ],
            "type": "surface"
           }
          ],
          "table": [
           {
            "cells": {
             "fill": {
              "color": "#EBF0F8"
             },
             "line": {
              "color": "white"
             }
            },
            "header": {
             "fill": {
              "color": "#C8D4E3"
             },
             "line": {
              "color": "white"
             }
            },
            "type": "table"
           }
          ]
         },
         "layout": {
          "annotationdefaults": {
           "arrowcolor": "#2a3f5f",
           "arrowhead": 0,
           "arrowwidth": 1
          },
          "autotypenumbers": "strict",
          "coloraxis": {
           "colorbar": {
            "outlinewidth": 0,
            "ticks": ""
           }
          },
          "colorscale": {
           "diverging": [
            [
             0,
             "#8e0152"
            ],
            [
             0.1,
             "#c51b7d"
            ],
            [
             0.2,
             "#de77ae"
            ],
            [
             0.3,
             "#f1b6da"
            ],
            [
             0.4,
             "#fde0ef"
            ],
            [
             0.5,
             "#f7f7f7"
            ],
            [
             0.6,
             "#e6f5d0"
            ],
            [
             0.7,
             "#b8e186"
            ],
            [
             0.8,
             "#7fbc41"
            ],
            [
             0.9,
             "#4d9221"
            ],
            [
             1,
             "#276419"
            ]
           ],
           "sequential": [
            [
             0,
             "#0d0887"
            ],
            [
             0.1111111111111111,
             "#46039f"
            ],
            [
             0.2222222222222222,
             "#7201a8"
            ],
            [
             0.3333333333333333,
             "#9c179e"
            ],
            [
             0.4444444444444444,
             "#bd3786"
            ],
            [
             0.5555555555555556,
             "#d8576b"
            ],
            [
             0.6666666666666666,
             "#ed7953"
            ],
            [
             0.7777777777777778,
             "#fb9f3a"
            ],
            [
             0.8888888888888888,
             "#fdca26"
            ],
            [
             1,
             "#f0f921"
            ]
           ],
           "sequentialminus": [
            [
             0,
             "#0d0887"
            ],
            [
             0.1111111111111111,
             "#46039f"
            ],
            [
             0.2222222222222222,
             "#7201a8"
            ],
            [
             0.3333333333333333,
             "#9c179e"
            ],
            [
             0.4444444444444444,
             "#bd3786"
            ],
            [
             0.5555555555555556,
             "#d8576b"
            ],
            [
             0.6666666666666666,
             "#ed7953"
            ],
            [
             0.7777777777777778,
             "#fb9f3a"
            ],
            [
             0.8888888888888888,
             "#fdca26"
            ],
            [
             1,
             "#f0f921"
            ]
           ]
          },
          "colorway": [
           "#636efa",
           "#EF553B",
           "#00cc96",
           "#ab63fa",
           "#FFA15A",
           "#19d3f3",
           "#FF6692",
           "#B6E880",
           "#FF97FF",
           "#FECB52"
          ],
          "font": {
           "color": "#2a3f5f"
          },
          "geo": {
           "bgcolor": "white",
           "lakecolor": "white",
           "landcolor": "#E5ECF6",
           "showlakes": true,
           "showland": true,
           "subunitcolor": "white"
          },
          "hoverlabel": {
           "align": "left"
          },
          "hovermode": "closest",
          "mapbox": {
           "style": "light"
          },
          "paper_bgcolor": "white",
          "plot_bgcolor": "#E5ECF6",
          "polar": {
           "angularaxis": {
            "gridcolor": "white",
            "linecolor": "white",
            "ticks": ""
           },
           "bgcolor": "#E5ECF6",
           "radialaxis": {
            "gridcolor": "white",
            "linecolor": "white",
            "ticks": ""
           }
          },
          "scene": {
           "xaxis": {
            "backgroundcolor": "#E5ECF6",
            "gridcolor": "white",
            "gridwidth": 2,
            "linecolor": "white",
            "showbackground": true,
            "ticks": "",
            "zerolinecolor": "white"
           },
           "yaxis": {
            "backgroundcolor": "#E5ECF6",
            "gridcolor": "white",
            "gridwidth": 2,
            "linecolor": "white",
            "showbackground": true,
            "ticks": "",
            "zerolinecolor": "white"
           },
           "zaxis": {
            "backgroundcolor": "#E5ECF6",
            "gridcolor": "white",
            "gridwidth": 2,
            "linecolor": "white",
            "showbackground": true,
            "ticks": "",
            "zerolinecolor": "white"
           }
          },
          "shapedefaults": {
           "line": {
            "color": "#2a3f5f"
           }
          },
          "ternary": {
           "aaxis": {
            "gridcolor": "white",
            "linecolor": "white",
            "ticks": ""
           },
           "baxis": {
            "gridcolor": "white",
            "linecolor": "white",
            "ticks": ""
           },
           "bgcolor": "#E5ECF6",
           "caxis": {
            "gridcolor": "white",
            "linecolor": "white",
            "ticks": ""
           }
          },
          "title": {
           "x": 0.05
          },
          "xaxis": {
           "automargin": true,
           "gridcolor": "white",
           "linecolor": "white",
           "ticks": "",
           "title": {
            "standoff": 15
           },
           "zerolinecolor": "white",
           "zerolinewidth": 2
          },
          "yaxis": {
           "automargin": true,
           "gridcolor": "white",
           "linecolor": "white",
           "ticks": "",
           "title": {
            "standoff": 15
           },
           "zerolinecolor": "white",
           "zerolinewidth": 2
          }
         }
        },
        "title": {
         "text": "KBLI Code Analysis: Error Rate vs Average Confidence"
        },
        "xaxis": {
         "anchor": "y",
         "domain": [
          0,
          1
         ],
         "title": {
          "text": "Average Confidence Score"
         }
        },
        "yaxis": {
         "anchor": "x",
         "domain": [
          0,
          1
         ],
         "title": {
          "text": "Error Rate (%)"
         }
        }
       }
      }
     },
     "metadata": {},
     "output_type": "display_data"
    },
    {
     "data": {
      "application/vnd.plotly.v1+json": {
       "config": {
        "plotlyServerURL": "https://plot.ly"
       },
       "data": [
        {
         "hovertemplate": "Classification Result=True<br>model=%{x}<br>Number of Classifications=%{y}<extra></extra>",
         "legendgroup": "True",
         "marker": {
          "color": "#00cc96",
          "pattern": {
           "shape": ""
          }
         },
         "name": "True",
         "orientation": "v",
         "showlegend": true,
         "textposition": "auto",
         "type": "bar",
         "x": [
          "gemini-2.5-flash-lite"
         ],
         "xaxis": "x",
         "y": {
          "bdata": "1wE=",
          "dtype": "i2"
         },
         "yaxis": "y"
        },
        {
         "hovertemplate": "Classification Result=False<br>model=%{x}<br>Number of Classifications=%{y}<extra></extra>",
         "legendgroup": "False",
         "marker": {
          "color": "#ab63fa",
          "pattern": {
           "shape": ""
          }
         },
         "name": "False",
         "orientation": "v",
         "showlegend": true,
         "textposition": "auto",
         "type": "bar",
         "x": [
          "gemini-2.5-flash-lite"
         ],
         "xaxis": "x",
         "y": {
          "bdata": "nwA=",
          "dtype": "i2"
         },
         "yaxis": "y"
        }
       ],
       "layout": {
        "barmode": "relative",
        "height": 500,
        "legend": {
         "title": {
          "text": "Classification Result"
         },
         "tracegroupgap": 0
        },
        "template": {
         "data": {
          "bar": [
           {
            "error_x": {
             "color": "#2a3f5f"
            },
            "error_y": {
             "color": "#2a3f5f"
            },
            "marker": {
             "line": {
              "color": "#E5ECF6",
              "width": 0.5
             },
             "pattern": {
              "fillmode": "overlay",
              "size": 10,
              "solidity": 0.2
             }
            },
            "type": "bar"
           }
          ],
          "barpolar": [
           {
            "marker": {
             "line": {
              "color": "#E5ECF6",
              "width": 0.5
             },
             "pattern": {
              "fillmode": "overlay",
              "size": 10,
              "solidity": 0.2
             }
            },
            "type": "barpolar"
           }
          ],
          "carpet": [
           {
            "aaxis": {
             "endlinecolor": "#2a3f5f",
             "gridcolor": "white",
             "linecolor": "white",
             "minorgridcolor": "white",
             "startlinecolor": "#2a3f5f"
            },
            "baxis": {
             "endlinecolor": "#2a3f5f",
             "gridcolor": "white",
             "linecolor": "white",
             "minorgridcolor": "white",
             "startlinecolor": "#2a3f5f"
            },
            "type": "carpet"
           }
          ],
          "choropleth": [
           {
            "colorbar": {
             "outlinewidth": 0,
             "ticks": ""
            },
            "type": "choropleth"
           }
          ],
          "contour": [
           {
            "colorbar": {
             "outlinewidth": 0,
             "ticks": ""
            },
            "colorscale": [
             [
              0,
              "#0d0887"
             ],
             [
              0.1111111111111111,
              "#46039f"
             ],
             [
              0.2222222222222222,
              "#7201a8"
             ],
             [
              0.3333333333333333,
              "#9c179e"
             ],
             [
              0.4444444444444444,
              "#bd3786"
             ],
             [
              0.5555555555555556,
              "#d8576b"
             ],
             [
              0.6666666666666666,
              "#ed7953"
             ],
             [
              0.7777777777777778,
              "#fb9f3a"
             ],
             [
              0.8888888888888888,
              "#fdca26"
             ],
             [
              1,
              "#f0f921"
             ]
            ],
            "type": "contour"
           }
          ],
          "contourcarpet": [
           {
            "colorbar": {
             "outlinewidth": 0,
             "ticks": ""
            },
            "type": "contourcarpet"
           }
          ],
          "heatmap": [
           {
            "colorbar": {
             "outlinewidth": 0,
             "ticks": ""
            },
            "colorscale": [
             [
              0,
              "#0d0887"
             ],
             [
              0.1111111111111111,
              "#46039f"
             ],
             [
              0.2222222222222222,
              "#7201a8"
             ],
             [
              0.3333333333333333,
              "#9c179e"
             ],
             [
              0.4444444444444444,
              "#bd3786"
             ],
             [
              0.5555555555555556,
              "#d8576b"
             ],
             [
              0.6666666666666666,
              "#ed7953"
             ],
             [
              0.7777777777777778,
              "#fb9f3a"
             ],
             [
              0.8888888888888888,
              "#fdca26"
             ],
             [
              1,
              "#f0f921"
             ]
            ],
            "type": "heatmap"
           }
          ],
          "histogram": [
           {
            "marker": {
             "pattern": {
              "fillmode": "overlay",
              "size": 10,
              "solidity": 0.2
             }
            },
            "type": "histogram"
           }
          ],
          "histogram2d": [
           {
            "colorbar": {
             "outlinewidth": 0,
             "ticks": ""
            },
            "colorscale": [
             [
              0,
              "#0d0887"
             ],
             [
              0.1111111111111111,
              "#46039f"
             ],
             [
              0.2222222222222222,
              "#7201a8"
             ],
             [
              0.3333333333333333,
              "#9c179e"
             ],
             [
              0.4444444444444444,
              "#bd3786"
             ],
             [
              0.5555555555555556,
              "#d8576b"
             ],
             [
              0.6666666666666666,
              "#ed7953"
             ],
             [
              0.7777777777777778,
              "#fb9f3a"
             ],
             [
              0.8888888888888888,
              "#fdca26"
             ],
             [
              1,
              "#f0f921"
             ]
            ],
            "type": "histogram2d"
           }
          ],
          "histogram2dcontour": [
           {
            "colorbar": {
             "outlinewidth": 0,
             "ticks": ""
            },
            "colorscale": [
             [
              0,
              "#0d0887"
             ],
             [
              0.1111111111111111,
              "#46039f"
             ],
             [
              0.2222222222222222,
              "#7201a8"
             ],
             [
              0.3333333333333333,
              "#9c179e"
             ],
             [
              0.4444444444444444,
              "#bd3786"
             ],
             [
              0.5555555555555556,
              "#d8576b"
             ],
             [
              0.6666666666666666,
              "#ed7953"
             ],
             [
              0.7777777777777778,
              "#fb9f3a"
             ],
             [
              0.8888888888888888,
              "#fdca26"
             ],
             [
              1,
              "#f0f921"
             ]
            ],
            "type": "histogram2dcontour"
           }
          ],
          "mesh3d": [
           {
            "colorbar": {
             "outlinewidth": 0,
             "ticks": ""
            },
            "type": "mesh3d"
           }
          ],
          "parcoords": [
           {
            "line": {
             "colorbar": {
              "outlinewidth": 0,
              "ticks": ""
             }
            },
            "type": "parcoords"
           }
          ],
          "pie": [
           {
            "automargin": true,
            "type": "pie"
           }
          ],
          "scatter": [
           {
            "fillpattern": {
             "fillmode": "overlay",
             "size": 10,
             "solidity": 0.2
            },
            "type": "scatter"
           }
          ],
          "scatter3d": [
           {
            "line": {
             "colorbar": {
              "outlinewidth": 0,
              "ticks": ""
             }
            },
            "marker": {
             "colorbar": {
              "outlinewidth": 0,
              "ticks": ""
             }
            },
            "type": "scatter3d"
           }
          ],
          "scattercarpet": [
           {
            "marker": {
             "colorbar": {
              "outlinewidth": 0,
              "ticks": ""
             }
            },
            "type": "scattercarpet"
           }
          ],
          "scattergeo": [
           {
            "marker": {
             "colorbar": {
              "outlinewidth": 0,
              "ticks": ""
             }
            },
            "type": "scattergeo"
           }
          ],
          "scattergl": [
           {
            "marker": {
             "colorbar": {
              "outlinewidth": 0,
              "ticks": ""
             }
            },
            "type": "scattergl"
           }
          ],
          "scattermap": [
           {
            "marker": {
             "colorbar": {
              "outlinewidth": 0,
              "ticks": ""
             }
            },
            "type": "scattermap"
           }
          ],
          "scattermapbox": [
           {
            "marker": {
             "colorbar": {
              "outlinewidth": 0,
              "ticks": ""
             }
            },
            "type": "scattermapbox"
           }
          ],
          "scatterpolar": [
           {
            "marker": {
             "colorbar": {
              "outlinewidth": 0,
              "ticks": ""
             }
            },
            "type": "scatterpolar"
           }
          ],
          "scatterpolargl": [
           {
            "marker": {
             "colorbar": {
              "outlinewidth": 0,
              "ticks": ""
             }
            },
            "type": "scatterpolargl"
           }
          ],
          "scatterternary": [
           {
            "marker": {
             "colorbar": {
              "outlinewidth": 0,
              "ticks": ""
             }
            },
            "type": "scatterternary"
           }
          ],
          "surface": [
           {
            "colorbar": {
             "outlinewidth": 0,
             "ticks": ""
            },
            "colorscale": [
             [
              0,
              "#0d0887"
             ],
             [
              0.1111111111111111,
              "#46039f"
             ],
             [
              0.2222222222222222,
              "#7201a8"
             ],
             [
              0.3333333333333333,
              "#9c179e"
             ],
             [
              0.4444444444444444,
              "#bd3786"
             ],
             [
              0.5555555555555556,
              "#d8576b"
             ],
             [
              0.6666666666666666,
              "#ed7953"
             ],
             [
              0.7777777777777778,
              "#fb9f3a"
             ],
             [
              0.8888888888888888,
              "#fdca26"
             ],
             [
              1,
              "#f0f921"
             ]
            ],
            "type": "surface"
           }
          ],
          "table": [
           {
            "cells": {
             "fill": {
              "color": "#EBF0F8"
             },
             "line": {
              "color": "white"
             }
            },
            "header": {
             "fill": {
              "color": "#C8D4E3"
             },
             "line": {
              "color": "white"
             }
            },
            "type": "table"
           }
          ]
         },
         "layout": {
          "annotationdefaults": {
           "arrowcolor": "#2a3f5f",
           "arrowhead": 0,
           "arrowwidth": 1
          },
          "autotypenumbers": "strict",
          "coloraxis": {
           "colorbar": {
            "outlinewidth": 0,
            "ticks": ""
           }
          },
          "colorscale": {
           "diverging": [
            [
             0,
             "#8e0152"
            ],
            [
             0.1,
             "#c51b7d"
            ],
            [
             0.2,
             "#de77ae"
            ],
            [
             0.3,
             "#f1b6da"
            ],
            [
             0.4,
             "#fde0ef"
            ],
            [
             0.5,
             "#f7f7f7"
            ],
            [
             0.6,
             "#e6f5d0"
            ],
            [
             0.7,
             "#b8e186"
            ],
            [
             0.8,
             "#7fbc41"
            ],
            [
             0.9,
             "#4d9221"
            ],
            [
             1,
             "#276419"
            ]
           ],
           "sequential": [
            [
             0,
             "#0d0887"
            ],
            [
             0.1111111111111111,
             "#46039f"
            ],
            [
             0.2222222222222222,
             "#7201a8"
            ],
            [
             0.3333333333333333,
             "#9c179e"
            ],
            [
             0.4444444444444444,
             "#bd3786"
            ],
            [
             0.5555555555555556,
             "#d8576b"
            ],
            [
             0.6666666666666666,
             "#ed7953"
            ],
            [
             0.7777777777777778,
             "#fb9f3a"
            ],
            [
             0.8888888888888888,
             "#fdca26"
            ],
            [
             1,
             "#f0f921"
            ]
           ],
           "sequentialminus": [
            [
             0,
             "#0d0887"
            ],
            [
             0.1111111111111111,
             "#46039f"
            ],
            [
             0.2222222222222222,
             "#7201a8"
            ],
            [
             0.3333333333333333,
             "#9c179e"
            ],
            [
             0.4444444444444444,
             "#bd3786"
            ],
            [
             0.5555555555555556,
             "#d8576b"
            ],
            [
             0.6666666666666666,
             "#ed7953"
            ],
            [
             0.7777777777777778,
             "#fb9f3a"
            ],
            [
             0.8888888888888888,
             "#fdca26"
            ],
            [
             1,
             "#f0f921"
            ]
           ]
          },
          "colorway": [
           "#636efa",
           "#EF553B",
           "#00cc96",
           "#ab63fa",
           "#FFA15A",
           "#19d3f3",
           "#FF6692",
           "#B6E880",
           "#FF97FF",
           "#FECB52"
          ],
          "font": {
           "color": "#2a3f5f"
          },
          "geo": {
           "bgcolor": "white",
           "lakecolor": "white",
           "landcolor": "#E5ECF6",
           "showlakes": true,
           "showland": true,
           "subunitcolor": "white"
          },
          "hoverlabel": {
           "align": "left"
          },
          "hovermode": "closest",
          "mapbox": {
           "style": "light"
          },
          "paper_bgcolor": "white",
          "plot_bgcolor": "#E5ECF6",
          "polar": {
           "angularaxis": {
            "gridcolor": "white",
            "linecolor": "white",
            "ticks": ""
           },
           "bgcolor": "#E5ECF6",
           "radialaxis": {
            "gridcolor": "white",
            "linecolor": "white",
            "ticks": ""
           }
          },
          "scene": {
           "xaxis": {
            "backgroundcolor": "#E5ECF6",
            "gridcolor": "white",
            "gridwidth": 2,
            "linecolor": "white",
            "showbackground": true,
            "ticks": "",
            "zerolinecolor": "white"
           },
           "yaxis": {
            "backgroundcolor": "#E5ECF6",
            "gridcolor": "white",
            "gridwidth": 2,
            "linecolor": "white",
            "showbackground": true,
            "ticks": "",
            "zerolinecolor": "white"
           },
           "zaxis": {
            "backgroundcolor": "#E5ECF6",
            "gridcolor": "white",
            "gridwidth": 2,
            "linecolor": "white",
            "showbackground": true,
            "ticks": "",
            "zerolinecolor": "white"
           }
          },
          "shapedefaults": {
           "line": {
            "color": "#2a3f5f"
           }
          },
          "ternary": {
           "aaxis": {
            "gridcolor": "white",
            "linecolor": "white",
            "ticks": ""
           },
           "baxis": {
            "gridcolor": "white",
            "linecolor": "white",
            "ticks": ""
           },
           "bgcolor": "#E5ECF6",
           "caxis": {
            "gridcolor": "white",
            "linecolor": "white",
            "ticks": ""
           }
          },
          "title": {
           "x": 0.05
          },
          "xaxis": {
           "automargin": true,
           "gridcolor": "white",
           "linecolor": "white",
           "ticks": "",
           "title": {
            "standoff": 15
           },
           "zerolinecolor": "white",
           "zerolinewidth": 2
          },
          "yaxis": {
           "automargin": true,
           "gridcolor": "white",
           "linecolor": "white",
           "ticks": "",
           "title": {
            "standoff": 15
           },
           "zerolinecolor": "white",
           "zerolinewidth": 2
          }
         }
        },
        "title": {
         "text": "Model Performance Comparison: Correct vs Incorrect Classifications"
        },
        "xaxis": {
         "anchor": "y",
         "domain": [
          0,
          1
         ],
         "title": {
          "text": "model"
         }
        },
        "yaxis": {
         "anchor": "x",
         "domain": [
          0,
          1
         ],
         "title": {
          "text": "Number of Classifications"
         }
        }
       }
      }
     },
     "metadata": {},
     "output_type": "display_data"
    },
    {
     "data": {
      "application/vnd.plotly.v1+json": {
       "config": {
        "plotlyServerURL": "https://plot.ly"
       },
       "data": [
        {
         "customdata": {
          "bdata": "AAAAAACwg0AAAAAAAOBjQA==",
          "dtype": "f8",
          "shape": "1, 2"
         },
         "hovertemplate": "<b>Hour %{x}</b><br>Error Rate: %{y:.1f}%<br>Total Predictions: %{customdata[0]}<br>Errors: %{customdata[1]:.0f}<extra></extra>",
         "legendgroup": "",
         "line": {
          "color": "#636efa",
          "dash": "solid"
         },
         "marker": {
          "symbol": "circle"
         },
         "mode": "lines+markers",
         "name": "",
         "orientation": "v",
         "showlegend": false,
         "type": "scatter",
         "x": {
          "bdata": "CwAAAA==",
          "dtype": "i4"
         },
         "xaxis": "x",
         "y": {
          "bdata": "z/M8z/M8OUA=",
          "dtype": "f8"
         },
         "yaxis": "y"
        }
       ],
       "layout": {
        "height": 400,
        "legend": {
         "tracegroupgap": 0
        },
        "template": {
         "data": {
          "bar": [
           {
            "error_x": {
             "color": "#2a3f5f"
            },
            "error_y": {
             "color": "#2a3f5f"
            },
            "marker": {
             "line": {
              "color": "#E5ECF6",
              "width": 0.5
             },
             "pattern": {
              "fillmode": "overlay",
              "size": 10,
              "solidity": 0.2
             }
            },
            "type": "bar"
           }
          ],
          "barpolar": [
           {
            "marker": {
             "line": {
              "color": "#E5ECF6",
              "width": 0.5
             },
             "pattern": {
              "fillmode": "overlay",
              "size": 10,
              "solidity": 0.2
             }
            },
            "type": "barpolar"
           }
          ],
          "carpet": [
           {
            "aaxis": {
             "endlinecolor": "#2a3f5f",
             "gridcolor": "white",
             "linecolor": "white",
             "minorgridcolor": "white",
             "startlinecolor": "#2a3f5f"
            },
            "baxis": {
             "endlinecolor": "#2a3f5f",
             "gridcolor": "white",
             "linecolor": "white",
             "minorgridcolor": "white",
             "startlinecolor": "#2a3f5f"
            },
            "type": "carpet"
           }
          ],
          "choropleth": [
           {
            "colorbar": {
             "outlinewidth": 0,
             "ticks": ""
            },
            "type": "choropleth"
           }
          ],
          "contour": [
           {
            "colorbar": {
             "outlinewidth": 0,
             "ticks": ""
            },
            "colorscale": [
             [
              0,
              "#0d0887"
             ],
             [
              0.1111111111111111,
              "#46039f"
             ],
             [
              0.2222222222222222,
              "#7201a8"
             ],
             [
              0.3333333333333333,
              "#9c179e"
             ],
             [
              0.4444444444444444,
              "#bd3786"
             ],
             [
              0.5555555555555556,
              "#d8576b"
             ],
             [
              0.6666666666666666,
              "#ed7953"
             ],
             [
              0.7777777777777778,
              "#fb9f3a"
             ],
             [
              0.8888888888888888,
              "#fdca26"
             ],
             [
              1,
              "#f0f921"
             ]
            ],
            "type": "contour"
           }
          ],
          "contourcarpet": [
           {
            "colorbar": {
             "outlinewidth": 0,
             "ticks": ""
            },
            "type": "contourcarpet"
           }
          ],
          "heatmap": [
           {
            "colorbar": {
             "outlinewidth": 0,
             "ticks": ""
            },
            "colorscale": [
             [
              0,
              "#0d0887"
             ],
             [
              0.1111111111111111,
              "#46039f"
             ],
             [
              0.2222222222222222,
              "#7201a8"
             ],
             [
              0.3333333333333333,
              "#9c179e"
             ],
             [
              0.4444444444444444,
              "#bd3786"
             ],
             [
              0.5555555555555556,
              "#d8576b"
             ],
             [
              0.6666666666666666,
              "#ed7953"
             ],
             [
              0.7777777777777778,
              "#fb9f3a"
             ],
             [
              0.8888888888888888,
              "#fdca26"
             ],
             [
              1,
              "#f0f921"
             ]
            ],
            "type": "heatmap"
           }
          ],
          "histogram": [
           {
            "marker": {
             "pattern": {
              "fillmode": "overlay",
              "size": 10,
              "solidity": 0.2
             }
            },
            "type": "histogram"
           }
          ],
          "histogram2d": [
           {
            "colorbar": {
             "outlinewidth": 0,
             "ticks": ""
            },
            "colorscale": [
             [
              0,
              "#0d0887"
             ],
             [
              0.1111111111111111,
              "#46039f"
             ],
             [
              0.2222222222222222,
              "#7201a8"
             ],
             [
              0.3333333333333333,
              "#9c179e"
             ],
             [
              0.4444444444444444,
              "#bd3786"
             ],
             [
              0.5555555555555556,
              "#d8576b"
             ],
             [
              0.6666666666666666,
              "#ed7953"
             ],
             [
              0.7777777777777778,
              "#fb9f3a"
             ],
             [
              0.8888888888888888,
              "#fdca26"
             ],
             [
              1,
              "#f0f921"
             ]
            ],
            "type": "histogram2d"
           }
          ],
          "histogram2dcontour": [
           {
            "colorbar": {
             "outlinewidth": 0,
             "ticks": ""
            },
            "colorscale": [
             [
              0,
              "#0d0887"
             ],
             [
              0.1111111111111111,
              "#46039f"
             ],
             [
              0.2222222222222222,
              "#7201a8"
             ],
             [
              0.3333333333333333,
              "#9c179e"
             ],
             [
              0.4444444444444444,
              "#bd3786"
             ],
             [
              0.5555555555555556,
              "#d8576b"
             ],
             [
              0.6666666666666666,
              "#ed7953"
             ],
             [
              0.7777777777777778,
              "#fb9f3a"
             ],
             [
              0.8888888888888888,
              "#fdca26"
             ],
             [
              1,
              "#f0f921"
             ]
            ],
            "type": "histogram2dcontour"
           }
          ],
          "mesh3d": [
           {
            "colorbar": {
             "outlinewidth": 0,
             "ticks": ""
            },
            "type": "mesh3d"
           }
          ],
          "parcoords": [
           {
            "line": {
             "colorbar": {
              "outlinewidth": 0,
              "ticks": ""
             }
            },
            "type": "parcoords"
           }
          ],
          "pie": [
           {
            "automargin": true,
            "type": "pie"
           }
          ],
          "scatter": [
           {
            "fillpattern": {
             "fillmode": "overlay",
             "size": 10,
             "solidity": 0.2
            },
            "type": "scatter"
           }
          ],
          "scatter3d": [
           {
            "line": {
             "colorbar": {
              "outlinewidth": 0,
              "ticks": ""
             }
            },
            "marker": {
             "colorbar": {
              "outlinewidth": 0,
              "ticks": ""
             }
            },
            "type": "scatter3d"
           }
          ],
          "scattercarpet": [
           {
            "marker": {
             "colorbar": {
              "outlinewidth": 0,
              "ticks": ""
             }
            },
            "type": "scattercarpet"
           }
          ],
          "scattergeo": [
           {
            "marker": {
             "colorbar": {
              "outlinewidth": 0,
              "ticks": ""
             }
            },
            "type": "scattergeo"
           }
          ],
          "scattergl": [
           {
            "marker": {
             "colorbar": {
              "outlinewidth": 0,
              "ticks": ""
             }
            },
            "type": "scattergl"
           }
          ],
          "scattermap": [
           {
            "marker": {
             "colorbar": {
              "outlinewidth": 0,
              "ticks": ""
             }
            },
            "type": "scattermap"
           }
          ],
          "scattermapbox": [
           {
            "marker": {
             "colorbar": {
              "outlinewidth": 0,
              "ticks": ""
             }
            },
            "type": "scattermapbox"
           }
          ],
          "scatterpolar": [
           {
            "marker": {
             "colorbar": {
              "outlinewidth": 0,
              "ticks": ""
             }
            },
            "type": "scatterpolar"
           }
          ],
          "scatterpolargl": [
           {
            "marker": {
             "colorbar": {
              "outlinewidth": 0,
              "ticks": ""
             }
            },
            "type": "scatterpolargl"
           }
          ],
          "scatterternary": [
           {
            "marker": {
             "colorbar": {
              "outlinewidth": 0,
              "ticks": ""
             }
            },
            "type": "scatterternary"
           }
          ],
          "surface": [
           {
            "colorbar": {
             "outlinewidth": 0,
             "ticks": ""
            },
            "colorscale": [
             [
              0,
              "#0d0887"
             ],
             [
              0.1111111111111111,
              "#46039f"
             ],
             [
              0.2222222222222222,
              "#7201a8"
             ],
             [
              0.3333333333333333,
              "#9c179e"
             ],
             [
              0.4444444444444444,
              "#bd3786"
             ],
             [
              0.5555555555555556,
              "#d8576b"
             ],
             [
              0.6666666666666666,
              "#ed7953"
             ],
             [
              0.7777777777777778,
              "#fb9f3a"
             ],
             [
              0.8888888888888888,
              "#fdca26"
             ],
             [
              1,
              "#f0f921"
             ]
            ],
            "type": "surface"
           }
          ],
          "table": [
           {
            "cells": {
             "fill": {
              "color": "#EBF0F8"
             },
             "line": {
              "color": "white"
             }
            },
            "header": {
             "fill": {
              "color": "#C8D4E3"
             },
             "line": {
              "color": "white"
             }
            },
            "type": "table"
           }
          ]
         },
         "layout": {
          "annotationdefaults": {
           "arrowcolor": "#2a3f5f",
           "arrowhead": 0,
           "arrowwidth": 1
          },
          "autotypenumbers": "strict",
          "coloraxis": {
           "colorbar": {
            "outlinewidth": 0,
            "ticks": ""
           }
          },
          "colorscale": {
           "diverging": [
            [
             0,
             "#8e0152"
            ],
            [
             0.1,
             "#c51b7d"
            ],
            [
             0.2,
             "#de77ae"
            ],
            [
             0.3,
             "#f1b6da"
            ],
            [
             0.4,
             "#fde0ef"
            ],
            [
             0.5,
             "#f7f7f7"
            ],
            [
             0.6,
             "#e6f5d0"
            ],
            [
             0.7,
             "#b8e186"
            ],
            [
             0.8,
             "#7fbc41"
            ],
            [
             0.9,
             "#4d9221"
            ],
            [
             1,
             "#276419"
            ]
           ],
           "sequential": [
            [
             0,
             "#0d0887"
            ],
            [
             0.1111111111111111,
             "#46039f"
            ],
            [
             0.2222222222222222,
             "#7201a8"
            ],
            [
             0.3333333333333333,
             "#9c179e"
            ],
            [
             0.4444444444444444,
             "#bd3786"
            ],
            [
             0.5555555555555556,
             "#d8576b"
            ],
            [
             0.6666666666666666,
             "#ed7953"
            ],
            [
             0.7777777777777778,
             "#fb9f3a"
            ],
            [
             0.8888888888888888,
             "#fdca26"
            ],
            [
             1,
             "#f0f921"
            ]
           ],
           "sequentialminus": [
            [
             0,
             "#0d0887"
            ],
            [
             0.1111111111111111,
             "#46039f"
            ],
            [
             0.2222222222222222,
             "#7201a8"
            ],
            [
             0.3333333333333333,
             "#9c179e"
            ],
            [
             0.4444444444444444,
             "#bd3786"
            ],
            [
             0.5555555555555556,
             "#d8576b"
            ],
            [
             0.6666666666666666,
             "#ed7953"
            ],
            [
             0.7777777777777778,
             "#fb9f3a"
            ],
            [
             0.8888888888888888,
             "#fdca26"
            ],
            [
             1,
             "#f0f921"
            ]
           ]
          },
          "colorway": [
           "#636efa",
           "#EF553B",
           "#00cc96",
           "#ab63fa",
           "#FFA15A",
           "#19d3f3",
           "#FF6692",
           "#B6E880",
           "#FF97FF",
           "#FECB52"
          ],
          "font": {
           "color": "#2a3f5f"
          },
          "geo": {
           "bgcolor": "white",
           "lakecolor": "white",
           "landcolor": "#E5ECF6",
           "showlakes": true,
           "showland": true,
           "subunitcolor": "white"
          },
          "hoverlabel": {
           "align": "left"
          },
          "hovermode": "closest",
          "mapbox": {
           "style": "light"
          },
          "paper_bgcolor": "white",
          "plot_bgcolor": "#E5ECF6",
          "polar": {
           "angularaxis": {
            "gridcolor": "white",
            "linecolor": "white",
            "ticks": ""
           },
           "bgcolor": "#E5ECF6",
           "radialaxis": {
            "gridcolor": "white",
            "linecolor": "white",
            "ticks": ""
           }
          },
          "scene": {
           "xaxis": {
            "backgroundcolor": "#E5ECF6",
            "gridcolor": "white",
            "gridwidth": 2,
            "linecolor": "white",
            "showbackground": true,
            "ticks": "",
            "zerolinecolor": "white"
           },
           "yaxis": {
            "backgroundcolor": "#E5ECF6",
            "gridcolor": "white",
            "gridwidth": 2,
            "linecolor": "white",
            "showbackground": true,
            "ticks": "",
            "zerolinecolor": "white"
           },
           "zaxis": {
            "backgroundcolor": "#E5ECF6",
            "gridcolor": "white",
            "gridwidth": 2,
            "linecolor": "white",
            "showbackground": true,
            "ticks": "",
            "zerolinecolor": "white"
           }
          },
          "shapedefaults": {
           "line": {
            "color": "#2a3f5f"
           }
          },
          "ternary": {
           "aaxis": {
            "gridcolor": "white",
            "linecolor": "white",
            "ticks": ""
           },
           "baxis": {
            "gridcolor": "white",
            "linecolor": "white",
            "ticks": ""
           },
           "bgcolor": "#E5ECF6",
           "caxis": {
            "gridcolor": "white",
            "linecolor": "white",
            "ticks": ""
           }
          },
          "title": {
           "x": 0.05
          },
          "xaxis": {
           "automargin": true,
           "gridcolor": "white",
           "linecolor": "white",
           "ticks": "",
           "title": {
            "standoff": 15
           },
           "zerolinecolor": "white",
           "zerolinewidth": 2
          },
          "yaxis": {
           "automargin": true,
           "gridcolor": "white",
           "linecolor": "white",
           "ticks": "",
           "title": {
            "standoff": 15
           },
           "zerolinecolor": "white",
           "zerolinewidth": 2
          }
         }
        },
        "title": {
         "text": "Error Rate by Hour of Day"
        },
        "xaxis": {
         "anchor": "y",
         "domain": [
          0,
          1
         ],
         "title": {
          "text": "Hour of Day"
         }
        },
        "yaxis": {
         "anchor": "x",
         "domain": [
          0,
          1
         ],
         "title": {
          "text": "Error Rate (%)"
         }
        }
       }
      }
     },
     "metadata": {},
     "output_type": "display_data"
    },
    {
     "name": "stdout",
     "output_type": "stream",
     "text": [
      "\n",
      "Generating word frequency analysis for false classifications...\n"
     ]
    },
    {
     "data": {
      "application/vnd.plotly.v1+json": {
       "config": {
        "plotlyServerURL": "https://plot.ly"
       },
       "data": [
        {
         "hovertemplate": "Words=%{x}<br>Frequency=%{y}<extra></extra>",
         "legendgroup": "",
         "marker": {
          "color": "#636efa",
          "pattern": {
           "shape": ""
          }
         },
         "name": "",
         "orientation": "v",
         "showlegend": false,
         "textposition": "auto",
         "type": "bar",
         "x": [
          "menghasilkan",
          "bidang",
          "kelapa",
          "ikan",
          "sendiri",
          "makanan",
          "milik",
          "industri",
          "jasa",
          "membuat",
          "kopra",
          "pengolahan",
          "menjual",
          "tempe",
          "orang",
          "jual",
          "tahu",
          "rumah",
          "gorengan",
          "perkebunan"
         ],
         "xaxis": "x",
         "y": {
          "bdata": "nwCfADoAMAAuACwAKgAjAB4AHQAdABwAHAAbABgAGAAYABUAFQATAA==",
          "dtype": "i2"
         },
         "yaxis": "y"
        }
       ],
       "layout": {
        "barmode": "relative",
        "height": 400,
        "legend": {
         "tracegroupgap": 0
        },
        "template": {
         "data": {
          "bar": [
           {
            "error_x": {
             "color": "#2a3f5f"
            },
            "error_y": {
             "color": "#2a3f5f"
            },
            "marker": {
             "line": {
              "color": "#E5ECF6",
              "width": 0.5
             },
             "pattern": {
              "fillmode": "overlay",
              "size": 10,
              "solidity": 0.2
             }
            },
            "type": "bar"
           }
          ],
          "barpolar": [
           {
            "marker": {
             "line": {
              "color": "#E5ECF6",
              "width": 0.5
             },
             "pattern": {
              "fillmode": "overlay",
              "size": 10,
              "solidity": 0.2
             }
            },
            "type": "barpolar"
           }
          ],
          "carpet": [
           {
            "aaxis": {
             "endlinecolor": "#2a3f5f",
             "gridcolor": "white",
             "linecolor": "white",
             "minorgridcolor": "white",
             "startlinecolor": "#2a3f5f"
            },
            "baxis": {
             "endlinecolor": "#2a3f5f",
             "gridcolor": "white",
             "linecolor": "white",
             "minorgridcolor": "white",
             "startlinecolor": "#2a3f5f"
            },
            "type": "carpet"
           }
          ],
          "choropleth": [
           {
            "colorbar": {
             "outlinewidth": 0,
             "ticks": ""
            },
            "type": "choropleth"
           }
          ],
          "contour": [
           {
            "colorbar": {
             "outlinewidth": 0,
             "ticks": ""
            },
            "colorscale": [
             [
              0,
              "#0d0887"
             ],
             [
              0.1111111111111111,
              "#46039f"
             ],
             [
              0.2222222222222222,
              "#7201a8"
             ],
             [
              0.3333333333333333,
              "#9c179e"
             ],
             [
              0.4444444444444444,
              "#bd3786"
             ],
             [
              0.5555555555555556,
              "#d8576b"
             ],
             [
              0.6666666666666666,
              "#ed7953"
             ],
             [
              0.7777777777777778,
              "#fb9f3a"
             ],
             [
              0.8888888888888888,
              "#fdca26"
             ],
             [
              1,
              "#f0f921"
             ]
            ],
            "type": "contour"
           }
          ],
          "contourcarpet": [
           {
            "colorbar": {
             "outlinewidth": 0,
             "ticks": ""
            },
            "type": "contourcarpet"
           }
          ],
          "heatmap": [
           {
            "colorbar": {
             "outlinewidth": 0,
             "ticks": ""
            },
            "colorscale": [
             [
              0,
              "#0d0887"
             ],
             [
              0.1111111111111111,
              "#46039f"
             ],
             [
              0.2222222222222222,
              "#7201a8"
             ],
             [
              0.3333333333333333,
              "#9c179e"
             ],
             [
              0.4444444444444444,
              "#bd3786"
             ],
             [
              0.5555555555555556,
              "#d8576b"
             ],
             [
              0.6666666666666666,
              "#ed7953"
             ],
             [
              0.7777777777777778,
              "#fb9f3a"
             ],
             [
              0.8888888888888888,
              "#fdca26"
             ],
             [
              1,
              "#f0f921"
             ]
            ],
            "type": "heatmap"
           }
          ],
          "histogram": [
           {
            "marker": {
             "pattern": {
              "fillmode": "overlay",
              "size": 10,
              "solidity": 0.2
             }
            },
            "type": "histogram"
           }
          ],
          "histogram2d": [
           {
            "colorbar": {
             "outlinewidth": 0,
             "ticks": ""
            },
            "colorscale": [
             [
              0,
              "#0d0887"
             ],
             [
              0.1111111111111111,
              "#46039f"
             ],
             [
              0.2222222222222222,
              "#7201a8"
             ],
             [
              0.3333333333333333,
              "#9c179e"
             ],
             [
              0.4444444444444444,
              "#bd3786"
             ],
             [
              0.5555555555555556,
              "#d8576b"
             ],
             [
              0.6666666666666666,
              "#ed7953"
             ],
             [
              0.7777777777777778,
              "#fb9f3a"
             ],
             [
              0.8888888888888888,
              "#fdca26"
             ],
             [
              1,
              "#f0f921"
             ]
            ],
            "type": "histogram2d"
           }
          ],
          "histogram2dcontour": [
           {
            "colorbar": {
             "outlinewidth": 0,
             "ticks": ""
            },
            "colorscale": [
             [
              0,
              "#0d0887"
             ],
             [
              0.1111111111111111,
              "#46039f"
             ],
             [
              0.2222222222222222,
              "#7201a8"
             ],
             [
              0.3333333333333333,
              "#9c179e"
             ],
             [
              0.4444444444444444,
              "#bd3786"
             ],
             [
              0.5555555555555556,
              "#d8576b"
             ],
             [
              0.6666666666666666,
              "#ed7953"
             ],
             [
              0.7777777777777778,
              "#fb9f3a"
             ],
             [
              0.8888888888888888,
              "#fdca26"
             ],
             [
              1,
              "#f0f921"
             ]
            ],
            "type": "histogram2dcontour"
           }
          ],
          "mesh3d": [
           {
            "colorbar": {
             "outlinewidth": 0,
             "ticks": ""
            },
            "type": "mesh3d"
           }
          ],
          "parcoords": [
           {
            "line": {
             "colorbar": {
              "outlinewidth": 0,
              "ticks": ""
             }
            },
            "type": "parcoords"
           }
          ],
          "pie": [
           {
            "automargin": true,
            "type": "pie"
           }
          ],
          "scatter": [
           {
            "fillpattern": {
             "fillmode": "overlay",
             "size": 10,
             "solidity": 0.2
            },
            "type": "scatter"
           }
          ],
          "scatter3d": [
           {
            "line": {
             "colorbar": {
              "outlinewidth": 0,
              "ticks": ""
             }
            },
            "marker": {
             "colorbar": {
              "outlinewidth": 0,
              "ticks": ""
             }
            },
            "type": "scatter3d"
           }
          ],
          "scattercarpet": [
           {
            "marker": {
             "colorbar": {
              "outlinewidth": 0,
              "ticks": ""
             }
            },
            "type": "scattercarpet"
           }
          ],
          "scattergeo": [
           {
            "marker": {
             "colorbar": {
              "outlinewidth": 0,
              "ticks": ""
             }
            },
            "type": "scattergeo"
           }
          ],
          "scattergl": [
           {
            "marker": {
             "colorbar": {
              "outlinewidth": 0,
              "ticks": ""
             }
            },
            "type": "scattergl"
           }
          ],
          "scattermap": [
           {
            "marker": {
             "colorbar": {
              "outlinewidth": 0,
              "ticks": ""
             }
            },
            "type": "scattermap"
           }
          ],
          "scattermapbox": [
           {
            "marker": {
             "colorbar": {
              "outlinewidth": 0,
              "ticks": ""
             }
            },
            "type": "scattermapbox"
           }
          ],
          "scatterpolar": [
           {
            "marker": {
             "colorbar": {
              "outlinewidth": 0,
              "ticks": ""
             }
            },
            "type": "scatterpolar"
           }
          ],
          "scatterpolargl": [
           {
            "marker": {
             "colorbar": {
              "outlinewidth": 0,
              "ticks": ""
             }
            },
            "type": "scatterpolargl"
           }
          ],
          "scatterternary": [
           {
            "marker": {
             "colorbar": {
              "outlinewidth": 0,
              "ticks": ""
             }
            },
            "type": "scatterternary"
           }
          ],
          "surface": [
           {
            "colorbar": {
             "outlinewidth": 0,
             "ticks": ""
            },
            "colorscale": [
             [
              0,
              "#0d0887"
             ],
             [
              0.1111111111111111,
              "#46039f"
             ],
             [
              0.2222222222222222,
              "#7201a8"
             ],
             [
              0.3333333333333333,
              "#9c179e"
             ],
             [
              0.4444444444444444,
              "#bd3786"
             ],
             [
              0.5555555555555556,
              "#d8576b"
             ],
             [
              0.6666666666666666,
              "#ed7953"
             ],
             [
              0.7777777777777778,
              "#fb9f3a"
             ],
             [
              0.8888888888888888,
              "#fdca26"
             ],
             [
              1,
              "#f0f921"
             ]
            ],
            "type": "surface"
           }
          ],
          "table": [
           {
            "cells": {
             "fill": {
              "color": "#EBF0F8"
             },
             "line": {
              "color": "white"
             }
            },
            "header": {
             "fill": {
              "color": "#C8D4E3"
             },
             "line": {
              "color": "white"
             }
            },
            "type": "table"
           }
          ]
         },
         "layout": {
          "annotationdefaults": {
           "arrowcolor": "#2a3f5f",
           "arrowhead": 0,
           "arrowwidth": 1
          },
          "autotypenumbers": "strict",
          "coloraxis": {
           "colorbar": {
            "outlinewidth": 0,
            "ticks": ""
           }
          },
          "colorscale": {
           "diverging": [
            [
             0,
             "#8e0152"
            ],
            [
             0.1,
             "#c51b7d"
            ],
            [
             0.2,
             "#de77ae"
            ],
            [
             0.3,
             "#f1b6da"
            ],
            [
             0.4,
             "#fde0ef"
            ],
            [
             0.5,
             "#f7f7f7"
            ],
            [
             0.6,
             "#e6f5d0"
            ],
            [
             0.7,
             "#b8e186"
            ],
            [
             0.8,
             "#7fbc41"
            ],
            [
             0.9,
             "#4d9221"
            ],
            [
             1,
             "#276419"
            ]
           ],
           "sequential": [
            [
             0,
             "#0d0887"
            ],
            [
             0.1111111111111111,
             "#46039f"
            ],
            [
             0.2222222222222222,
             "#7201a8"
            ],
            [
             0.3333333333333333,
             "#9c179e"
            ],
            [
             0.4444444444444444,
             "#bd3786"
            ],
            [
             0.5555555555555556,
             "#d8576b"
            ],
            [
             0.6666666666666666,
             "#ed7953"
            ],
            [
             0.7777777777777778,
             "#fb9f3a"
            ],
            [
             0.8888888888888888,
             "#fdca26"
            ],
            [
             1,
             "#f0f921"
            ]
           ],
           "sequentialminus": [
            [
             0,
             "#0d0887"
            ],
            [
             0.1111111111111111,
             "#46039f"
            ],
            [
             0.2222222222222222,
             "#7201a8"
            ],
            [
             0.3333333333333333,
             "#9c179e"
            ],
            [
             0.4444444444444444,
             "#bd3786"
            ],
            [
             0.5555555555555556,
             "#d8576b"
            ],
            [
             0.6666666666666666,
             "#ed7953"
            ],
            [
             0.7777777777777778,
             "#fb9f3a"
            ],
            [
             0.8888888888888888,
             "#fdca26"
            ],
            [
             1,
             "#f0f921"
            ]
           ]
          },
          "colorway": [
           "#636efa",
           "#EF553B",
           "#00cc96",
           "#ab63fa",
           "#FFA15A",
           "#19d3f3",
           "#FF6692",
           "#B6E880",
           "#FF97FF",
           "#FECB52"
          ],
          "font": {
           "color": "#2a3f5f"
          },
          "geo": {
           "bgcolor": "white",
           "lakecolor": "white",
           "landcolor": "#E5ECF6",
           "showlakes": true,
           "showland": true,
           "subunitcolor": "white"
          },
          "hoverlabel": {
           "align": "left"
          },
          "hovermode": "closest",
          "mapbox": {
           "style": "light"
          },
          "paper_bgcolor": "white",
          "plot_bgcolor": "#E5ECF6",
          "polar": {
           "angularaxis": {
            "gridcolor": "white",
            "linecolor": "white",
            "ticks": ""
           },
           "bgcolor": "#E5ECF6",
           "radialaxis": {
            "gridcolor": "white",
            "linecolor": "white",
            "ticks": ""
           }
          },
          "scene": {
           "xaxis": {
            "backgroundcolor": "#E5ECF6",
            "gridcolor": "white",
            "gridwidth": 2,
            "linecolor": "white",
            "showbackground": true,
            "ticks": "",
            "zerolinecolor": "white"
           },
           "yaxis": {
            "backgroundcolor": "#E5ECF6",
            "gridcolor": "white",
            "gridwidth": 2,
            "linecolor": "white",
            "showbackground": true,
            "ticks": "",
            "zerolinecolor": "white"
           },
           "zaxis": {
            "backgroundcolor": "#E5ECF6",
            "gridcolor": "white",
            "gridwidth": 2,
            "linecolor": "white",
            "showbackground": true,
            "ticks": "",
            "zerolinecolor": "white"
           }
          },
          "shapedefaults": {
           "line": {
            "color": "#2a3f5f"
           }
          },
          "ternary": {
           "aaxis": {
            "gridcolor": "white",
            "linecolor": "white",
            "ticks": ""
           },
           "baxis": {
            "gridcolor": "white",
            "linecolor": "white",
            "ticks": ""
           },
           "bgcolor": "#E5ECF6",
           "caxis": {
            "gridcolor": "white",
            "linecolor": "white",
            "ticks": ""
           }
          },
          "title": {
           "x": 0.05
          },
          "xaxis": {
           "automargin": true,
           "gridcolor": "white",
           "linecolor": "white",
           "ticks": "",
           "title": {
            "standoff": 15
           },
           "zerolinecolor": "white",
           "zerolinewidth": 2
          },
          "yaxis": {
           "automargin": true,
           "gridcolor": "white",
           "linecolor": "white",
           "ticks": "",
           "title": {
            "standoff": 15
           },
           "zerolinecolor": "white",
           "zerolinewidth": 2
          }
         }
        },
        "title": {
         "text": "Most Common Words in False Classifications"
        },
        "xaxis": {
         "anchor": "y",
         "domain": [
          0,
          1
         ],
         "tickangle": -45,
         "title": {
          "text": "Words"
         }
        },
        "yaxis": {
         "anchor": "x",
         "domain": [
          0,
          1
         ],
         "title": {
          "text": "Frequency"
         }
        }
       }
      }
     },
     "metadata": {},
     "output_type": "display_data"
    },
    {
     "name": "stdout",
     "output_type": "stream",
     "text": [
      "Interactive false classification analysis completed!\n"
     ]
    }
   ],
   "source": [
    "### 6.4 Interactive False Classification Analysis\n",
    "\n",
    "if 'df' in locals():\n",
    "    false_classifications = df[df['is_correct'] == False].copy()\n",
    "    \n",
    "    if len(false_classifications) > 0:\n",
    "        print(\"Creating interactive false classification visualizations...\")\n",
    "        \n",
    "        # 1. Interactive scatter plot: Confidence vs Text Length for false classifications\n",
    "        false_classifications['text_length'] = false_classifications['text'].str.len()\n",
    "        \n",
    "        fig_scatter = px.scatter(false_classifications, \n",
    "                               x='text_length', \n",
    "                               y='confidence_score',\n",
    "                               color='model',\n",
    "                               size='run_id',\n",
    "                               hover_data=['uuid', 'kbli_code', 'text'],\n",
    "                               title='False Classifications: Confidence vs Text Length',\n",
    "                               labels={'text_length': 'Text Length (characters)',\n",
    "                                      'confidence_score': 'Confidence Score'})\n",
    "        fig_scatter.update_layout(height=500)\n",
    "        fig_scatter.show()\n",
    "        \n",
    "        # 2. Interactive error rate analysis by KBLI code\n",
    "        kbli_analysis = df.groupby('kbli_code').agg({\n",
    "            'is_correct': ['count', 'sum', 'mean'],\n",
    "            'confidence_score': 'mean'\n",
    "        }).round(3)\n",
    "        kbli_analysis.columns = ['Total_Count', 'Correct_Count', 'Accuracy', 'Avg_Confidence']\n",
    "        kbli_analysis['Error_Rate'] = (1 - kbli_analysis['Accuracy']) * 100\n",
    "        kbli_analysis['Error_Count'] = kbli_analysis['Total_Count'] - kbli_analysis['Correct_Count']\n",
    "        kbli_analysis = kbli_analysis.reset_index()\n",
    "        \n",
    "        # Filter codes with at least 2 predictions for meaningful analysis\n",
    "        kbli_filtered = kbli_analysis[kbli_analysis['Total_Count'] >= 2]\n",
    "        \n",
    "        fig_kbli_error = px.scatter(kbli_filtered, \n",
    "                                  x='Avg_Confidence', \n",
    "                                  y='Error_Rate',\n",
    "                                  size='Total_Count',\n",
    "                                  hover_data=['kbli_code', 'Error_Count'],\n",
    "                                  title='KBLI Code Analysis: Error Rate vs Average Confidence',\n",
    "                                  labels={'Avg_Confidence': 'Average Confidence Score',\n",
    "                                         'Error_Rate': 'Error Rate (%)'})\n",
    "        fig_kbli_error.update_layout(height=500)\n",
    "        fig_kbli_error.show()\n",
    "        \n",
    "        # 3. Model comparison for false classifications\n",
    "        model_comparison = df.groupby(['model', 'is_correct']).size().unstack(fill_value=0)\n",
    "        model_comparison['Total'] = model_comparison.sum(axis=1)\n",
    "        model_comparison['Error_Rate'] = (model_comparison[False] / model_comparison['Total'] * 100).round(2)\n",
    "        model_comparison = model_comparison.reset_index()\n",
    "        \n",
    "        fig_model = px.bar(model_comparison, \n",
    "                          x='model', \n",
    "                          y=[True, False],\n",
    "                          title='Model Performance Comparison: Correct vs Incorrect Classifications',\n",
    "                          labels={'value': 'Number of Classifications', 'variable': 'Classification Result'},\n",
    "                          color_discrete_map={True: 'green', False: 'red'})\n",
    "        fig_model.update_layout(height=500)\n",
    "        fig_model.show()\n",
    "        \n",
    "        # 4. Temporal analysis of false classifications (if timestamp available)\n",
    "        if 'timestamp' in df.columns and df['timestamp'].notna().sum() > 0:\n",
    "            df_temp = df.copy()\n",
    "            df_temp['timestamp'] = pd.to_datetime(df_temp['timestamp'])\n",
    "            df_temp['hour'] = df_temp['timestamp'].dt.hour\n",
    "            df_temp['date'] = df_temp['timestamp'].dt.date\n",
    "            \n",
    "            # Hourly error analysis\n",
    "            hourly_analysis = df_temp.groupby('hour')['is_correct'].agg(['count', 'mean']).reset_index()\n",
    "            hourly_analysis['error_rate'] = (1 - hourly_analysis['mean']) * 100\n",
    "            hourly_analysis['error_count'] = hourly_analysis['count'] * (1 - hourly_analysis['mean'])\n",
    "            \n",
    "            fig_temporal = px.line(hourly_analysis, \n",
    "                                 x='hour', \n",
    "                                 y='error_rate',\n",
    "                                 markers=True,\n",
    "                                 title='Error Rate by Hour of Day',\n",
    "                                 labels={'hour': 'Hour of Day', 'error_rate': 'Error Rate (%)'})\n",
    "            \n",
    "            # Add hover information\n",
    "            fig_temporal.update_traces(\n",
    "                hovertemplate='<b>Hour %{x}</b><br>Error Rate: %{y:.1f}%<br>Total Predictions: %{customdata[0]}<br>Errors: %{customdata[1]:.0f}<extra></extra>',\n",
    "                customdata=hourly_analysis[['count', 'error_count']].values\n",
    "            )\n",
    "            fig_temporal.update_layout(height=400)\n",
    "            fig_temporal.show()\n",
    "        \n",
    "        # 5. Word cloud analysis for false classifications (if enough data)\n",
    "        if len(false_classifications) >= 10:\n",
    "            print(\"\\nGenerating word frequency analysis for false classifications...\")\n",
    "            \n",
    "            # Combine all false classification texts\n",
    "            false_text_combined = ' '.join(false_classifications['text'].astype(str).str.lower())\n",
    "            \n",
    "            # Basic word frequency analysis\n",
    "            import re\n",
    "            words = re.findall(r'\\b\\w+\\b', false_text_combined)\n",
    "            word_freq = pd.Series(words).value_counts()\n",
    "            \n",
    "            # Filter out very short words and get top 20\n",
    "            significant_words = word_freq[word_freq.index.str.len() > 3].head(20)\n",
    "            \n",
    "            fig_words = px.bar(x=significant_words.index, \n",
    "                             y=significant_words.values,\n",
    "                             title='Most Common Words in False Classifications',\n",
    "                             labels={'x': 'Words', 'y': 'Frequency'})\n",
    "            fig_words.update_layout(height=400, xaxis_tickangle=-45)\n",
    "            fig_words.show()\n",
    "        \n",
    "        print(\"Interactive false classification analysis completed!\")\n",
    "        \n",
    "    else:\n",
    "        print(\"No false classifications found for interactive analysis.\")\n",
    "        \n",
    "        # Show a summary visualization instead\n",
    "        accuracy_by_model = df.groupby('model')['is_correct'].mean() * 100\n",
    "        \n",
    "        fig_summary = px.bar(x=accuracy_by_model.index, \n",
    "                           y=accuracy_by_model.values,\n",
    "                           title='Model Accuracy - No False Classifications Found!',\n",
    "                           labels={'x': 'Model', 'y': 'Accuracy (%)'},\n",
    "                           color=accuracy_by_model.values,\n",
    "                           color_continuous_scale='Greens')\n",
    "        fig_summary.update_layout(height=400, showlegend=False)\n",
    "        fig_summary.show()\n",
    "        \n",
    "else:\n",
    "    print(\"Data not available for interactive false classification analysis.\")"
   ]
  },
  {
   "cell_type": "markdown",
   "id": "42298234",
   "metadata": {},
   "source": [
    "## 7. Export Results\n",
    "\n",
    "Save processed data, analysis results, and summary statistics for further use and reporting."
   ]
  },
  {
   "cell_type": "code",
   "execution_count": null,
   "id": "c05ebfde",
   "metadata": {},
   "outputs": [
    {
     "name": "stdout",
     "output_type": "stream",
     "text": [
      "=== EXPORTING RESULTS ===\n",
      "Cleaned dataset exported: ..\\reports\\analysis_results\\llm_results_cleaned_20250730_114806.csv\n",
      "Consistency analysis exported: ..\\reports\\analysis_results\\consistency_gemini_2.5_flash_lite_20250730_114806.csv\n",
      "Summary statistics exported: ..\\reports\\analysis_results\\analysis_summary_20250730_114806.json\n",
      "Voting results exported: ..\\reports\\analysis_results\\voting_results_20250730_114806.csv\n",
      "KBLI performance exported: ..\\reports\\analysis_results\\kbli_performance_20250730_114806.csv\n",
      "\n",
      "=== EXPORT COMPLETED ===\n",
      "All files saved to: ..\\reports\\analysis_results\n",
      "Export timestamp: 20250730_114806\n",
      "Cleaned dataset exported: ..\\reports\\analysis_results\\llm_results_cleaned_20250730_114806.csv\n",
      "Consistency analysis exported: ..\\reports\\analysis_results\\consistency_gemini_2.5_flash_lite_20250730_114806.csv\n",
      "Summary statistics exported: ..\\reports\\analysis_results\\analysis_summary_20250730_114806.json\n",
      "Voting results exported: ..\\reports\\analysis_results\\voting_results_20250730_114806.csv\n",
      "KBLI performance exported: ..\\reports\\analysis_results\\kbli_performance_20250730_114806.csv\n",
      "\n",
      "=== EXPORT COMPLETED ===\n",
      "All files saved to: ..\\reports\\analysis_results\n",
      "Export timestamp: 20250730_114806\n"
     ]
    }
   ],
   "source": [
    "### 7.1 Export Processed Data and Analysis Results\n",
    "\n",
    "if 'df' in locals():\n",
    "    # Improved dataset detection function\n",
    "    def detect_dataset_name(df):\n",
    "        \"\"\"\n",
    "        Detect dataset name from source files with better logic for multiple models.\n",
    "        \"\"\"\n",
    "        if 'source_file' not in df.columns or df['source_file'].isna().all():\n",
    "            return \"unknown_dataset\"\n",
    "        \n",
    "        # Get all unique source files\n",
    "        source_files = df['source_file'].dropna().unique()\n",
    "        print(f\"Analyzing {len(source_files)} source files for dataset detection:\")\n",
    "        for file in source_files:\n",
    "            print(f\"  - {file}\")\n",
    "        \n",
    "        # Extract potential dataset names from all files\n",
    "        potential_names = []\n",
    "        \n",
    "        for file in source_files:\n",
    "            file_lower = file.lower()\n",
    "            \n",
    "            # Check for common dataset patterns first\n",
    "            if 'mini_test' in file_lower:\n",
    "                potential_names.append('mini_test')\n",
    "            elif 'full_test' in file_lower:\n",
    "                potential_names.append('full_test')\n",
    "            elif 'pilot' in file_lower and not any(model in file_lower for model in ['gemini', 'claude', 'gpt']):\n",
    "                potential_names.append('pilot_data')\n",
    "            else:\n",
    "                # Extract name by removing model names and extensions\n",
    "                name_part = file.replace('.jsonl', '')\n",
    "                \n",
    "                # Common model patterns to identify and remove\n",
    "                model_patterns = ['gemini-', 'claude-', 'gpt-', 'llama-', 'anthropic-']\n",
    "                model_found = False\n",
    "                \n",
    "                for pattern in model_patterns:\n",
    "                    if pattern in name_part.lower():\n",
    "                        # Split by underscores and find model component\n",
    "                        parts = name_part.split('_')\n",
    "                        model_index = -1\n",
    "                        \n",
    "                        for i, part in enumerate(parts):\n",
    "                            if any(mp.replace('-', '') in part.lower() for mp in model_patterns):\n",
    "                                model_index = i\n",
    "                                break\n",
    "                        \n",
    "                        if model_index > 0:\n",
    "                            # Take everything before the model part\n",
    "                            dataset_part = '_'.join(parts[:model_index])\n",
    "                            potential_names.append(dataset_part)\n",
    "                            model_found = True\n",
    "                            break\n",
    "                \n",
    "                if not model_found:\n",
    "                    # Fallback: use filename without extension, but try to clean it\n",
    "                    parts = name_part.split('_')\n",
    "                    # Remove common suffixes like 'results', 'output', etc.\n",
    "                    clean_parts = [p for p in parts if p.lower() not in ['results', 'output', 'data', 'final']]\n",
    "                    dataset_part = '_'.join(clean_parts) if clean_parts else parts[0] if parts else \"dataset\"\n",
    "                    potential_names.append(dataset_part)\n",
    "        \n",
    "        # Return most common dataset name, or first if all unique\n",
    "        if potential_names:\n",
    "            from collections import Counter\n",
    "            name_counts = Counter(potential_names)\n",
    "            most_common_name = name_counts.most_common(1)[0][0]\n",
    "            \n",
    "            if len(name_counts) > 1:\n",
    "                print(f\"Dataset name candidates found: {dict(name_counts)}\")\n",
    "                print(f\"Selected most common dataset name: '{most_common_name}'\")\n",
    "            else:\n",
    "                print(f\"Consistent dataset name detected: '{most_common_name}'\")\n",
    "            \n",
    "            return most_common_name\n",
    "        \n",
    "        return \"unknown_dataset\"\n",
    "    \n",
    "    # Detect dataset name using improved logic\n",
    "    dataset_name = detect_dataset_name(df)\n",
    "    \n",
    "    # Create organized export directory structure\n",
    "    base_export_dir = Path(\"../reports/analysis_results/pilot\")\n",
    "    export_dir = base_export_dir / dataset_name\n",
    "    export_dir.mkdir(parents=True, exist_ok=True)\n",
    "    \n",
    "    timestamp = datetime.now().strftime(\"%Y%m%d_%H%M%S\")\n",
    "    \n",
    "    print(\"\\n=== EXPORTING RESULTS ===\")\n",
    "    print(f\"Final dataset name: {dataset_name}\")\n",
    "    print(f\"Export directory: {export_dir}\")\n",
    "    print(f\"Models in dataset: {', '.join(sorted(df['model'].unique()))}\")\n",
    "    print(f\"Total source files: {df['source_file'].nunique()}\")\n",
    "    \n",
    "    print(\"=== EXPORTING RESULTS ===\")\n",
    "    \n",
    "    # 1. Export cleaned dataset\n",
    "    clean_data_file = export_dir / f\"llm_results_cleaned_{timestamp}.csv\"\n",
    "    df.to_csv(clean_data_file, index=False)\n",
    "    print(f\"Cleaned dataset exported: {clean_data_file}\")\n",
    "    \n",
    "    # 2. Export self-consistency results\n",
    "    if 'consistency_results' in locals():\n",
    "        for model, result in consistency_results.items():\n",
    "            consistency_file = export_dir / f\"consistency_{model.replace('-', '_')}_{timestamp}.csv\"\n",
    "            result['details'].to_csv(consistency_file, index=False)\n",
    "            print(f\"Consistency analysis exported: {consistency_file}\")\n",
    "    \n",
    "    # 3. Export summary statistics\n",
    "    summary_stats = {\n",
    "        'analysis_timestamp': datetime.now().isoformat(),\n",
    "        'total_records': len(df),\n",
    "        'unique_uuids': df['uuid'].nunique(),\n",
    "        'unique_models': df['model'].nunique(),\n",
    "        'unique_kbli_codes': df['kbli_code'].nunique(),\n",
    "        'overall_accuracy': df['is_correct'].mean(),\n",
    "        'average_confidence': df['confidence_score'].mean(),\n",
    "        'confidence_std': df['confidence_score'].std(),\n",
    "        'model_performance': {}\n",
    "    }\n",
    "    \n",
    "    # Add per-model statistics\n",
    "    for model in df['model'].unique():\n",
    "        model_data = df[df['model'] == model]\n",
    "        summary_stats['model_performance'][model] = {\n",
    "            'records': len(model_data),\n",
    "            'unique_uuids': model_data['uuid'].nunique(),\n",
    "            'accuracy': model_data['is_correct'].mean(),\n",
    "            'avg_confidence': model_data['confidence_score'].mean(),\n",
    "            'confidence_std': model_data['confidence_score'].std()\n",
    "        }\n",
    "    \n",
    "    # Save summary as JSON\n",
    "    summary_file = export_dir / f\"analysis_summary_{timestamp}.json\"\n",
    "    with open(summary_file, 'w', encoding='utf-8') as f:\n",
    "        json.dump(summary_stats, f, indent=2, ensure_ascii=False, default=str)\n",
    "    print(f\"Summary statistics exported: {summary_file}\")\n",
    "    \n",
    "    # 4. Export voting results (majority vote per UUID)\n",
    "    if df['run_id'].nunique() == 3:  # If we have the expected 3 runs\n",
    "        voting_results = []\n",
    "        \n",
    "        for model in df['model'].unique():\n",
    "            model_data = df[df['model'] == model]\n",
    "            \n",
    "            for uuid in model_data['uuid'].unique():\n",
    "                uuid_data = model_data[model_data['uuid'] == uuid]\n",
    "                \n",
    "                if len(uuid_data) == 3:\n",
    "                    votes = uuid_data['is_correct'].tolist()\n",
    "                    confidences = uuid_data['confidence_score'].tolist()\n",
    "                    \n",
    "                    majority_vote = sum(votes) >= 2\n",
    "                    vote_count = sum(votes)\n",
    "                    unanimous = vote_count in [0, 3]\n",
    "                    \n",
    "                    voting_results.append({\n",
    "                        'uuid': uuid,\n",
    "                        'model': model,\n",
    "                        'text': uuid_data.iloc[0]['text'],\n",
    "                        'kbli_code': uuid_data.iloc[0]['kbli_code'],\n",
    "                        'votes_correct': vote_count,\n",
    "                        'majority_vote': majority_vote,\n",
    "                        'unanimous': unanimous,\n",
    "                        'confidence_mean': np.mean(confidences),\n",
    "                        'confidence_std': np.std(confidences),\n",
    "                        'individual_votes': votes,\n",
    "                        'individual_confidences': confidences\n",
    "                    })\n",
    "        \n",
    "        if voting_results:\n",
    "            voting_df = pd.DataFrame(voting_results)\n",
    "            voting_file = export_dir / f\"voting_results_{timestamp}.csv\"\n",
    "            voting_df.to_csv(voting_file, index=False)\n",
    "            print(f\"Voting results exported: {voting_file}\")\n",
    "    \n",
    "    # 5. Export KBLI code performance\n",
    "    kbli_performance = df.groupby('kbli_code').agg({\n",
    "        'is_correct': ['count', 'mean'],\n",
    "        'confidence_score': ['mean', 'std'],\n",
    "        'uuid': 'nunique'\n",
    "    }).round(3)\n",
    "    \n",
    "    kbli_performance.columns = ['Total_Predictions', 'Accuracy', 'Avg_Confidence', 'Confidence_Std', 'Unique_UUIDs']\n",
    "    kbli_performance = kbli_performance.reset_index()\n",
    "    \n",
    "    kbli_file = export_dir / f\"kbli_performance_{timestamp}.csv\"\n",
    "    kbli_performance.to_csv(kbli_file, index=False)\n",
    "    print(f\"KBLI performance exported: {kbli_file}\")\n",
    "    \n",
    "    print(f\"\\n=== EXPORT COMPLETED ===\")\n",
    "    print(f\"All files saved to: {export_dir}\")\n",
    "    print(f\"Export timestamp: {timestamp}\")\n",
    "    \n",
    "else:\n",
    "    print(\"No data available for export.\")"
   ]
  },
  {
   "cell_type": "code",
   "execution_count": 18,
   "id": "376bc8f9",
   "metadata": {},
   "outputs": [
    {
     "name": "stdout",
     "output_type": "stream",
     "text": [
      "False classifications details exported: ..\\reports\\analysis_results\\false_classifications_detailed_20250730_114806.csv\n",
      "Error analysis by model exported: ..\\reports\\analysis_results\\error_analysis_by_model_20250730_114806.csv\n",
      "Error analysis by KBLI code exported: ..\\reports\\analysis_results\\error_analysis_by_kbli_20250730_114806.csv\n",
      "Error consistency analysis exported: ..\\reports\\analysis_results\\error_consistency_analysis_20250730_114806.csv\n",
      "False classification analysis added to summary statistics.\n",
      "Error consistency analysis exported: ..\\reports\\analysis_results\\error_consistency_analysis_20250730_114806.csv\n",
      "False classification analysis added to summary statistics.\n"
     ]
    }
   ],
   "source": [
    "    # 6. Export False Classification Analysis\n",
    "    false_classifications = df[df['is_correct'] == False].copy()\n",
    "    \n",
    "    if len(false_classifications) > 0:\n",
    "        # Export detailed false classification records\n",
    "        false_detail_file = export_dir / f\"false_classifications_detailed_{timestamp}.csv\"\n",
    "        \n",
    "        # Add text length for analysis\n",
    "        false_classifications['text_length'] = false_classifications['text'].str.len()\n",
    "        \n",
    "        # Select relevant columns for export\n",
    "        false_export_cols = ['uuid', 'text', 'kbli_code', 'run_id', 'model', 'timestamp', \n",
    "                           'confidence_score', 'text_length']\n",
    "        \n",
    "        # Add reasoning and alternatives if available\n",
    "        if 'reasoning' in false_classifications.columns:\n",
    "            false_export_cols.append('reasoning')\n",
    "        if 'alternative_codes' in false_classifications.columns:\n",
    "            false_export_cols.append('alternative_codes')\n",
    "        if 'alternative_reasoning' in false_classifications.columns:\n",
    "            false_export_cols.append('alternative_reasoning')\n",
    "        \n",
    "        false_classifications[false_export_cols].to_csv(false_detail_file, index=False)\n",
    "        print(f\"False classifications details exported: {false_detail_file}\")\n",
    "        \n",
    "        # Export false classification summary by model\n",
    "        false_summary_by_model = df.groupby('model').agg({\n",
    "            'is_correct': ['count', 'sum', 'mean'],\n",
    "            'confidence_score': 'mean'\n",
    "        }).round(3)\n",
    "        false_summary_by_model.columns = ['Total_Predictions', 'Correct_Count', 'Accuracy', 'Avg_Confidence']\n",
    "        false_summary_by_model['Error_Count'] = false_summary_by_model['Total_Predictions'] - false_summary_by_model['Correct_Count']\n",
    "        false_summary_by_model['Error_Rate'] = (1 - false_summary_by_model['Accuracy']) * 100\n",
    "        false_summary_by_model = false_summary_by_model.reset_index()\n",
    "        \n",
    "        false_summary_file = export_dir / f\"error_analysis_by_model_{timestamp}.csv\"\n",
    "        false_summary_by_model.to_csv(false_summary_file, index=False)\n",
    "        print(f\"Error analysis by model exported: {false_summary_file}\")\n",
    "        \n",
    "        # Export error analysis by KBLI code\n",
    "        kbli_error_analysis = df.groupby('kbli_code').agg({\n",
    "            'is_correct': ['count', 'sum', 'mean'],\n",
    "            'confidence_score': 'mean'\n",
    "        }).round(3)\n",
    "        kbli_error_analysis.columns = ['Total_Predictions', 'Correct_Count', 'Accuracy', 'Avg_Confidence']\n",
    "        kbli_error_analysis['Error_Count'] = kbli_error_analysis['Total_Predictions'] - kbli_error_analysis['Correct_Count']\n",
    "        kbli_error_analysis['Error_Rate'] = (1 - kbli_error_analysis['Accuracy']) * 100\n",
    "        kbli_error_analysis = kbli_error_analysis.reset_index()\n",
    "        \n",
    "        # Sort by error rate (descending) for problematic codes\n",
    "        kbli_error_analysis = kbli_error_analysis.sort_values('Error_Rate', ascending=False)\n",
    "        \n",
    "        kbli_error_file = export_dir / f\"error_analysis_by_kbli_{timestamp}.csv\"\n",
    "        kbli_error_analysis.to_csv(kbli_error_file, index=False)\n",
    "        print(f\"Error analysis by KBLI code exported: {kbli_error_file}\")\n",
    "        \n",
    "        # Export error consistency analysis (if 3 runs available)\n",
    "        if df['run_id'].nunique() == 3:\n",
    "            error_consistency = []\n",
    "            \n",
    "            for model in df['model'].unique():\n",
    "                model_data = df[df['model'] == model]\n",
    "                \n",
    "                for uuid in model_data['uuid'].unique():\n",
    "                    uuid_data = model_data[model_data['uuid'] == uuid]\n",
    "                    \n",
    "                    if len(uuid_data) == 3:\n",
    "                        errors = (~uuid_data.sort_values('run_id')['is_correct']).tolist()\n",
    "                        error_count = sum(errors)\n",
    "                        \n",
    "                        if error_count > 0:  # At least one error\n",
    "                            error_consistency.append({\n",
    "                                'uuid': uuid,\n",
    "                                'model': model,\n",
    "                                'text': uuid_data.iloc[0]['text'],\n",
    "                                'kbli_code': uuid_data.iloc[0]['kbli_code'],\n",
    "                                'run1_error': errors[0],\n",
    "                                'run2_error': errors[1],\n",
    "                                'run3_error': errors[2],\n",
    "                                'total_errors': error_count,\n",
    "                                'error_pattern': ''.join(['X' if x else 'O' for x in errors]),\n",
    "                                'avg_confidence': uuid_data['confidence_score'].mean(),\n",
    "                                'confidence_std': uuid_data['confidence_score'].std()\n",
    "                            })\n",
    "            \n",
    "            if error_consistency:\n",
    "                error_consistency_df = pd.DataFrame(error_consistency)\n",
    "                consistency_file = export_dir / f\"error_consistency_analysis_{timestamp}.csv\"\n",
    "                error_consistency_df.to_csv(consistency_file, index=False)\n",
    "                print(f\"Error consistency analysis exported: {consistency_file}\")\n",
    "        \n",
    "        # Add false classification stats to summary\n",
    "        summary_stats['false_classification_analysis'] = {\n",
    "            'total_false_predictions': len(false_classifications),\n",
    "            'overall_error_rate': (len(false_classifications) / len(df)) * 100,\n",
    "            'false_by_model': false_summary_by_model.set_index('model')['Error_Count'].to_dict(),\n",
    "            'avg_confidence_false': false_classifications['confidence_score'].mean(),\n",
    "            'avg_confidence_true': df[df['is_correct']]['confidence_score'].mean(),\n",
    "            'most_problematic_kbli': kbli_error_analysis.head(5)[['kbli_code', 'Error_Rate']].to_dict('records')\n",
    "        }\n",
    "        \n",
    "        print(f\"False classification analysis added to summary statistics.\")\n",
    "        \n",
    "    else:\n",
    "        print(\"No false classifications found - skipping false classification export.\")\n",
    "        summary_stats['false_classification_analysis'] = {\n",
    "            'total_false_predictions': 0,\n",
    "            'overall_error_rate': 0.0,\n",
    "            'note': 'No false classifications found in the dataset'\n",
    "        }"
   ]
  },
  {
   "cell_type": "code",
   "execution_count": null,
   "id": "835653ff",
   "metadata": {},
   "outputs": [],
   "source": [
    "    # 7. Generate README file for the export directory\n",
    "    readme_content = f\"\"\"# LLM Classification Analysis Results\n",
    "\n",
    "## Dataset Information\n",
    "- **Dataset Name**: {dataset_name}\n",
    "- **Analysis Date**: {datetime.now().strftime('%Y-%m-%d %H:%M:%S')}\n",
    "- **Total Records**: {len(df):,}\n",
    "- **Unique UUIDs**: {df['uuid'].nunique():,}\n",
    "- **Models Analyzed**: {', '.join(df['model'].unique())}\n",
    "- **KBLI Codes**: {df['kbli_code'].nunique():,}\n",
    "\n",
    "## Overall Performance\n",
    "- **Accuracy**: {df['is_correct'].mean():.3f} ({df['is_correct'].mean()*100:.1f}%)\n",
    "- **Average Confidence**: {df['confidence_score'].mean():.3f}\n",
    "- **Total False Classifications**: {len(df[df['is_correct'] == False]):,}\n",
    "\n",
    "## Files in this Directory\n",
    "\n",
    "### Core Analysis Files\n",
    "- `llm_results_cleaned_{timestamp}.csv` - Cleaned and processed dataset\n",
    "- `analysis_summary_{timestamp}.json` - Complete summary statistics\n",
    "- `voting_results_{timestamp}.csv` - Majority voting results across 3 runs\n",
    "- `kbli_performance_{timestamp}.csv` - Performance metrics by KBLI code\n",
    "\n",
    "### Model-Specific Analysis\n",
    "- `consistency_[model]_{timestamp}.csv` - Self-consistency analysis per model\n",
    "\n",
    "### Error Analysis Files\n",
    "- `false_classifications_detailed_{timestamp}.csv` - Detailed false classification records\n",
    "- `error_analysis_by_model_{timestamp}.csv` - Error statistics by model\n",
    "- `error_analysis_by_kbli_{timestamp}.csv` - Error analysis by KBLI code (sorted by error rate)\n",
    "- `error_consistency_analysis_{timestamp}.csv` - Error patterns across multiple runs\n",
    "\n",
    "## Usage Notes\n",
    "- All CSV files can be opened in Excel or imported into analysis tools\n",
    "- JSON summary file contains programmatic access to all statistics\n",
    "- Timestamp format: YYYYMMDD_HHMMSS\n",
    "- Error analysis files are only generated if false classifications exist\n",
    "\n",
    "## Next Steps\n",
    "1. Review error_analysis_by_kbli.csv for most problematic KBLI codes\n",
    "2. Examine false_classifications_detailed.csv for manual review of failures  \n",
    "3. Use voting_results.csv for final classification decisions\n",
    "4. Compare consistency files across different models\n",
    "\"\"\"\n",
    "\n",
    "    readme_file = export_dir / \"README.md\" \n",
    "    with open(readme_file, 'w', encoding='utf-8') as f:\n",
    "        f.write(readme_content)\n",
    "    print(f\"README file generated: {readme_file}\")"
   ]
  },
  {
   "cell_type": "code",
   "execution_count": null,
   "id": "5f5faf28",
   "metadata": {},
   "outputs": [],
   "source": [
    "    # 8. Validation and Summary of Export Organization\n",
    "    print(f\"\\n=== EXPORT ORGANIZATION VALIDATION ===\")\n",
    "    \n",
    "    # Validate that all models are properly accounted for\n",
    "    models_in_data = set(df['model'].unique())\n",
    "    source_files = df['source_file'].dropna().unique()\n",
    "    \n",
    "    print(f\"✓ Dataset: {dataset_name}\")\n",
    "    print(f\"✓ Models: {len(models_in_data)} ({', '.join(sorted(models_in_data))})\")\n",
    "    print(f\"✓ Source files: {len(source_files)}\")\n",
    "    print(f\"✓ Total records: {len(df):,}\")\n",
    "    print(f\"✓ Export location: {export_dir}\")\n",
    "    \n",
    "    # Check if dataset name makes sense given the source files\n",
    "    if dataset_name == \"unknown_dataset\":\n",
    "        print(\"⚠️  Warning: Could not determine dataset name from source files\")\n",
    "        print(\"   Using 'unknown_dataset' - you may want to rename the export directory\")\n",
    "    \n",
    "    # Check for model consistency across files\n",
    "    model_file_mapping = df.groupby('source_file')['model'].unique().to_dict()\n",
    "    print(f\"\\n=== MODEL-FILE MAPPING ===\")\n",
    "    for file, models in model_file_mapping.items():\n",
    "        if len(models) > 1:\n",
    "            print(f\"⚠️  {file}: Multiple models found ({', '.join(models)})\")\n",
    "        else:\n",
    "            print(f\"✓ {file}: {models[0]}\")\n",
    "    \n",
    "    # Summary of what will be exported\n",
    "    export_files = [\n",
    "        f\"llm_results_cleaned_{timestamp}.csv\",\n",
    "        f\"analysis_summary_{timestamp}.json\",\n",
    "        f\"voting_results_{timestamp}.csv\",\n",
    "        f\"kbli_performance_{timestamp}.csv\",\n",
    "        \"README.md\"\n",
    "    ]\n",
    "    \n",
    "    # Add model-specific files\n",
    "    for model in models_in_data:\n",
    "        export_files.append(f\"consistency_{model.replace('-', '_')}_{timestamp}.csv\")\n",
    "    \n",
    "    # Add error analysis files if false classifications exist\n",
    "    if len(df[df['is_correct'] == False]) > 0:\n",
    "        export_files.extend([\n",
    "            f\"false_classifications_detailed_{timestamp}.csv\",\n",
    "            f\"error_analysis_by_model_{timestamp}.csv\",\n",
    "            f\"error_analysis_by_kbli_{timestamp}.csv\",\n",
    "            f\"error_consistency_analysis_{timestamp}.csv\"\n",
    "        ])\n",
    "    \n",
    "    print(f\"\\n=== FILES TO BE EXPORTED ({len(export_files)} files) ===\")\n",
    "    for i, file in enumerate(export_files, 1):\n",
    "        print(f\"{i:2d}. {file}\")\n",
    "    \n",
    "    print(f\"\\n=== READY TO PROCEED WITH EXPORT ===\")\n",
    "    print(f\"Timestamp: {timestamp}\")\n",
    "    print(f\"All files will be saved to: {export_dir}\")"
   ]
  },
  {
   "cell_type": "markdown",
   "id": "6dcab64f",
   "metadata": {},
   "source": [
    "## 8. Summary and Conclusions\n",
    "\n",
    "### Key Findings\n",
    "\n",
    "This analysis provides comprehensive insights into the LLM classification performance:\n",
    "\n",
    "1. **Self-Consistency Analysis**: Evaluates agreement across 3 runs per UUID\n",
    "2. **Confidence Calibration**: Examines relationship between confidence scores and accuracy\n",
    "3. **Model Comparison**: Compares performance across different Gemini model variants\n",
    "4. **KBLI Code Analysis**: Identifies which classification codes are most/least accurate\n",
    "5. **False Classification Analysis**: Deep dive into incorrect predictions to understand error patterns\n",
    "   - Error rate distribution across models and KBLI codes\n",
    "   - Confidence characteristics of false classifications\n",
    "   - Text length and temporal patterns in errors\n",
    "   - Error consistency across multiple runs\n",
    "   - Common failure modes and problematic cases\n",
    "\n",
    "### Next Steps\n",
    "\n",
    "1. **Voting Implementation**: Use majority voting results for final classifications\n",
    "2. **Error Analysis**: Investigate cases with low confidence or disagreement\n",
    "3. **False Classification Review**: Focus on patterns identified in error analysis\n",
    "   - Review cases with unanimous errors (all 3 runs incorrect)\n",
    "   - Investigate KBLI codes with highest error rates\n",
    "   - Analyze alternative code suggestions for failed cases\n",
    "4. **Model Optimization**: Consider fine-tuning based on performance patterns\n",
    "5. **Quality Control**: Flag uncertain predictions for manual review\n",
    "\n",
    "### Data Export Summary\n",
    "\n",
    "### Data Export Summary\n",
    "\n",
    "All analysis results have been saved to the `reports/analysis_results/pilot/{dataset_name}/` directory:\n",
    "- Cleaned dataset with standardized formats\n",
    "- Self-consistency analysis per model\n",
    "- Voting results with majority decisions\n",
    "- KBLI code performance metrics\n",
    "- **False classification detailed analysis**\n",
    "- **Error patterns and consistency analysis**\n",
    "- **Problematic KBLI codes and model comparison**\n",
    "- Summary statistics in JSON format\n",
    "\n",
    "The export directory is automatically organized by dataset name for better organization and tracking of different analysis runs.\n",
    "\n",
    "The exported data can be used for further analysis, reporting, or integration into the classification pipeline."
   ]
  }
 ],
 "metadata": {
  "kernelspec": {
   "display_name": "base",
   "language": "python",
   "name": "python3"
  },
  "language_info": {
   "codemirror_mode": {
    "name": "ipython",
    "version": 3
   },
   "file_extension": ".py",
   "mimetype": "text/x-python",
   "name": "python",
   "nbconvert_exporter": "python",
   "pygments_lexer": "ipython3",
   "version": "3.13.2"
  }
 },
 "nbformat": 4,
 "nbformat_minor": 5
}
